{
  "cells": [
    {
      "cell_type": "code",
      "execution_count": 6,
      "metadata": {
        "id": "_KRSO1YUTSo-"
      },
      "outputs": [],
      "source": [
        "path='https://jmcauley.ucsd.edu/data/amazon_v2/categoryFilesSmall/Software_5.json.gz'\n",
        "# 'https://jmcauley.ucsd.edu/data/amazon_v2/categoryFilesSmall/Appliances_5.json.gz'\n",
        "\n",
        "# 'https://jmcauley.ucsd.edu/data/amazon_v2/categoryFilesSmall/Digital_Music_5.json.gz'\n",
        "#'https://jmcauley.ucsd.edu/data/amazon_v2/categoryFilesSmall/Video_Games_5.json.gz'\n",
        "# 'https://jmcauley.ucsd.edu/data/amazon_v2/categoryFilesSmall/Books_5.json.gz'\n",
        "# 'https://jmcauley.ucsd.edu/data/amazon_v2/categoryFilesSmall/Appliances_5.json.gz'\n"
      ]
    },
    {
      "cell_type": "code",
      "execution_count": 7,
      "metadata": {
        "id": "V-hrxBz2XLe5"
      },
      "outputs": [],
      "source": [
        "import ssl\n",
        "\n",
        "ssl._create_default_https_context = ssl._create_stdlib_context"
      ]
    },
    {
      "cell_type": "code",
      "execution_count": 8,
      "metadata": {
        "colab": {
          "base_uri": "https://localhost:8080/"
        },
        "id": "93M6gdISTJgj",
        "outputId": "4943da30-f961-4900-b990-8d4f1f669181"
      },
      "outputs": [
        {
          "output_type": "stream",
          "name": "stdout",
          "text": [
            "Collecting wget\n",
            "  Downloading wget-3.2.zip (10 kB)\n",
            "  Preparing metadata (setup.py) ... \u001b[?25l\u001b[?25hdone\n",
            "Building wheels for collected packages: wget\n",
            "  Building wheel for wget (setup.py) ... \u001b[?25l\u001b[?25hdone\n",
            "  Created wheel for wget: filename=wget-3.2-py3-none-any.whl size=9655 sha256=a2526251552459ec62a7252f93c424f79a36a171910288612984b60d680aee89\n",
            "  Stored in directory: /root/.cache/pip/wheels/8b/f1/7f/5c94f0a7a505ca1c81cd1d9208ae2064675d97582078e6c769\n",
            "Successfully built wget\n",
            "Installing collected packages: wget\n",
            "Successfully installed wget-3.2\n"
          ]
        }
      ],
      "source": [
        "!pip install wget\n",
        "import wget\n"
      ]
    },
    {
      "cell_type": "code",
      "execution_count": 9,
      "metadata": {
        "id": "aNzMvhMOTLMJ"
      },
      "outputs": [],
      "source": [
        "filename = wget.download(path)"
      ]
    },
    {
      "cell_type": "code",
      "execution_count": 10,
      "metadata": {
        "id": "3ncGo7lNXiK1"
      },
      "outputs": [],
      "source": [
        "!gunzip '/content/Software_5.json.gz'"
      ]
    },
    {
      "cell_type": "code",
      "execution_count": 1,
      "metadata": {
        "colab": {
          "base_uri": "https://localhost:8080/"
        },
        "id": "0xXdNBcEYbGl",
        "outputId": "62c05775-a4ad-471a-f6f5-c4c4153a4688"
      },
      "outputs": [
        {
          "output_type": "stream",
          "name": "stdout",
          "text": [
            "Collecting stopwords\n",
            "  Downloading stopwords-1.0.1-py2.py3-none-any.whl (37 kB)\n",
            "Installing collected packages: stopwords\n",
            "Successfully installed stopwords-1.0.1\n"
          ]
        }
      ],
      "source": [
        "!pip install stopwords"
      ]
    },
    {
      "cell_type": "code",
      "execution_count": 2,
      "metadata": {
        "colab": {
          "base_uri": "https://localhost:8080/"
        },
        "id": "itOymzumYneY",
        "outputId": "2cab76cd-d0b1-46bb-b2ad-785f46d8de4e"
      },
      "outputs": [
        {
          "output_type": "stream",
          "name": "stdout",
          "text": [
            "Requirement already satisfied: nltk in /usr/local/lib/python3.10/dist-packages (3.8.1)\n",
            "Requirement already satisfied: click in /usr/local/lib/python3.10/dist-packages (from nltk) (8.1.7)\n",
            "Requirement already satisfied: joblib in /usr/local/lib/python3.10/dist-packages (from nltk) (1.3.2)\n",
            "Requirement already satisfied: regex>=2021.8.3 in /usr/local/lib/python3.10/dist-packages (from nltk) (2023.12.25)\n",
            "Requirement already satisfied: tqdm in /usr/local/lib/python3.10/dist-packages (from nltk) (4.66.2)\n"
          ]
        }
      ],
      "source": [
        "!pip install nltk"
      ]
    },
    {
      "cell_type": "code",
      "execution_count": 3,
      "metadata": {
        "colab": {
          "base_uri": "https://localhost:8080/"
        },
        "id": "XLn0g6tWY08a",
        "outputId": "97fc07d8-107c-4d33-fc99-9e939ef66f02"
      },
      "outputs": [
        {
          "output_type": "stream",
          "name": "stderr",
          "text": [
            "[nltk_data] Downloading package stopwords to /root/nltk_data...\n",
            "[nltk_data]   Unzipping corpora/stopwords.zip.\n"
          ]
        },
        {
          "output_type": "execute_result",
          "data": {
            "text/plain": [
              "True"
            ]
          },
          "metadata": {},
          "execution_count": 3
        }
      ],
      "source": [
        "import nltk\n",
        "nltk.download('stopwords')"
      ]
    },
    {
      "cell_type": "code",
      "execution_count": 4,
      "metadata": {
        "id": "I12W6snRX97c"
      },
      "outputs": [],
      "source": [
        "%matplotlib inline\n",
        "import re\n",
        "import seaborn as sbn\n",
        "import nltk\n",
        "import tqdm as tqdm\n",
        "import sqlite3\n",
        "import pandas as pd\n",
        "import numpy as np\n",
        "\n",
        "import string\n",
        "from nltk.corpus import stopwords\n",
        "stop = stopwords.words(\"english\")\n",
        "import matplotlib.pyplot as plt\n",
        "\n",
        "from sklearn.metrics import accuracy_score\n",
        "from sklearn.metrics import confusion_matrix\n",
        "from math import floor,ceil\n",
        "from nltk.stem.porter import PorterStemmer\n",
        "english_stemmer=nltk.stem.SnowballStemmer('english')\n",
        "\n",
        "from sklearn.feature_extraction.text import TfidfTransformer\n",
        "from sklearn.feature_extraction.text import CountVectorizer\n",
        "from sklearn.model_selection import train_test_split\n",
        "from sklearn.metrics import confusion_matrix\n",
        "from sklearn import metrics\n",
        "from sklearn.metrics import roc_curve, auc\n",
        "\n",
        "from sklearn.svm import LinearSVC\n",
        "\n",
        "from keras.models import Sequential\n",
        "from keras.layers import LSTM, Dense, Embedding\n",
        "\n",
        "\n",
        "# from gensim import summarization\n",
        "from nltk.tokenize import word_tokenize\n",
        "from sklearn.feature_extraction.text import TfidfVectorizer\n",
        "from sklearn.model_selection import train_test_split"
      ]
    },
    {
      "cell_type": "code",
      "execution_count": 11,
      "metadata": {
        "id": "aYOJ3gAlXtuR"
      },
      "outputs": [],
      "source": [
        "review_data = pd.read_json('/content/Software_5.json', lines=True)\n"
      ]
    },
    {
      "cell_type": "code",
      "execution_count": 12,
      "metadata": {
        "id": "ABDorNKGYK8v"
      },
      "outputs": [],
      "source": [
        "review_data=review_data.head(3000)"
      ]
    },
    {
      "cell_type": "markdown",
      "metadata": {
        "id": "xn45AOOYdaVi"
      },
      "source": []
    },
    {
      "cell_type": "code",
      "execution_count": 13,
      "metadata": {
        "colab": {
          "base_uri": "https://localhost:8080/",
          "height": 425
        },
        "id": "T3GkNttreY0U",
        "outputId": "d1095ca2-d0e2-40a0-b87e-5e89ba717334"
      },
      "outputs": [
        {
          "output_type": "display_data",
          "data": {
            "text/plain": [
              "<Figure size 640x480 with 1 Axes>"
            ],
            "image/png": "[encoded data removed]"
          },
          "metadata": {}
        }
      ],
      "source": [
        "counts = review_data['overall'].value_counts().sort_index()\n",
        "colors = plt.cm.tab10(np.arange(len(counts)))\n",
        "ax = counts.plot.bar(color=colors)"
      ]
    },
    {
      "cell_type": "code",
      "execution_count": 14,
      "metadata": {
        "id": "-lYn31B5WTpD"
      },
      "outputs": [],
      "source": [
        "data = {\n",
        "    'text': review_data['reviewText'].dropna(),\n",
        "    'label': review_data['overall']  # 1 for positive sentiment, 0 for negative sentiment\n",
        "}\n",
        "df = pd.DataFrame(data)\n",
        "\n",
        "# # Split the dataset into training and testing sets\n",
        "# X_train, X_test, y_train, y_test = train_test_split(df['text'], df['label'], test_size=0.2, random_state=42)\n"
      ]
    },
    {
      "cell_type": "code",
      "execution_count": 15,
      "metadata": {
        "colab": {
          "base_uri": "https://localhost:8080/",
          "height": 424
        },
        "id": "YOfqgJij3eIC",
        "outputId": "13483855-72ae-4e44-e235-41e9ed4e89be"
      },
      "outputs": [
        {
          "output_type": "execute_result",
          "data": {
            "text/plain": [
              "                                                   text  label\n",
              "0     I've been using Dreamweaver (and it's predeces...      4\n",
              "1     The demo is done with the PC version, with ref...      4\n",
              "2     If you've been wanting to learn how to create ...      5\n",
              "3     I've been creating websites with Dreamweaver f...      5\n",
              "4     I decided (after trying a number of other prod...      5\n",
              "...                                                 ...    ...\n",
              "2995  This package includeds Word, Excel, Powerpoint...      5\n",
              "2996  These comments focus primarily on Word and Exc...      2\n",
              "2997  I like the nice glass look and some of the new...      2\n",
              "2998  If you do any programming or statistical analy...      1\n",
              "2999                                       Good product      4\n",
              "\n",
              "[3000 rows x 2 columns]"
            ],
            "text/html": [
              "\n",
              "  <div id=\"df-1e702d56-597f-44cc-aa5c-8730b0f7818a\" class=\"colab-df-container\">\n",
              "    <div>\n",
              "<style scoped>\n",
              "    .dataframe tbody tr th:only-of-type {\n",
              "        vertical-align: middle;\n",
              "    }\n",
              "\n",
              "    .dataframe tbody tr th {\n",
              "        vertical-align: top;\n",
              "    }\n",
              "\n",
              "    .dataframe thead th {\n",
              "        text-align: right;\n",
              "    }\n",
              "</style>\n",
              "<table border=\"1\" class=\"dataframe\">\n",
              "  <thead>\n",
              "    <tr style=\"text-align: right;\">\n",
              "      <th></th>\n",
              "      <th>text</th>\n",
              "      <th>label</th>\n",
              "    </tr>\n",
              "  </thead>\n",
              "  <tbody>\n",
              "    <tr>\n",
              "      <th>0</th>\n",
              "      <td>I've been using Dreamweaver (and it's predeces...</td>\n",
              "      <td>4</td>\n",
              "    </tr>\n",
              "    <tr>\n",
              "      <th>1</th>\n",
              "      <td>The demo is done with the PC version, with ref...</td>\n",
              "      <td>4</td>\n",
              "    </tr>\n",
              "    <tr>\n",
              "      <th>2</th>\n",
              "      <td>If you've been wanting to learn how to create ...</td>\n",
              "      <td>5</td>\n",
              "    </tr>\n",
              "    <tr>\n",
              "      <th>3</th>\n",
              "      <td>I've been creating websites with Dreamweaver f...</td>\n",
              "      <td>5</td>\n",
              "    </tr>\n",
              "    <tr>\n",
              "      <th>4</th>\n",
              "      <td>I decided (after trying a number of other prod...</td>\n",
              "      <td>5</td>\n",
              "    </tr>\n",
              "    <tr>\n",
              "      <th>...</th>\n",
              "      <td>...</td>\n",
              "      <td>...</td>\n",
              "    </tr>\n",
              "    <tr>\n",
              "      <th>2995</th>\n",
              "      <td>This package includeds Word, Excel, Powerpoint...</td>\n",
              "      <td>5</td>\n",
              "    </tr>\n",
              "    <tr>\n",
              "      <th>2996</th>\n",
              "      <td>These comments focus primarily on Word and Exc...</td>\n",
              "      <td>2</td>\n",
              "    </tr>\n",
              "    <tr>\n",
              "      <th>2997</th>\n",
              "      <td>I like the nice glass look and some of the new...</td>\n",
              "      <td>2</td>\n",
              "    </tr>\n",
              "    <tr>\n",
              "      <th>2998</th>\n",
              "      <td>If you do any programming or statistical analy...</td>\n",
              "      <td>1</td>\n",
              "    </tr>\n",
              "    <tr>\n",
              "      <th>2999</th>\n",
              "      <td>Good product</td>\n",
              "      <td>4</td>\n",
              "    </tr>\n",
              "  </tbody>\n",
              "</table>\n",
              "<p>3000 rows × 2 columns</p>\n",
              "</div>\n",
              "    <div class=\"colab-df-buttons\">\n",
              "\n",
              "  <div class=\"colab-df-container\">\n",
              "    <button class=\"colab-df-convert\" onclick=\"convertToInteractive('df-1e702d56-597f-44cc-aa5c-8730b0f7818a')\"\n",
              "            title=\"Convert this dataframe to an interactive table.\"\n",
              "            style=\"display:none;\">\n",
              "\n",
              "  <svg xmlns=\"http://www.w3.org/2000/svg\" height=\"24px\" viewBox=\"0 -960 960 960\">\n",
              "    <path d=\"M120-120v-720h720v720H120Zm60-500h600v-160H180v160Zm220 220h160v-160H400v160Zm0 220h160v-160H400v160ZM180-400h160v-160H180v160Zm440 0h160v-160H620v160ZM180-180h160v-160H180v160Zm440 0h160v-160H620v160Z\"/>\n",
              "  </svg>\n",
              "    </button>\n",
              "\n",
              "  <style>\n",
              "    .colab-df-container {\n",
              "      display:flex;\n",
              "      gap: 12px;\n",
              "    }\n",
              "\n",
              "    .colab-df-convert {\n",
              "      background-color: #E8F0FE;\n",
              "      border: none;\n",
              "      border-radius: 50%;\n",
              "      cursor: pointer;\n",
              "      display: none;\n",
              "      fill: #1967D2;\n",
              "      height: 32px;\n",
              "      padding: 0 0 0 0;\n",
              "      width: 32px;\n",
              "    }\n",
              "\n",
              "    .colab-df-convert:hover {\n",
              "      background-color: #E2EBFA;\n",
              "      box-shadow: 0px 1px 2px rgba(60, 64, 67, 0.3), 0px 1px 3px 1px rgba(60, 64, 67, 0.15);\n",
              "      fill: #174EA6;\n",
              "    }\n",
              "\n",
              "    .colab-df-buttons div {\n",
              "      margin-bottom: 4px;\n",
              "    }\n",
              "\n",
              "    [theme=dark] .colab-df-convert {\n",
              "      background-color: #3B4455;\n",
              "      fill: #D2E3FC;\n",
              "    }\n",
              "\n",
              "    [theme=dark] .colab-df-convert:hover {\n",
              "      background-color: #434B5C;\n",
              "      box-shadow: 0px 1px 3px 1px rgba(0, 0, 0, 0.15);\n",
              "      filter: drop-shadow(0px 1px 2px rgba(0, 0, 0, 0.3));\n",
              "      fill: #FFFFFF;\n",
              "    }\n",
              "  </style>\n",
              "\n",
              "    <script>\n",
              "      const buttonEl =\n",
              "        document.querySelector('#df-1e702d56-597f-44cc-aa5c-8730b0f7818a button.colab-df-convert');\n",
              "      buttonEl.style.display =\n",
              "        google.colab.kernel.accessAllowed ? 'block' : 'none';\n",
              "\n",
              "      async function convertToInteractive(key) {\n",
              "        const element = document.querySelector('#df-1e702d56-597f-44cc-aa5c-8730b0f7818a');\n",
              "        const dataTable =\n",
              "          await google.colab.kernel.invokeFunction('convertToInteractive',\n",
              "                                                    [key], {});\n",
              "        if (!dataTable) return;\n",
              "\n",
              "        const docLinkHtml = 'Like what you see? Visit the ' +\n",
              "          '<a target=\"_blank\" href=https://colab.research.google.com/notebooks/data_table.ipynb>data table notebook</a>'\n",
              "          + ' to learn more about interactive tables.';\n",
              "        element.innerHTML = '';\n",
              "        dataTable['output_type'] = 'display_data';\n",
              "        await google.colab.output.renderOutput(dataTable, element);\n",
              "        const docLink = document.createElement('div');\n",
              "        docLink.innerHTML = docLinkHtml;\n",
              "        element.appendChild(docLink);\n",
              "      }\n",
              "    </script>\n",
              "  </div>\n",
              "\n",
              "\n",
              "<div id=\"df-08d36e1a-20d1-4fa1-b275-29392f11535f\">\n",
              "  <button class=\"colab-df-quickchart\" onclick=\"quickchart('df-08d36e1a-20d1-4fa1-b275-29392f11535f')\"\n",
              "            title=\"Suggest charts\"\n",
              "            style=\"display:none;\">\n",
              "\n",
              "<svg xmlns=\"http://www.w3.org/2000/svg\" height=\"24px\"viewBox=\"0 0 24 24\"\n",
              "     width=\"24px\">\n",
              "    <g>\n",
              "        <path d=\"M19 3H5c-1.1 0-2 .9-2 2v14c0 1.1.9 2 2 2h14c1.1 0 2-.9 2-2V5c0-1.1-.9-2-2-2zM9 17H7v-7h2v7zm4 0h-2V7h2v10zm4 0h-2v-4h2v4z\"/>\n",
              "    </g>\n",
              "</svg>\n",
              "  </button>\n",
              "\n",
              "<style>\n",
              "  .colab-df-quickchart {\n",
              "      --bg-color: #E8F0FE;\n",
              "      --fill-color: #1967D2;\n",
              "      --hover-bg-color: #E2EBFA;\n",
              "      --hover-fill-color: #174EA6;\n",
              "      --disabled-fill-color: #AAA;\n",
              "      --disabled-bg-color: #DDD;\n",
              "  }\n",
              "\n",
              "  [theme=dark] .colab-df-quickchart {\n",
              "      --bg-color: #3B4455;\n",
              "      --fill-color: #D2E3FC;\n",
              "      --hover-bg-color: #434B5C;\n",
              "      --hover-fill-color: #FFFFFF;\n",
              "      --disabled-bg-color: #3B4455;\n",
              "      --disabled-fill-color: #666;\n",
              "  }\n",
              "\n",
              "  .colab-df-quickchart {\n",
              "    background-color: var(--bg-color);\n",
              "    border: none;\n",
              "    border-radius: 50%;\n",
              "    cursor: pointer;\n",
              "    display: none;\n",
              "    fill: var(--fill-color);\n",
              "    height: 32px;\n",
              "    padding: 0;\n",
              "    width: 32px;\n",
              "  }\n",
              "\n",
              "  .colab-df-quickchart:hover {\n",
              "    background-color: var(--hover-bg-color);\n",
              "    box-shadow: 0 1px 2px rgba(60, 64, 67, 0.3), 0 1px 3px 1px rgba(60, 64, 67, 0.15);\n",
              "    fill: var(--button-hover-fill-color);\n",
              "  }\n",
              "\n",
              "  .colab-df-quickchart-complete:disabled,\n",
              "  .colab-df-quickchart-complete:disabled:hover {\n",
              "    background-color: var(--disabled-bg-color);\n",
              "    fill: var(--disabled-fill-color);\n",
              "    box-shadow: none;\n",
              "  }\n",
              "\n",
              "  .colab-df-spinner {\n",
              "    border: 2px solid var(--fill-color);\n",
              "    border-color: transparent;\n",
              "    border-bottom-color: var(--fill-color);\n",
              "    animation:\n",
              "      spin 1s steps(1) infinite;\n",
              "  }\n",
              "\n",
              "  @keyframes spin {\n",
              "    0% {\n",
              "      border-color: transparent;\n",
              "      border-bottom-color: var(--fill-color);\n",
              "      border-left-color: var(--fill-color);\n",
              "    }\n",
              "    20% {\n",
              "      border-color: transparent;\n",
              "      border-left-color: var(--fill-color);\n",
              "      border-top-color: var(--fill-color);\n",
              "    }\n",
              "    30% {\n",
              "      border-color: transparent;\n",
              "      border-left-color: var(--fill-color);\n",
              "      border-top-color: var(--fill-color);\n",
              "      border-right-color: var(--fill-color);\n",
              "    }\n",
              "    40% {\n",
              "      border-color: transparent;\n",
              "      border-right-color: var(--fill-color);\n",
              "      border-top-color: var(--fill-color);\n",
              "    }\n",
              "    60% {\n",
              "      border-color: transparent;\n",
              "      border-right-color: var(--fill-color);\n",
              "    }\n",
              "    80% {\n",
              "      border-color: transparent;\n",
              "      border-right-color: var(--fill-color);\n",
              "      border-bottom-color: var(--fill-color);\n",
              "    }\n",
              "    90% {\n",
              "      border-color: transparent;\n",
              "      border-bottom-color: var(--fill-color);\n",
              "    }\n",
              "  }\n",
              "</style>\n",
              "\n",
              "  <script>\n",
              "    async function quickchart(key) {\n",
              "      const quickchartButtonEl =\n",
              "        document.querySelector('#' + key + ' button');\n",
              "      quickchartButtonEl.disabled = true;  // To prevent multiple clicks.\n",
              "      quickchartButtonEl.classList.add('colab-df-spinner');\n",
              "      try {\n",
              "        const charts = await google.colab.kernel.invokeFunction(\n",
              "            'suggestCharts', [key], {});\n",
              "      } catch (error) {\n",
              "        console.error('Error during call to suggestCharts:', error);\n",
              "      }\n",
              "      quickchartButtonEl.classList.remove('colab-df-spinner');\n",
              "      quickchartButtonEl.classList.add('colab-df-quickchart-complete');\n",
              "    }\n",
              "    (() => {\n",
              "      let quickchartButtonEl =\n",
              "        document.querySelector('#df-08d36e1a-20d1-4fa1-b275-29392f11535f button');\n",
              "      quickchartButtonEl.style.display =\n",
              "        google.colab.kernel.accessAllowed ? 'block' : 'none';\n",
              "    })();\n",
              "  </script>\n",
              "</div>\n",
              "    </div>\n",
              "  </div>\n"
            ],
            "application/vnd.google.colaboratory.intrinsic+json": {
              "type": "dataframe",
              "summary": "{\n  \"name\": \"df\",\n  \"rows\": 3000,\n  \"fields\": [\n    {\n      \"column\": \"text\",\n      \"properties\": {\n        \"dtype\": \"string\",\n        \"num_unique_values\": 1813,\n        \"samples\": [\n          \"I installed the 64 bit Premium. Since I was testing the Beta RC1 for a month so I expected what to see in the released version. After doing a clean install, I didn't have any problems with Vista recognizing my hardware except for my Epson photo printer which I expected since it wasn't compatitable in the Beta version.\\n\\nI ran into a couple of software compatitabilty issues.\\n\\nSince I have 2 hard drives, I kept XP on the other drive in case I have to play old games.\\n\\nI knew that Vista wasn't that much better than XP function wise but it did offer a different look with the Aero feature which meant I had to upgrade to higher end video card but it was worth it.\\n\\nI was very disappointed when I discovered that the defrag program didn't provide choice in what drive to defrag(I have 8 partitions) or any kind of status bar to view to actually see if the program is running.\\n\\nGet a third party defrag program.\\n\\nSetting up my network was a little tricky since the default workgroup name was changed to Workgroup from MSHOME in XP and I wasn't aware of that.\\n\\nI couldn't setup a new printer on my network XP laptop since it couldn't use the printer driver from my Vista computer. After going to the Vista Community forum, I discovered how to setup a new printer port on both computers.\\n\\nThe Sidebar is a nice feature. The control panel is more in depth\\n\\nOverall I'm disappointed that there wasn't a major change in Vista after 5 years of XP but it does have a lot of bells and whistles.\\n\\nPeople are saying that the $159.00 price tag is overpriced but you get a lot more than the Basic such as the Media Center program and Aero feature.\\n\\nIf you don't need the extras then buy the Basic. At least you have a choice in features.\\n\\nBut I do recommend keeping XP on a separate drive as a backup OS\",\n          \"I have windows vista Home Premium  and I tryed four diferent antivirus from diferent companies and no one works well I have programs conflicts and lot of errors on my Laptop, and then I bought Norton 360 and work Wonderful, this norton really protects your computer and detected malicious internet pages is a good security for my lap and my privacy.\\n\\nI'm happy and my Laptop too now works just like when I boght it 2 mounths a go\\n\\n*** update after a year using Norton 360****\\n\\nI decide to try a diferent antivirus uninstalled it which was not easy because is soo slow, after that my machine start to work faster, after I remove the Norton I couldn't belive who fast my laptop is now.\\n\\nI install the Nod 32 and then the Eset Smart Security 3.0.621.0 both are great. No more crashing, no more slow laptop now I have computer power\\nwith an antivirus that does what its supposed to do, monitor your system, not kill it or slowet So good bye Norton FOREVER , Hello Nod32.\\n\\nTry the free trial and you will love it.\\n\\nI highly highly recommend NOd32\",\n          \"This product removes inportant system settings, files, and information and causes your syetem to crash....it also picks up spyware parasite that only it can see and I found out why....iolo's SM is the parasite!!! That's right folks..it see's itself as a parasite invading your system that's why only SM picks up that one parasite every time you run a scan.  This software sucks and it nothing but a computer killer, I already lost a Compaq presario laptop to this useless software.  Use Windows Live One Care it's all you need.\"\n        ],\n        \"semantic_type\": \"\",\n        \"description\": \"\"\n      }\n    },\n    {\n      \"column\": \"label\",\n      \"properties\": {\n        \"dtype\": \"number\",\n        \"std\": 1,\n        \"min\": 1,\n        \"max\": 5,\n        \"num_unique_values\": 5,\n        \"samples\": [\n          5,\n          2,\n          3\n        ],\n        \"semantic_type\": \"\",\n        \"description\": \"\"\n      }\n    }\n  ]\n}"
            }
          },
          "metadata": {},
          "execution_count": 15
        }
      ],
      "source": [
        "df.dropna()"
      ]
    },
    {
      "cell_type": "code",
      "execution_count": null,
      "metadata": {
        "id": "lqjkmfA7h_ZR"
      },
      "outputs": [],
      "source": [
        "def data_clean( rev, remove_stopwords=True):\n",
        "    new_text =  re.sub(\"[^a-zA-Z]\",\" \", rev)\n",
        "    # words = new_text.lower().split()\n",
        "    words=nltk.tokenize.word_tokenize(new_text)\n",
        "    if remove_stopwords:\n",
        "        sts = set(stopwords.words(\"english\"))\n",
        "        words = [w for w in words if not w in sts]\n",
        "    ary=[]\n",
        "    eng_stemmer = english_stemmer\n",
        "    for word in words:\n",
        "        ary.append(eng_stemmer.stem(word))\n",
        "    return(words)"
      ]
    },
    {
      "cell_type": "code",
      "execution_count": null,
      "metadata": {
        "colab": {
          "base_uri": "https://localhost:8080/"
        },
        "id": "To2n-A7TqHxr",
        "outputId": "aa62c15f-0e0a-47cd-d673-ec48f210cfdc"
      },
      "outputs": [
        {
          "name": "stderr",
          "output_type": "stream",
          "text": [
            "[nltk_data] Downloading package punkt to /root/nltk_data...\n",
            "[nltk_data]   Unzipping tokenizers/punkt.zip.\n"
          ]
        },
        {
          "data": {
            "text/plain": [
              "True"
            ]
          },
          "execution_count": 24,
          "metadata": {},
          "output_type": "execute_result"
        }
      ],
      "source": [
        "import nltk\n",
        "nltk.download('punkt')"
      ]
    },
    {
      "cell_type": "code",
      "execution_count": null,
      "metadata": {
        "id": "Ct2q72t8h_Wd"
      },
      "outputs": [],
      "source": [
        "# clean_reviewData = []\n",
        "# for rev in review_data['reviewText']:\n",
        "#     clean_reviewData.append( \" \".join((data_clean(str(rev),True))))"
      ]
    },
    {
      "cell_type": "code",
      "execution_count": null,
      "metadata": {
        "id": "knnW5HokLKP6"
      },
      "outputs": [],
      "source": [
        "# type(clean_reviewData)"
      ]
    },
    {
      "cell_type": "code",
      "execution_count": null,
      "metadata": {
        "id": "V7lSulCxK7KY"
      },
      "outputs": [],
      "source": [
        "from gensim.parsing.preprocessing import remove_stopwords\n",
        "filtered_words = remove_stopwords(str(review_data['reviewText']))"
      ]
    },
    {
      "cell_type": "code",
      "execution_count": null,
      "metadata": {
        "colab": {
          "base_uri": "https://localhost:8080/"
        },
        "id": "lD_bkZ-eLvMA",
        "outputId": "c69504bc-ee83-4acd-e1e6-13412aaf5653"
      },
      "outputs": [
        {
          "data": {
            "text/plain": [
              "list"
            ]
          },
          "execution_count": 13,
          "metadata": {},
          "output_type": "execute_result"
        }
      ],
      "source": [
        "type(clean_reviewData)"
      ]
    },
    {
      "cell_type": "code",
      "execution_count": null,
      "metadata": {
        "colab": {
          "base_uri": "https://localhost:8080/"
        },
        "id": "mWJQlPQ_2KpM",
        "outputId": "75197fc3-9b23-474c-9d3f-5780793c7b01"
      },
      "outputs": [
        {
          "data": {
            "text/plain": [
              "['This awesome listen A must Slayer fans sadly needed triple disc set They many hits',\n",
              " 'bien',\n",
              " 'It great hear old stuff I like new stuff I recommend Slayer fan',\n",
              " 'well best bit poison normally bad pretty good I put hell await reign blood south seasons divine couple musica tracks everything god hates point best mean every cd mainly bad dose put great tracks live shows play much like skeletons society sex murder art Gemini rare track final six bonus track Christ illusion mystery cover songs unditstputed attitude cd would greatest hits collection I know also put couple live tracks could much worse great car',\n",
              " 'What I say This Casting Crowns This good blessing filled CD',\n",
              " 'Enjoy Casting Crowns songs',\n",
              " 'Another inspirational collection Very popular Christian group Another Favorites',\n",
              " 'I love song Slow Fade Casting Crowns especially put children version end song speaks everyone us careful itching ears may take faith attention away Lord watchful time put armour times gospel The song slow fade speaks live walk faith also still process finding walk faith intimate relationship Lord lyrics simply say people never crumble day slow fade give away true nobody changes night start careful feed minds body ears eyes soul body temple Lord keep holy live christ like life time certain times without people around us may get right ones slow fade make conscious decision change ways starts choices make feed body soul',\n",
              " 'This awesome album amazing Christian group Casting Crowns You go wrong album Amazing worth buy I think like Casting Crowns probably also like current new favorite artist I found myspace I think big Casting Crowns already starting see huge interest See reviews The Warehouse Band',\n",
              " 'I believe I written review album yet Maybe I buy amazon lol I love album pieces All way What This World Needs Every Man Slow Fade Jesus great awesome I privilege seeing band perform Norfolk Scope Norfolk VA back last November brother I tell band cares souls I new christian couple months prior I spirtual high already band lifted higher Casting Crowns one exceptional Contemporary Christian Bands would feel comfortable year old son daughter listen I Lifesong I knew much I enjoyed album still phenomenal work date picked debut album self titled Casting Crowns If want listen band actually loves Jesus wants everyone know I guarantee band fulfill craving',\n",
              " 'This latest effort Casting Crowns outstanding project As albums lyrically powerful great sound There several good songs album The album theme challenging Christians live faith time Sunday mornings There couple praise songs prayer song included also tracks message hard hitting believers As previous albums I think one produce several hit singles East To West already category Others good include What The World Needs Every Man Slow Fade I would highly recommend anyone already fan Casting Crowns For unfamiliar music I would recommend starting self titled debut In case well worth buying',\n",
              " 'I gotten ripped previously Casting Crowns reviews I gave stars instead doubt people go crazy review But said CD good Once Casting Crowns best write songs pointing finger church Yes good song If We Are The Body Does Anybody Hear Her What This World Needs gotten old It starts become annoying band harps one point especially one generalizing saying church supposed Move another topic This CD also lacks catchiness last albums And last CD solid songs album I get songs Musically average lyrics par Looking forward new David Crowder Band album though surely disappoint Hope Casting Crowns pulls together next album This one sell lot units stand test time It collect dust shelf',\n",
              " 'I remember first time I heard Casting Crowns radio several years ago It Mark Hall voice band music even harmonies sung drew It lyrics I going situation Voice Truth eloquently accurately addressed I honestly felt Lord meant hear song particular time I decided go ahead buy album found every song spoke volumes Now albums later Mark amazing ensemble musicians done They put together album speaks volumes heart I really like way Casting Crowns albums generally theme This album exception I find theme throughout album staying comfort zone also known middle ground safety zone But also addresses middle gray area deal daily basis doubt Mark sings good intentions comes stepping comfort zone God say way We give God list says I way I Fear usually biggest reason us step comfort zone I way pointing finger I find I probably guiltiest That said album truly helps understand I I remedy It inspires seek Lord His Word prayer meditation The first song album What This World Needs great way start album It rocky edge draws chorus know singing along I actually listen song several times I could fully appreciate Mark trying say Song Every Man This song references fact matter done Hope us Hope comes form Jesus Who knows feel understand going Slow Fade This amazing song helps us realize one goes fire Lord dabbling sin one day No instead slow fade Satan knows best attack gradual attack makes black white fade gray East West One favorites album This one songs album speaks personally It songs like I wonder maybe God giving Mark look heart As I one struggling issues like The Word Is Alive As title indicates song Bible It brings forth hope hopeless frail The Altar Door One favorites also The Altar Door musically lot offer It upbeat easy sing along This song one many teaches get caught middle lose follow altar door I believe guilty point walk Lord Somewhere Middle This absolute favorite song album several reasons One song easy sing along secondly deep song carries great amount meaning I really think anthem I admire Mark clever word play Fearless warriors picket fence Reckless abandon wrapped common sense deep water faith shallow end We caught middle eyes wide open differences The God want God What Mark illustrates contrary fickle body Christ We know right wrong know discern truth fiction yet stay middle ground safe easy instead standing right reminds great story three young men thrown fiery furnace I Know You There This song great One ladies Casting Crowns sings She terrific job able carry without problem This song knowing God always us Prayer Friend This song sounds close ballad closest getting caught world want nothing bring back Lord All Because Jesus This praise worship song I think one day sung churches world White Dove This song completely different anything Casting Crowns ever done I big fan though I applaud trying something different I highly recommend album anyone worships music I also recommend anyone feeling lost big world Casting Crowns great job helping listener connect connect God One note This album GREAT work I strength training cardio workouts album I also like jogging album',\n",
              " 'Christian soft rock group Casting Crowns taken Christian music world storm thanks two strong previous releases And third project continue trend The group captured audiences challenging lyrics great music There nothing earth shattering either work together create great music The disc starts rock anthem What This World Needs Think If We Body faster The song reminds us world needs Christ needs perfect outward appearances After heart counts The title album comes idea somewhere hearing church altar driving away door loose certainty conviction I say done That theme explored two songs The first title track really explains theme better I ever could And rather convicting hear struggle put words The second next track Somewhere Middle In fact phrase altar door shows song The song challenge get luke warm world often live As Casting Crown CDs one features couple worship songs And grab There nothing wrong I Know You There All Because Jesus special tracks My two favorite songs back back Slow Fade challenge men fall away faith It really drives home importance constantly standing guard one crumbles day It slower song haunting sound And ends lead singer Mark Hall daughter singing Because Little Eyes It enough give chills Appropriately enough next song East West As might guess song talks forgiveness It explores difficulty accepting God forgiveness weight shame try live As many songs lyrics powerful Musically surprises long time fan But fine music wonderful I surprised I worn Casting Crown first two releases I listened often This one certainly suffer fate',\n",
              " 'Elvis still best',\n",
              " 'Great cd',\n",
              " 'Outstanding',\n",
              " 'No one sings gospel songs true feelings God Jesus way Elvis I find gospel songs comforting I upset anything I think well His CD set songs called He Touched Me one favorites Sincerely Joan Wear Nashville TN',\n",
              " 'Great Album',\n",
              " 'OK',\n",
              " 'great',\n",
              " 'love',\n",
              " 'And I love It truly Elvis best The songs songs I know sing along I want I listen real Elvis sing kind songs loved best gospel A terrific collection',\n",
              " 'Michael Jackson always Been Badd period days Kid leading Jackson His Incredible Adult solo Run His Vocal Instrument alone touched many lives His Instrument Voice gone many styles Eras matter Era IN Sound vibe could always count MJ hanging tough His Voice Kid BluesMan Kid He explored many styles Influenced many era future Musicians songwriter composed Most Timeless songs Ever Stop Till Get Enough Billie Jean Beat It His Vocals Lead background captured people world back writer producer Arranger Instrumentalist conceptionilist etc He His Own Mount Rushmore Music Makers History Making Music new Listener His Musical Genius Great place Start',\n",
              " 'It hard imagine enigma many artists Whether pure genius mad hatter What music brings actually really count For Michael Jackson one tormented bith ways Arguably child molestation trial vindication many wonder ever heard Arguably test time Nevertheless accomplished innovator keeps showing music videos Although adequate collections need improvement anything loosely definitive The Essential Michael Jackson collection reflection career three folds Jackson Jacksons double album reflecting well received career The songs really remastered well still withstand test Michaels Moonwalking mayhem The collection includes biggest hits including Beat It Wan na Be Staring Something ABC I Just Can Stop Loving You Black Or White You Walk My World The compilation show quite lot like collections glitches parade The album overshadows Michael big tracks including Scream Janet Jackson Say Say Say Paul McCartney One More Chance last song Number Ones collection others die hard Jacko maniacs would want All Michael Jackson strange one kind Yet music keep everyybody rocking long time Hopefully try soon What ever reflection The Essential Michael Jackson one definitive hits collections Album Cover B Mastering A Songs B Price B Overall B',\n",
              " 'This almost definitive look Jackson career J solo There still star disc compilation Jackson future But none market But disc compiled chronologically move along nicely You get Jacksons biggest hits Michael early Motown solo hits So star package For one Dancing Machine cruel trick played Epic Legacy make buy one numerous J compilations song download The liner notes consist paragraphs worth anyone time And included Dangerous decent album cut essential Better choice would Working Day And Night All told bad CD Jackson Greatest Hits CD need',\n",
              " 'It Michael good',\n",
              " 'great album come Michael Jackson greatest hits huge Michael Jackson fan first album ever please get',\n",
              " 'outstanding album hits love percent',\n",
              " 'since I bought CD okay best music I already',\n",
              " 'love nuff said',\n",
              " 'Great',\n",
              " 'Very much cool Michael',\n",
              " 'Wow This CD full awesome songs Even takes back early start brings forth progressed career A must opinion I grew listening Jackson Michael Jackson',\n",
              " 'Great cd',\n",
              " 'Good',\n",
              " 'OK',\n",
              " 'Good',\n",
              " 'I pleased purchase I highly recommend',\n",
              " 'Great',\n",
              " 'I like',\n",
              " 'Favorites mikey one',\n",
              " 'Product advertised fast service',\n",
              " 'THIS IS A EXCELLENT CD',\n",
              " 'Great usual',\n",
              " 'Terrific CD Set Japanese Issue essential Michael Jackson hits Thirty Eight best hits meant played LOUD You go wrong set I love',\n",
              " 'Helps feel still alive',\n",
              " 'He knows beat Billie Jean boy FREAK',\n",
              " 'Classic',\n",
              " 'Wonderful music',\n",
              " 'good',\n",
              " 'Great',\n",
              " 'Classic Michael talent Once Michael fan always Michael fan This man took make us dance laugh cry There one Michael rest imitations',\n",
              " 'An amazing cd many awesome songs For steal songs Buy even like MJ end loving music It makes want clean dance sing happy Just puts good uplifting mood',\n",
              " 'stated listening jackson first hit radio stations coming chicago michael started solo career always stayed music far im concerned greatest entertainer ever',\n",
              " 'great songs After Michael Jackson Enough said filler words something Speaks For Itself',\n",
              " 'This two CD set contains every MJ classic tune could possibly think Thriller Beat It Man In The Mirror Smooth Criminal Billie Jean Plus much This collection must every MJ fan Highly recommend',\n",
              " 'I Jackson fan life Michael Jackson still reigns King Pop I first heard In Closet I saw video VH loved When I saw available kindle I thought time A classic Michael song Perfection I wish I could downloaded video well Hey kindle idea',\n",
              " 'I finally decided add The Essential Michael Jackson set collection almost perfect Unlike original release one comes digipak fold case hold CDs slits problem handle often plan uploading music iTunes etc avoid scratching discs The digipak case unfolds reveal cool photos Michael also get nice booklet provides photos plus complete details chart info etc song As music collection nice job representing BOTH Motown Epic years Michael Brothers Disc The first CDs jam packed total songs many featured single edits fine I already full versions The Bonus rd Disc nice treat could perfect I Be There Dancing Machine Scream Duet Janet included It however feature Michael duet Paul McCartney Say Say Say never appeared Jackson CD At rate I recommend affordable CD set fans want better Michael Jackson collection Number Ones ready purchase Ultimate Collection also failed include number classics',\n",
              " 'songs Michael Jackson top songs wow beat price I happy purchase',\n",
              " 'usually listen good music driving somewhere usually road trip take hours like Michael Jackson music never boring annoying sound quality great well',\n",
              " 'Good luck finding artist group putting every song hit one cd happen But want buy Cd lot Michael hits go wrong selection Pricing fair',\n",
              " 'nothing bad say product It works well use everyday nice easylove',\n",
              " 'I bit late becomming fan Mr Jackson unfortunately I trying catch works Hopefully I find CDs add collection CD great start I definitely recommend fans existing ones well new ones like',\n",
              " 'I purchased album iTunes Amazon album many Michael Jackson awesome works great one shot deal Some songs I never may young remembered like Ben Michael Jackson great house cleaning sitting traffic music',\n",
              " 'There denying impact Michael Jackson popular music course forty years From Jackson first No I want back Michael eleven untimely death age fifty I still high school Michael brothers released four consecutive No something even Beatles Despite Michael popularity I remained essentially casual fan I buy Michael Jackson album THRILLER album spawned seven hit singles sold million copies date I eventually bought HIStory later GREATEST HITS But looking one collection hit highlights brilliant career I bought mine Black Friday deal everything casual fan needs solo hits starting Got To Be There You Rock My World along sprinkling Jackson Jacksons hits The glaring omissions duets sister Janet Scream Paul McCartney Say Say Say Overall two half hours music changed landscape popular music forever This music belongs serious collector library ESSENTIAL Running time Disc Disc',\n",
              " 'The title says It classics popular MJ Hits CD pack must everyones collection',\n",
              " 'It secret Michael Jackson incredibly talented gifted musician fact also passion art must helped This two discs collection covering man entire career time little kid later years one famous person planet It serves example great music still amazing today Few artists impact MJ music industry Michael revolutionized Michael fashion MJ certainly interesting musical career The Essential Michael Jackson proof need could go Thriller best selling album time History best selling double disc album time Blood On The Dance Floor best selling remix album However point demonstrate Michael numerous accomplishments music industry good music The first songs greatest hits album Michael time Jackson Jacksons Then get songs Off The Wall songs Thriller Bad Dangerous History Invincible All hits would expect Don Stop Till You Get Enough Billie Jean Thriller Bad much There much say songs included great way deserving essential collection Besides Ultimate Collection boxed set compilation far comprehensive look Michael career It covers solo career early years child Jackson Jacksons nice feature compilation disc Michael Jackson compilations tend focused solo career I hide fact I little disappointed one song History Invincible Those latter years album huge hits Michael although History sold well went become successful double disc album time I still like thought songs albums could included They Don Care About Us Earth Song excellent songs History would excellent career spawning collection From Invincible I think Whatever Happens perhaps Butterflies It easy understand almost nothing albums included really match pop hits terms lyrics musicality much personal less accessible material Thriller Bad instance That aside The Essential Michael Jackson gives buyers really want hits well known songs I must add good job The Essential Michael Jackson excellent job going average compilation offers Michael hits best songs The fact covers entire career great get proper overview Jackson music For someone relatively new Michael Jackson music really The Essential Michael Jackson',\n",
              " 'While six months since tragic heartbreaking death Michael Jackson many people recently rediscovered made strong influential singer icon Not jokes labeled dogged past several years Nevertheless quite easy forget way recognized King Pop Yet several different greatest hits collections showcased Michael Jackson assertive pushing envelope everytime Back time acquitted well publicized child molestation charges Sony released The Essential Michael Jackson heartbreak endured Well earlier past year death released nicely expanded series Here result The Essential Michael Jackson expands made The Essential Michael Jackson strong introduction music whole new generation But overall handles bit better adding overlooked tracks showed Michael icon The songs remastered well collection showcases Michael incarnations brothers The Jackson The Jacksons solo efforts The collection includes lot great distictive tracks I Want You Back understated Enjoy Yourself well gems solo smashes Thriller Got To Be There Rock With You Don Stop Til You Get Enough well Man In The Mirror final major hit You Rock My World The extra disc also expands mostly well including Michael tracks sadly overshadowed like Say Say Say Paul McCartney deep They Don Care About Us intimate Stranger In Moscow Yet hits collection tracks sadly overlooked like Scream duet sister Janet Jackson Gone Too Soon video showed beloved chile Ryan White embattled AIDS songs like Childhood Earth Song Overall despite overshadowed songs The Essential Michael Jackson strong simple greatest hits album anyone yet Michael Jackson record wants remeber special enduring music industry If yet owned Michael Jackson record honestly would great place start listening pleasure R I P Michael rocked world many hearts along way Album Cover B Songs B Price B Remastering B Overall B',\n",
              " 'All Essential CD fantastic Heart Barry Manilow alot artist Essential collections Target This Michael Jackson collection also great All hits Jackson years Michaels hits including last You Rock World',\n",
              " 'Michael Jackson gave us much wonderful music lifetime two CD set showcases fine talent Michael consistently top game tracks dud bunch The quality sound two CDs excellent I like artwork well I Want You Back starts first CD Michael great job rest The Jackson sing play perfection beyond ABC catchy Got To Be There romantic song truly classic Michael genius clearly abundant even early age He sings Got To Be There heart soul never lets go single superfluous note either Rockin Robin infectiously catchy upbeat guitar solo Ben masterpiece even Michael singing song pet rat Michael excellent diction makes Ben even beautiful Enjoy Yourself Michael rest performing wonderfully got beat I always like much Blame It Boogie still perfect dancing nearly wherever yet another gem Shake Your Body Down To Ground Listen also Michael deliver Don Stop Til You Get Enough without ever skipping beat outstanding work sings Rock You Off The Wall great duet Paul McCartney entitled The Girl Is Mine Billie Jean huge hit Michael released remains one best tunes ever It got beat Beat It yet another jewel first CD Wan na Be Startin Somethin another catchy infectious tune sticks mind forever hear I especially like Thriller Thriller timeless one listen proves Bad another awesome tune features Michael squarely front center music fits perfectly vocals wisely never try steal show away MJ stands right front center belongs I Just Can Stop Loving You gets sensitive treatment Michael Siedah Garrett The Way You Make Me Feel pop music best Man Mirror meaningful tune sensitive flavor Michael superb job Another Part Me I love Black White well done Michael sings lots energy helps number lot Heal The World sweet easy ear music lacks nothing THAT good Remember The Time eerie sound nevertheless sounds really good truly classic pop Michael could Will You Be There uses choir background nice effect Dangerous beat You Are Not Alone one beautiful songs I ever heard wonder many people love Michael Jackson songs The second CD ends well MJ performing You Rock My World Awesome Michael Jackson fans consider must collections many songs makes perfect introduction MJ music newcomers discovering magic I highly recommend two CD set',\n",
              " 'This CD awesome I enjoyed much music inspiring He talent one else ever possess music CD shows I truly devastated loss MJ I still crying He live heart forever I wish negative people would known real MJ Listen words look various videos web regards children read court transcripts read book conspiracy You know acquitted totally innocent day one every juror knew God Bless beautiful children I looking forward day children older give interview wonderful DADDY',\n",
              " 'This Michael Jackson album need buy It essential hits tracks spanning entire career While tons hits individual albums songs hits good songs So need buy individual albums unless particular song essential album looking',\n",
              " 'Outside supernova explosions early Jackson Michael Jackson peak years Off The Wall Thriller In fact Thriller breakthrough extended length video dominated mainstream popular music amazing chart run Those years also however hosted rebellions mainstream punk new wave bands continually storming staid pavilions A lot people fed corporate crap top thinking pop band commodity tool Michael Jackson anything staid I mean Quincy Jones Industry creation though Jackson synthesized tension energy around reach creative zenith plunging music currency sexual politics well beyond dance floor blatherings typically decorate even genius killer grooves He produced toughest sophisticated work career Billie Jean That song touched widespread national conversation dangers responsibilites sex But big Thriller Michael Jackson never displayed confident ease sexuality Off Wall hits scarcely beloved best hitmakers Hall Oates point The opening Jackson bombs detonate preparing big early hits still deliver huge amount excitement This holds well Bad opening second CD slowly unwinds midway second disc completely disappears showcase embarassing schlock And includes DOA dance floor misfire Dangerous nothing illuminate beat cues cribbed Prince The Essential Michael Jackson shows tantalizing artist blazing short run shaping best dance grooves land actual cohesive songs I certainly love yet pretty obvious listening Essentials package Jackson place pantheon cushioned padding',\n",
              " 'Who would ever thought Michael Jackson would die era It seem real supposed die This collection hits almost good buying solo works I actually would rather individual album I time I already hundreds cds The Essential Michael Jackson makes sense content consolidation reasons But I still would like artwork tracks cds I feel like buying bought I went different stores SOLD OUT I finally got last copy I pay I think alot people buying cd trinket I actually want LISTEN music stop buying going hold hand stare drool As music I like Jackson stuff sounds dated songs overplayed I like Ben oppinion good song MJ really young They left Never Say Goodbye good Jackson song sucked All MJ hits ALL albums The song I pissed Jam I wish would included song I want go find copy Dangerous song Life complicated music industry always makes complicated music fans I really impressed pics liner notes could included better unreleased pics Michael I Michael Jackson fan even though I disconnected music child molestation stuff Now died I feel better paying tribute listening music After I lip sync Bad full costume high school drama class MJ part life God Bless u Michael world loved u One last note Farewell My Summer Love included cd song probably impossilble find I used',\n",
              " 'Even though Michael Jackson personal life rocked scandal I always approve antics I ignore cultural impact gifted performer child I born I remember hearing radio thought wow voice The song Dirty Diana Bad album It Dangerous album released I became fan Jackson Black White stellar video cd pure pop candy I ate After scandal broke I lost interest Jackson longer us I hope remembered music dancing ability one kind This collection greatest hits spectacular There couple Jackson classics course best tracks career like Thriller Billie Jean Human Nature The Man Mirror In Closet Shake Your Body Down Ground She Out My Life Will You Be There Don Stop Til You Get Enough He changed sound look pop music forever RIP Michael',\n",
              " 'Thjere many Michael Jackson CD market This one however since captures big hits well represents two favorite albums Off The Wall Thriller His best songs Rock With You Don Stop Til You Get Enough Beat It Billie Jean The Girl Is Mine Human Nature etc well early hits Jackson Five great later albums like Bad Dangerous THIS IS THE BEST SOUNDING representation hits I ever heard There cuts Michael indeed American tragedy pop music icon If one CD logical choice My quibble omission Never Can Say Goodbye favorite Jackson Five song At one time selling one million albums CD day He changed course pop music history legacy live despite cynics Highly recommended',\n",
              " 'In Sony released without much fanfare terrific Essential Michael Jackson easily best Michael Jackson compilation available days It also released slightly different international version I recently picked China No I buy pirated CD hawking character street corner In fact I bought regular CD store Shanghai RMB US believe The international version The Essential Michael Jackson CDs tracks min differs slightly US version The Jacksons Can You Feel It replaces Enjoy Yourself improvement Somehow I Just Can Stop Loving You Bad lumped along middle Thriller songs CD obviously improvement The title track Dangerous left instead tracks HIStory second CD new material added Earth Song They Don Care About Us wash far I concerned although Earth Song remains greatly underappreciated tune How They Don Care About Us ended essential list head scratcher although I like song Would I bought ridiculous low price China Almost certainly But I glad I nothing else another memento trip China Chinese version comes Mandarin characters cover That aside The Essential Michael Jackson terrific album whether buy US version international version really showcases Michael Jackson best',\n",
              " 'Michael Jackson timeless Musical Genius He Owned Last Century Dick clark got right gave MJ Award Artist Last century nobody since captured whole World Musical Complete Attention soul Brother Dirty Gary Indiana songs showcases His Greatness Decades upon Decades His Vocal Range ability adapt Musical changes highlights Genius without Limits Michael Jackson DON OF MUSIC period Michael back day Event unto Himself many artists cover much Ground MJ past Present He changed game Popular Music songs made go get Penny Loafers get dance Songs reprensent wonderful time Music without Michael Jackson I even really care Music Cat Made Brother truly appreciate Art form Highest form',\n",
              " 'Isn unbelievable Another Michael Jackson compilation Many Jackson fans HISTORY PAST PRESENT AND FUTURE BOOK I NUMBER ONES ultimate disc CD DVD compilation This collection like latter aforementioned one features many Jackson time hits solo recordings Jackson recordings Jacksons recordings So put CD player turn volume get funky You glad',\n",
              " 'Michael Jackson biggest selling artist time Also one greatest artists time This rd greatest hits album row First get Number Ones album get Ultimate Box Set Edition Don get wrong I love Michael Jackson new material album The first Disc starts great missing one songs like Jackson I Be There Lovely One Heartbreak Hotel Never Can Say Goodbye But released Essential Jacksons Disc continues Off The Wall Thriller classics Starting Disc goes Bad singles one missing Liberian Girl single U K All singles Dangerous besides Jam I sure title cut Dangerous included That Jam Also final single Dangerous album included Gone Too Soon Now starts slip little We get song History One song Invincible No No Where Scream They Don Care About Us Stranger In Moscow Earth Song Childhood From Invincible Cry Butterflies also hit single One More Chance All titles missing Hopefully get new album soon anymore greatest hits album',\n",
              " 'This strong vibrant box set came months I sent copy uncle Georgia days came July Sony made smart move release Michael Jackson declared innocent This one like box set combines Jackson hits Jacksons hits solo hits going Past albums stopped Thriller goes even Invincible But favorites Got To Be There I Want You Back Shake Your Body Blame It On The Boogie Off The Wall Beat It Billie Jean In The Closet Remember The Time Another Part Of Me Bad Dirty Diana hummable song Smooth Criminal Dangerous You Rock My World The sound little loud I think wanted full complete listening experience listener The packaging said songs songs spectacular collection Michael hits I know people saying But Butterflies State Of Shock It must tough deciding put Michael always made quality music To Usher Justin Timberlake Omarion top singers dancers great artists need years business catch greatness artistry Michael Jackson Keep working I could play CDs night long favorites Can hear funky beats rhythms distance hear album going interstate miles road trip This yet another great compilation album Michael hits probably better Number Ones Get multiple copies send family members friends',\n",
              " 'Truth Michael Jackson needed disc collection much anybody Those single discs quite somebody still often called King Of Pop So pros cons I personally need Jackson material might I also think bit shy recent work I miss Earth Song duet Scream Janet However many best songs came Thriller Bad get In fact songs original Thriller album even Bad Plus get best Off The Wall earliest stuff The fact listening collection Michael Jackson almost like It Human Nature',\n",
              " 'Despite controversy occured Michael Jackson truly king pop truly one best recording voices ever You deny Michael Jackson one influential artists pop also Twentieth Century music THRILLER sold millions millions records continues sell stand test time This collaboration one complete MJ collaborations I seen This one contains Jackson solo career also contains work Jackson Unfortunately maybe disc set notable hits missing including I Be There standard song Jackson arsenal Otherwise probably complete compilation find MJ It wonderful reliving hits I Want You Back Billie Jean Thriller Wan na Be Startin Something Don Stop Til You Get Enough etc stars',\n",
              " 'When I saw Sony made Michael Jackson latest artist anthologized The Essential series I really surprised honest since series never actually covers magnitude I compelled say compiled collection wanted cash revived interest music guilty verdict If indeed case really matter since two disc The Essential Michael Jackson actually affordabel mosr part comprehensive collection person wants one Michael Jackson cd Now I cd I already four disc boxed set Thriller fan needs really I already must songs I feel I qualified write review If casual Jackson fan pretty much get stuff need Jackson hits though I Be There Dancing Machine strangely omitted early solo hits later Jacksons recoridngs hits trifecta best selling albums Off The Wall Thriller Bad Dangerous The hits album make well half collection You also get two post recordings megahit You Are Not Alone Top Ten single You Rock My World As entries Essential series compilations problems Judging many songs discs tracks bound edited Most songs single versions used hearing really bothered buy except Thriller loses magic without long intro footsteps approaching door etc Also tracks left I Be There I Wan na Be Where You Are Dancing Machine Ease On Down The Road Paul McCartney Say Say Say one Michael solo number ones omitted though may originally released Paul McCartney solo album rather one Michael State Of Shock The Jacksons collaboration Mick Jagger Janet Jackson duet scream However whole collection disappoint highly recommended casual fans',\n",
              " 'But lack completion As past Greatest Hits compilations Michael The Jacksons always filler thriller hits pits So compilation IS best far Pictures included best photos showing talented singer songwriter everchanging cosmetic mess The quality mastering far superior previous compilations including earlier hits Motown like I Want You Back ABC Got To Be There The track information informative I recall another compilation details But reason less star complete Essential added songs Essential type CD Granted hits top hits Over decades But Essential I Be There Dancing Machine They could left Dangerous never charted Leave Me Alone essential hit well The video bigger hit OK next Maybe Volume Essential',\n",
              " 'Whoa Where come Without hype media attention Sony released The Essential Michael Jackson tracks min perhaps ultimate Michael Jackson compilation CD tracks min cover period including Thriller album starting best known Jackson singles ABC I Want You Back shifting Jacksons It would better include State Shock Lovely One instead Enjoy Yourself CD finishes Thriller album tracks Baby Be Mine The Lady My Life still hard believe successfull album really many hits relased days radio tracks meant actual vinyl single releases This course Michael absolute best years ago CD tracks min compiles tracks Bad Dangerous finishes You Are Not Alone HIStory You Rock My World Invincible In words tunes post era rightfully even though HIStory Invincible albums nearly bad mediocre many would like believe The track arguably min already expense track Scream No duet sister Janet In end essential compilation better compilation available HIStory Vol Number Ones etc covers Jackson Jacksons era solo output It strange released without hype advertizing campaign main thing available Hihgly recommended',\n",
              " 'Classic',\n",
              " 'One best thrash albums band This whole record set standard others try reach Few would ever come close',\n",
              " 'C mon classic Metallica',\n",
              " 'These single disc remasters done cheap end They even bother paint disc The thing telling remastered little snippet booklet basically cover back page lyrics It fairly pedestrian I literally sent first disc back I thought disc I believe went cheap It literally almost impossible tell remastered disc The three disc Master Puppets release far best one affordable versions The remaster slight tweaking otherwise sounds nearly old disc Dynamic range still good metal If want revisit classics cheap editions way I wish given buyer clue differentiate besides small snippet cheap booklet Bare minimum quality digipack low cost I guess I expected kind decent booklet remaster',\n",
              " 'This album sounds great vinyl crackling new Blackened Records pressing great',\n",
              " 'Who ride lighting Sounds awesome remastered packaging better jewel cases Best bucks ever spent',\n",
              " 'For wondering CD indeed remastered Both album Kill Em All April release dates remastered versions simple reissues It sounds improved versus original CD release although drastically Enjoy',\n",
              " 'You love get mean time check rollingbaby com baby stroller info',\n",
              " 'Great stuff I album years ago I wanted get CD',\n",
              " 'I already one finest versions Ride Lightning CD basis comparison I able find many reviews new vinyl I purchased B N coupon store today share Amazon brethren I get new vinyl love add reviews I greatly depend I decent mid fi equipment really reference system certainly good enough expose quality inferior recording Japanese Technics SL AT e TC Yamaha RX V HD CD RX phones via Yamaha CDP S I prefer vinyl good margin though fault I find vocals little low mix Record dead flat free warps drilled dead center poly lined paper sleeve lyrics sheet download card Before playing The record cleaned A I via KABUSA EV Very quiet background dead silent tracks generous lead area dead wax I think overall time hair It may quiet metal record I far background darn sure best less The record volume overall tad low nothing easily overcome volume control I impressed point I seek new releases Kill em All Puppets despite Puppets issues according reviews So yeah mix sounds nice balanced good bass vocals recessed tad big deal IMO Very happy price quality Would recommend Kill EM All favorite Thrash era Metallica album bridges gab album puppets',\n",
              " 'Classic Metallica',\n",
              " 'Since Amazon lumped Elektra CD release album must specify release reviewing I reviewing karat Gold CD edition Ride Lightening remastered Steve Hoffman This Mobile Fidelity Sound Lab release people know I Miles Davis LP remasters sound amazing Now back track owned played hell Ride Lightening CD put Elektra While version sounds good Hoffman remaster blows CD edition water The album life organic sound sound harsh filtered The source material Mr Hoffman worked release original master tapes album While CD edition RTL sound much different original vinyl version go digital filtering possibly noise reduction things My reason buying version heard Metallica remastered Ride Lightening releasing box set album After hearing sound album box fallen victim loudness war searched alternative Snagging decently priced copy long print remaster luck part All say care sound stay far away RTL box set nice extras tempting yeah MFSL Steve Hoffman remaster way go Best sounding version RTL humble opinion',\n",
              " 'AWESOME ALBUM',\n",
              " 'Missing collection',\n",
              " 'A true classic metal fans solid album clunkers',\n",
              " 'I think one best albums The sound incredible whole bass work awesome Another must add collection You disappointed pick',\n",
              " 'TY',\n",
              " 'One best',\n",
              " 'great',\n",
              " 'Just got today I love Awesome Fantastic Amazon like Xmas Wonderland I shopping Great music store Great Amazon everything could ever imagine want',\n",
              " 'This album fantastic The playing attitude along great lyrics make one finest records behind MOP Black album',\n",
              " 'No Problem',\n",
              " 'Like handful albums I far larger CD collection album possession since I needless say I done review long time ago Straight point I really say absolute favorite Metallica album time As perfect follow Kill Em All sophomore album Ride Lighting marks point career prime quality brand thrash metal making name band rising prominence metal scene With dark eerie atmosphere coupled massive thundering guitars skull crushing drums raspy vocals metalhead existence dissatisfied upon even first listen never want skip songs Every one songs album perfect illustration defined true sound Metallica made great band From high speed neck breaking insanity songs Fight Fire With Fire Trapped Under Ice Creeping Death steady yet eerily menacing For Whom The Bell Tolls Fade To Black type metal album never fail disappoint true Metallica fan Honestly much I could say album said I could go day This friends TRUE Metallica prime defining sound revolutionary metal greatness know Sadly period career valued art staying true musicians would last beyond We know started care money sold mainstream going alternative direction ultimately destroying legitimacy metal band See review self titled Black Album least still album along Kill Em All Master Of Puppets And Justice For All remind us awesome band used All definitely one album makes sense consider true Metallica fan true metalhead general Just buy album already You know want HORNS UP M M',\n",
              " 'awesome',\n",
              " 'thrash metal classic',\n",
              " 'The songs album great They rip',\n",
              " 'Makes angry I listen good stuff',\n",
              " 'This Metallica meant played enjoyed loud clear It great album stars',\n",
              " 'I recently got Metallica I obsessed finding everything done This older album amazing I watched documentaries idea underground band makes success even cooler Every song great The Call Ktulu insane They extremely talented shows people like music much',\n",
              " 'I love album I still original vinyl picture disk wanted add CD collection In humble opinion best album Garage Days close second',\n",
              " 'METALLICA create THRASH masterpiece RIDE THE LIGHTNING After glorious debut KILL EN ALL METALLICA refined raw punk THRASH something meaningful While KILL EN ALL hallucinated young raw THRASH petard RIDE show mature side METALLICA introspective lyrics even powerful ballad FADE TO BLACK well opinion COMPLETE MASTERPIECE gens like title track FIGHT FIRE WITH FIRE FOR WHOM THE BELL TOLLS CREEPING DEATH WELL DONE METALLICA',\n",
              " 'Ride Lightning another example good metal music done great metal rock band The album like And Justice All dealing death certain songs like Fade Black For Whom Bell Tolls Creeping Death The album deep impact many songs album time I bought I dealing thoughts death Metallica music infulence release threw poems I wrote really help get threw dark period life But actual music amazing metal music within deep powerful lyrics So looking good thrash metal type music pick album see many songs enjoy maybe album help threw dark period going threw like help threw mine I wrote poems items I write',\n",
              " 'Sometimes need blow steam And I get tired boss work I find date I like rock roll Metallica rocking free world big time I one passionate fans I love way guitars sound like garbage truck going side cliff Sometimes I driving I pull ying yang playing hip hop way loud Ford Focus I flip switch stereo Ride Lightning blows high school BS road If parents let I going get Freedom tattoo neck one Lars Ulrich face right hand That way parents go night Lars alone court land stop us ANYTHING want',\n",
              " 'This awesome CD From start finish I love way CD starts slow guitar intro Fight Fire With Fire sudden gets face hard metal I love My favorite song Fade To Black favorite Metallica song time But every song album rocks Just shame eight tracks though I wish release bonus tracks outtakes something cool like',\n",
              " 'Ride Lightning one favorite Metallica album It presents fast harsh music lyrics respectively similar style Slayer I often state Ride Lightning Kill em All two progenitors thrash death metal albums',\n",
              " 'If new Metallica follow Master Of Puppets albums get metal fan anyways hands best For time little known metal band production really good Everyone top form James vocals little higher album adds charm album The band driven good material partly thanks Megadeth frontman Dave Mustaine And put together flawless album worthy every metal fan attention Fight Fire With Fire starts acoustic intro fades electric guitars fade All lead possibly fastest Metallica song ever This perfect opener great guitar work vocals definitely long list favorite songs Metallica every song lyrics album actually Ride The Lightning upper mid tempo song solid vocals nice riff verses Plus catchy chorus Overall good song For Whom The Bell Tolls might favorite Metallica song ever Granted stiff competition might This one nice groove This one still fairly heavy heavy past songs There good melodies guitar playing really good I hate give credit Lars drums really add power song Fade To Black first Metallica ballad It starts acoustic guitar electric leads It really chorus riff instrumental based chorus similar Black Sabbath lot And works fine The first verses slow ballad acoustic style song speeds bridge solo Overall good song Trapped Under Ice ballad good metal bands They come back fast paced thrasher This second fastest song album The song nice pace overall fun listen Escape kind pop song album Odd gets recognition This probably catchiest song album This one similar pacing Ride The Lightning It really good chorus yet another long list great songs Creeping Death another contender favorite Metallica song It fairly fast paced thrasher great horus It slower parts well great way close album Then instrumental I rate I really instrumentals It played fine I sure fans Overall metal fan new Metallica would surprising good place start You disappointed',\n",
              " 'Ride Lightning lot better opinion still great albums RTL best early thrash speed metal also progressive influences would show next releases Ride Lightning perfect mix classic The band matured also previous musically lyrically darker first album It also first album feature Cliff Burton bass every track replaced Ron McGovney original bassist Dave Mustaine fired formed Megadeth former Exodus guitarist Kirk Hammet replaced RTL first feature guitar The band gets line together All songs great Creeping Death personal favorite',\n",
              " 'This piece metal magic All songs glorious one songs classics Metallica really creates metal magic Ride Lightning The lyrics truly amazing sound finest thrash metal If like metal reeeeeeally listen absolutely classic',\n",
              " 'Metallica truly one forces reckoned genre music whether call Metal Heavy Metal Thrash little importance one greats While everyone opinion band would become lengthy career absolutely take away achievements great music put Metallica already proved great band debut album Kill Em All early real raw unpolished sound makes fan favorite Ride The Lightning expands formula Kill Em All shows bit maturity I mean debut great shows lot talent also shows lot anger seriously p teenagers You see certain progression development first album becoming band would release Master Puppets Ride dynamic solid album way also features tight musicianship lot youthful aggression still much present years later The opening song Fight Fire With Fire gentle guitar opening gives impression going slower softer song usual Metallica WRONG It soon changes suddenly becomes fast perhaps one fastest Metallica songs Excellent track begin excellent album The title track Ride remains day one favorite Metallica songs incredibly fast solos powerful lyrics For Whom The Bell Tolls one iconic intros Metal amazing lyrics James take look sky die last time sounds nice Fade Black almost considered ballad band lyrics personal depressing yet song uplifting It slower song Metallica progressively gets heavier song strong feel hard overlook great In fact one favorite Metallica track day Trapped Under Ice Escape Creeping Death also good songs ignored songs excellent often played live The Call Ktulu amazing minutes instrumental damn good one Ride The Lightning concept album mostly different types death ways dying shows song titles Ice electrocution others making Ride dark record Ride also last album Dave Mustaine receives credit credited two tracks title track instrumental The Call Ktulu James came particularly great lyrics Ride The Lightning usually really special Ride terrific guitar work courtesy James Hetfield Kirk Hammet excellent bass Cliff Burton solid drumming Lars Ulrich It would mistake overlook classic album album huge role impact Thrash movement These songs classic Metal tracks hardcore fan type music worth salt knows already Some prefer early raw Metallica sound Kill Em All prefer acclaimed Master Puppets album With respect two amazing alums three first Metallica albums I say Ride The Lightning personal favorite three probably one I like best albums band done I love Master much next guy overplayed stuff overplayed well lesser degree As much I love rawness Kill Em All I think band better Ride Everyone entitled opinion mine Ride The Lightning amazing Metallica album features deep lyrics skillful guitar playing everything like band begin A total Metal album I much enjoy Ride years later one masterpiece landmark Thrash Metal metal general',\n",
              " 'When fans talk Metallica many refer first four albums thrash classics grouping together feature style fit genre What I see many people fail point Ride Lightning huge shift sound style Kill Em All The Black Album And Justice For All When Metallica wrote Kill Em All thrash subgenre heavy metal exist yet They influenced speed metal bands like Venom Motorhead produced debut album musical traits bands stamped clearly every song Starting Ride Lightning Metallica made full shift thrash essentially defining genre making far use shredding riffs melodic solos high speed double bass drumming While James still utilized scream tracks like Trapped Under Ice employed deeper overall tone used gruff delivery You really hear many similarities Kill Em All musically I mean songs Ride Lightning would sound right album In opinion none They showed incredible progression maturity wild intense nature Kill Em All controlled powerhouse approach Ride Lightning The album easy five stars bold statement right What metal fan know For Whom The Bell Tolls Fade Black heart Crushing thrash songs like Fight Fire With Fire title track Trapped Under Ice Creeping Death relentlessly aggressive Escape highlights melodic NWOBHM influence virtually non existent Kill Em All The perennial favorite Metallica instrumental The Call Ktulu rounds one greatest metal albums time It sound completely distinct others best songs Metallica catalog without question belongs collection heavy music',\n",
              " 'first know Metallica probably young Just buy beginning All songs master super heavy metal songs I remember many times heard album Fade blcak For bell tolls Creeping Death The call Ktullu songs amazing strong feeling hearing songs',\n",
              " 'It seems like Metallica turning band either love hate years go That pretty sad band essentially one time great metal bands time Some people say overrated Well I say I still enjoy music whole lot A majority albums living proof create powerful haunting music Ride The Lightning second album first without former member Dave Mustaine around masterpiece From beginning end pure brilliance Songs like Fade Black Creeping Death sure please every Metallica fan For Whom Bell Tolls personal favorite album also personal favorite band It five minutes pure awesomeness The Call Ktulu minute instrumental may boring I find melodies sounds completely engaging In short I describe songs mean sound like since I sure almost every reviewer page Metallica fans I conclude saying Ride The Lightning great metal album Grade',\n",
              " 'I bought album song For Whom The Bell Tolls watching Zombieland several times realizing one Metallica albums I Great addition Metallica collection',\n",
              " 'Ride Lightning Metallica nd studio album release truly incredible album The album produced best thrash metal I ever listened The songs I especially like For Whom The Bell Tolls Fade To Black All lyrics included book along photos band We also get list plays The album met rave reviews critics Allmusic Kerrang giving album high marks reviews',\n",
              " 'Metallica second album nothing short amazing riffs amazing solo epic vox stellar songs second none With classics like Ride The Lightning For Whom The Bell Tolls Trapped Ice Call ktulu etc album fine example thrash best Metallica second best album mostly due Mustaines amazing songs',\n",
              " 'This one best thrash metal albums ever raw powerful totally recomend old school metallica fan metal fan general But I put ahead Master Of Puppets',\n",
              " 'Talk Metallica albums usually passes Ride Lightning hear great Master Puppets transition black album general disgust St Anger The truth without Ride Lightning never would seen others Ride Lightning Metallica sophomore album represents quantum leap forward Kill Em All setting sound come known Metallica us The songs refined yet still feel raw predecessor While would later refined Master Puppets arguably greatest metal album ever album still masterpience containing Fade Black For Whom Bell Tolls well well done instrumental track The Call Ktulu Definitely essential pickup Metallica fan one first albums buy getting band',\n",
              " 'Metallica sophomore album Ride The Lightning certainly showcases interesting classic thrashers It hard imagine metal community nowadays would like without gems like album It seems album seemed overlooked one Metallica early catalogue considering Kill Em All generally considered birth thrash metal Master Puppets regarded Metallica magnum opus And Justice For All got Metallica mainstream attention music video One Regardless whether Ride The Lightning overlooked still classic every metalhead collection One interesting thing album still captured raw power fast energy Metallica debut seems thicker polished times epic sound Don get wrong though I still think The Four Horsemen debut one finest metal epics get full review Ride The Lightning simply read Fight Fire With Fire starts things classical acoustic guitar playing bit half minute Suddenly crushing riff rips way sound system hundred miles hour The massive drums crash ways fast furious headbanger evils pollution nuclear warfare The singing also raw James singing staccato pattern Do Un others As They Done Great way start album Ride The Lightning six half minute epic title track starts high pitched guitar notes going thrashy Devil Tritone riff Some epic guitar soloing featured along interesting storyline shows band capital punishment For Whom The Bell Tolls progressive five minute classic plenty great guitar riffs occupy first two minutes song The nastiest riff featured chorus wild guitar playing closes war song Fade To Black personal favorite mine one best songs album one best songs Metallica ever written Some sad beautiful acoustic guitar work opens lovely electric solo Mournful poetic lyrics occupy verses comes powerful chorus riff More great guitar soloing fills rest song Trapped Under Ice another heavy song struggle featuring dirty riffage wild soloing definitely makes worthy album Escape melodic radio friendly sounding song nonetheless great track well A bit shorter pretty cool song Creeping Death song defines thrash metal This overall great song got ta hear Its lyrics refer Seven Plagues story Moses Bible thrashing riffs pummel way brain And always Kirk Hammett shows us amazing guitarist screeches awesome guitar solos The Call Ktulu nine minute progressive instrumental A cool way end album odd mesmerizing tone features mighty powerful riffs drums alongside solos give song quite epic tone I personally prefer Orion Master Puppets song definitely great one So see Ride The Lightning undoubtedly classic metal album I seen ranked one top ten metal albums time give listen see All tracks strong songwriting great singing guitar bass drum playing Get along three Metallica releases even The Black Album interested Overall strong solid album I would recommend fans thrash metal heavy metal general Good job tallica guys Thanks time peace',\n",
              " 'This gets better every year fade black trapped ice reasons cd metal fan world without This album also themed way songs ways dying Fight Fire With Fire Nuclear War Ride The Lightning Electrocution For Whom The Bell Tolls On battlefield Fade To Black Suicide Trapped Under Ice Drowning Escape Difficult explain listen make mind Creeping Death Murder All songs classics great big crunchy guitar riffs thick heavy drumming powerful bass top great lyrics',\n",
              " 'stars history metal stars compares back day In short came heads turned banged hard Seemed miraculously heavy time course looks like Romper Room bands like Carcass etc none much tune two I love true heaviness comes ears extreme tightness drummer bassist kickdrum bass locked tight riff specifically guitars Here one great heavy rhythm players fine metal drummer But Lars James half band Kirk WAY overrated lead player prosaic uninspired miles someone like Randy Rhoads And man decades Cliff worship album proves legend often myth The bass playing merely average truly There dozens heavier tighter bassists Cliff may party monster added vibe way playing average Geddy Geezer Harris etc etc etc blow map That said fast furious highlights frankly everything top ahead beat gets wearing tunes About one minute Bell Tolls highlight everybody locks guitars finally bit back pocket everything gets much heavier fatter due That Black album hit hard producer Rock knew make groove much fatter got focusing melody well heaviness The Black poppy real metal good But neither good Puppets intense moments This great thrash album genre gets real old want music well power But power release want But really want go various FREEEEE Metallica tape trading sites get live shows later periods real heaviness lays Funny best stuff free Who says life always unfair',\n",
              " 'Metallica boldly appropriately named virtually impossible meaningful discussion Heavy Metal genre without mention made vast impact band made mid They lifted genre mindless juvenile topics wild sex drugs fast cars discussions serious topics meaninglessness war environmental disasters forth What U pop rock Metallica Metal blending intelligent topics good musicianship hence making genre accessible much wider audience ever In extended life Metal ensured audience time people interested synth pop ala Eurythmics Depeche Mode Howard Jones etc Metal owes great debt band ensuring endurance evolution genre day This version album comes mini lp replica sleeve mlps design well executed one best I ever seen The gatefold sleeve made good quality thick cardboard assembled well fear coming apart easily glue starts get old Also included page booklet lyrics Japanese For English ones need good magnifying glass read gatefold sleeve faithfully replicates original lp design Unfortunately sound quality original release hence remastered Although good standards quality good become used releases well remastered days For reason although content good I give version stars hard justify value proposition effectively paying mlps design already album I suppose already big fan well designed executed mlps sleeves may tempted cough mulah If sound remastered hence improved original cd I would hesitation give full stars recommend part hard earned dough With For Whom Bell Tolls Fade To Black getting two Metallica best ever tracks contentwise fault album decide overall value proposition version album worthy upgrade',\n",
              " 'After blistering debut Metallica delve psyche songbook fiercely traditional yet updated NWOBHM muse And difficult metal experience general songs debut cutting sharper knife whereas numbers tend pound repeated hammering blunter instrument Fight Fire With Fire perhaps similar songs debut perfectly thought album opener After however differences start seeping Ride The Lightning clocks six minutes I sure needs For Whom Bell Tolls redeems everything however excellent musical lyrical assault The production values album seem little dull production credit goes Metallica perhaps reason album always sounded like blasting away behind closed door But mental imagery band playing debut expanded release The essence metal lies within sinews songs Trapped Under Ice Creeping Death swirling robes apparition The Call Ktulu And literary references nice touch Speaking someone regularly defend metal friends hey refreshing able blow water examples mindless metal mayhem AND educated aspects All I would recommend total metal novice There accessable slabs metal But I would heartily recommend casual fan band wants explore earlier stuff In fact I recommend hard rock metal fans accumulate every album band debut Kill Em All black album If reason useful history lesson regarding harder end music spectrum',\n",
              " 'Ride Lightning one Metallica album seriously lot aggressive power remains classic day While I particularly thrilled moments overall much better many metal bands mid big hair constant partying chicks Metallica music remains fresh exciting years later This album REALLY underrated back mid People back know approach something much speed punch Fight Fire With Fire plodding guitar riff idea acoustic intro ripped couple old Black Sabbath tunes The verse melody horrible chorus decent Ride Lightning best part song second guitar intro I love Great chorus well remains memorable matter many times played Great guitar solo well Some parts solo remind mid Rainbow song called Light Black For Whom Bell Tolls let call way classic metal track way Iron Man Black Sabbath classic Fade Black softer number gradually builds much heavier typical Metallica track It really ballad It shame verse melody copied time time Metallica early Black Album early The original idea right album The lyrics sound emotionally honest though I like second half song even though parts guitar solo sound ripped Black Sabbath Snowblind Trapped Under Ice flashy guitar playing sounds like leftover Kill em All album Not bad thing mind Escape really good song though chorus sounds stuck dated sound I like way verse melody chugs along Great lyrics standards Creeping Death another memorable heavy speed metal track These guys clearly talented The guitar solo sure sounds like copied popular Scorpions song time Call Ktulu slow rocking build It really good minutes might tire people You need least one Metallica album collection none better one Get',\n",
              " 'RIDE THE LIGHTENING Metallica second album notable musical direction combining thrash metal symphonic much complex songwriting previously seen metal music When Metallica recorded debut nbsp data hook product link linked class link normal href Kill Em All dp B H E ref cm cr arp rvw txt ie UTF Kill Em All record brutal fast noholds barred The music barrels ahead nearly many different instrumental subtetlies flourishes Metallica would later use adorn music Instead focus play music loud fast humanly possible They sounded rather like contemporaries drawing overall musical milieu A lot bands NWOBHM New Wave British Heavy Metal covering lot territory Black Sabbath Diamond Head Iron Maiden Venom Motorhead early Def Leppard think nbsp data hook product link linked class link normal href On Through Night dp B F R ref cm cr arp rvw txt ie UTF On Through Night album hair metal stuff Saxon bands considered part movement Beginning record culminating AND JUSTICE FOR ALL Metallica changed approach Still retaining aggression attitude punk mixed loud bone crunching amalgamation heavy metal sound popularized major bands NWOBHM put progressive songwriting owes much classical music pop rock traditional heavy metal good idea RIDE THE LIGTHENING nbsp data hook product link linked class link normal href Master Puppets dp B H ref cm cr arp rvw txt ie UTF Master Puppets nbsp data hook product link linked class link normal href And Justice For All dp B H C ref cm cr arp rvw txt ie UTF And Justice For All nbsp sounds like Those three records I call progressive metal trilogy album song writing got complex symphonic As much I like KILL EM ALL album Metallica really comes While KILL EM ALL strong songwriting display complexity melodic integrity record All see Metallica opening sound Fire Fire The soft intro Battery MASTER feels like nod great acoustic intro opening track Fire Fire After mellow intro band kicks song high gear This shift clear evidence band mastering different dynamics integrating shifting tempos coherent song structure brutally fast like KILL EM ALL Ride Lightening one Metallica epic compositions Lyrically song sets themes powerless hostile situation theme Hetfield would often return For Whom Bell Tolls deals futility war another theme would revisit MASTER JUSTICE titled Earnest Hemingway novel One band famous early songs The intro pretty long two minutes Hetfield starts singing Fade Black notable first ballad ever commercially released band Just labeled sell outs load era mean diddn happen fore Those people hate LOAD RELOAD take note accusations Metallica sold first surfaced song due much departure band clearly established sound Now however fans critics well band considered one Metallica great songs The song much study dynamics primarily slower ballad Metallica works heavy passages song well The song deals mainly death considered suicide classic This one Metallica important songs showed band fan base lot band mind numbingly fast thrash Trapped Under Ice killer chorus work interesting lyrics Musically solid well The song absolutely intense guitar work Probably second weakest song though next Escape Metallica performed song four times live Escape one songs band never played live Written filler enough songs album band pretty much disavowed song While I know band hates much true easily weakest song entire album though necessarily bad par se It songs good Creeping Death written point view angel death coming kill first born Egypt remains one band principal early epics still one frequently played songs Drawing inspiration movie THE TEND COMMANDMENTS Cliff Burton made observation plague first born like creeping death band wanted use title liked much One band famous early songs one undeniable thrash classic And last definitely least The Call Ktula The second instrumental released band Anethestia Pulling Teeth KILL EM ALL last song primarily written David Mustaine Megadeath fame Metallica would record Originally entitled When Hell Freezes Over Cliff Burton song renamed H P Lovecraft fan referencing THE CALL OF CTHULHU Megadeath actually uses chords song Hanger Discounting two covers Tuesday Gone Mercyful Fate band fourth longest recording longest song RIDE THE LIGHTENING For money one favorite Metallica songs I really started listening album late song I would play It much better MASTER instrumental Orion Absolutely brilliant even Mustaine write Overall album would set Metallica artistic path would follow rest This album became truly progressive If Escape could arguably one top albums stands still one Metallica best records slightly flawed inclusion Escape And important hair metal spandex giving metal bad name bands like Metallica Iron Maiden still keeping hardcore music close roots Hair metal glam pop rather dated It Metallica credit albums stand well dated given recorded era Def Leppard Poison damn Brett Michaels Ratt Slaughter Warrant Stryper Europe Journey rather ridiculous bands commercial hair metal power ballads',\n",
              " 'This Metallica nd album already turning great thinking man heavy metal Sometimes I like think Metallica debut really first album became Metallica Many early fans bemoan Metallica later albums wanting return days thrash metal Kill Em All weakest album opinion They say sold using slower tempos multi instrumentation like pedal steel guitars hurdy gurdy The reality Metallica always ambitious nd album prove conclusively This fantastic album one really stood test time made years ago still sounds fresh today It loaded classic Metallica tracks The thrash opener Fight Fire Fire fantastic title track brilliant For Whom Bell Tolls magisterial signature track Fade Black another majestic signature track Creeping Death one time favorites brilliant prog influenced instrumental closes album The Call Ktulu It also interesting note Kirk Hammett much larger role album He co wrote many songs lead guitar seem thrown like Kill Em All This one favorite Metallica albums It nd step discography keeps getting better',\n",
              " 'Metallica second album first major record label Elektra entitled Ride Lightning also arguably best album ever First released August Ride Lightning considered metal masterpiece underground time release After promising debut album Kill em All Metallica comprised singer guitarist James Hetfield lead guitarist Kirk Hammett drummer Lars Ulrich late great bass player Cliff Burton band cult following got major record deal Elektra Records band went Denmark band producing using one time Rainbow engineer Flemming Rasmussen help record classic major label debut I found case I first got album May cassette The album starts Fight Fire With Fire first sounded like going ballad acoustic guitars clean electric guitars playing relaxing melody Hammett Hetfield guitars come screaming Ulrich drumming sounded like Bruce Lee speed Burton bass playing superb James vocals track sounded sinister We continue rocking album classic title cut classic thrashy cut tempo changes would make prog rockers happy Next another classic metal track For Whom Bell Tolls superb rocker beat sounds like marching war The first half ends Fade Black part ballad speeding IMHO Stairway Heaven like song starts soft picks softens gets harder harder big finale The album second half kicks classic thrash number called Trapped Under Ice superb Next another great metal number Escape However shame two great songs overlooked many We come one Metallica best pre masterworks Creeping Death would remain concert favorite rightfully cos song amazing We end album epic instrumental called The Call Ktulu sounds like band listening ELP Genesis Pink Floyd Yes piece filled tempo changes key changes stellar especially Hammett Burton solos guitar wah wah bass respectively While Ride Lightning scraped Top upon release without either radio MTV even mainstream media support album today third largest selling album five million copies sold US alone today Most Metallica fans onward probably like album us purists liked speed metal sound early days album Highly recommended',\n",
              " 'There many agruements best Metallica album I say Ride Lightning easily best effort might one top metal records ever made Every single song CD perfect every single tune heavy hell except Call Katula crunching end There way Metallica ever give us release like True Master Puppets great I think quite measures Ride Lightning Master really worn since I listened soooo much really doesnt anymore I still love Ride Lightning day I bought ENJOY',\n",
              " 'The division Kill Em All Ride The Lightning huge The albums sound like two different bands Amazing Where KEA juvenile garage bandish Ride The Lightning polished effort Don get wrong lot great songs came KEA Ride The Lightning better Fight Fire With Fire opens album back actual album never looks back Absolute pure shred Ride The Lightning Creeping Death Fade To Black For Whom The Bell Tolls All Classics Their first really professional effort Electra final batch Dave Mustaine co written tunes Clearly one greatest metal albums time Dig',\n",
              " 'Metallica Once brought conversation two things pop mans mind One historically important Thrash band made impact upon almost anybody cared listen historically important band practically changed name Nutallica also practically sold souls money Both true first fresh original important day still love songs The true Metallica last till best Although songs decently long length beautiful never want end This Metallica Metallica today minute songs containing stupid lyrics trash solos After Black album pay attention disappointed back album Kill em All beginning Metallica second album show growth maturity write important thing instead Hit lights Whiplash great songs important lyrically speaking Almost songs Death Not death sense Cannibal Corpse Hammer Smashed Face different issue makes point something important say With short break I show I mean Fight Fire Fire one best fastest metallica songs opinion This one Nuclear Warfare Ride Lightning Beautiful solos song happy stuck head This one Electric Chair For Whom Bell Tolls slower one important tracks It Spanish Civil war also something H P Lovecraft author Kirk fascination Fade Black friend mine finds relatively boring In opinion need right mood song But mood song rocks It Suicide I understand song also controversial man killed listening back Trapped Under Ice Great song solos great atmosphere great It well trapped ice Escape song death escaping town wants certain way therefore rebelling Remember still means good track classics Creeping Death It told eyes Grim Reaper An around great song I love middle part The Call Ktulu A beautiful instrumental H P lovecraft story I actually read one good read strange In opinion far better Orion Master Puppets opinion There something Ride Lightning I explain record It strange dusty feeling When glancing copy appears rather old unused even brand new copy Popping CD player production weird dusty feeling feeling But listening seems like gem relic one discovered attic old house It mystic atmosphere replicated understood really James voice also rough edge well Metallica records This favorite Metallica record I listen start finish NEVER become bored Anyone likes metal Metallica collection I consider best metal band history matter fact I give title band valuable history lesson world thrash Metallica great people listened metallica beautiful solos touching fun lyrics song meanings But want great drummer look elsewhere Lars easily disposable I could name insert number drummers better Lars enough get still moments talent though present day I think single person want punch face Well enough album find get collection enjoy Hoped helped',\n",
              " 'Metallica second album Ride Lightning first real metal album I ever bought When I bought I looking really heavy album first track began acoustic intro I sorely disappointed Luckily however I skipped next song title track booming intro brought big smile face Ah nostalgia With Kill Em All Metallica helped create thrash metal followed debut sophomore album released year later Most metalheads given credit deserves I feel Ride Lightning still somewhat underrated since album followed one Master Puppets Ride Lightning still fast Most shoots like well lightning slower darker heavier mature Kill Em All James voice somewhat lower lyrics improved As Amazon editorial review mentions James discusses several different ways die Armageddon capitol punishment suicide trapped ice etc Fight Fire Fire aforementioned acoustic intro tease last The power chords fade song becomes breakneck speed rip roaring almost Slayer esque guitar work Lyrically songs seems Apocalypse Ride Lightning album popular single It another thrashy number booming rhythms fiery chug churn riffs go fast faster slow fast awesome lengthy Hammett solo Ride Lightning good lyrics executed electric chair also surprise ending song instrumental For Whom Bell Tolls slower paced still loud heavy The first two minutes song instrumental beginning bell ringing heavy repetitive churning guitars kick This song another good winding solo near end Fade Black really morbid depressing introspective lyrics suicide It begins distant guitar solo acoustic strums actually make first part song rather pretty Pretty dark depressing way pretty nonetheless The choruses still heavy riffs end ascending cascading solo Trapped Under Ice fast paced another short sweet guitar solo near middle Escape vocals make radio ready good vocal hooks Most song propulsive riffs thunderous drumming choruses slower Creeping Death begins machine gun guitars drumming changing another fast beat guitars burn straight ahead And course another stellar solo near end The Call KTULU album instrumental In opinion song IS great Orion Metallica next album Master Puppets good way end album It starts slowly ominously wind wooshes suddenly becomes lot faster This song builds well superb guitar drum work So disc another wonderful landmark album still one best C D past two decades All qualities classic metal thrash metal album long songs minutes per song rapid fire riffs ripping solos instrumental track even acoustic guitar licks In conclusion want complete metal collection like heavy metal need album need next breath',\n",
              " 'In Metallica released sophmore album entitled RIDE THE LIGHTNING This album turned even better KILL EM ALL This album definite proving Metallica best Heavy Metal act This album sound could ever want Heavy Metal band FIGHT FIRE WITH FIRE This song astonishing Any self respecting Metallica fan would love song I sure hell love song RIDE THE LIGHTNING Ah The album incredible title track Can get enough song sure get better FOR WHOM THE BELL TOLLS When I said get better Ride The Lightning I wrong This album keeps getting better especially tune Damn frigging guys rock FADE TO BLACK This song favorite album All I listen song first time I start encore presentation If listen carefully notice song talking suicide Got ta love song TRAPPED UNDER ICE Incredible ESCAPE A great song great lyrics rockin sound CREEPING DEATH As much I love hearing one creeps title But I help I sing along James one THE CALL OF KTULU Instrumental song What album These guys know fans want Heavy Metal album This band definitely going long time So get buy album already',\n",
              " 'This Metallica second album Ride The Lighting released Although good Master Of Puppets still classic gem Picking debut album Kill Em ALL left Ride The Lightning better production The opening track Fight Fire With Fire starts little accoustic intro suddenly warps thrashing speed headbanging throughout The title cut another menacing headbanging track well For Whom The Bell Tolls awesome thrash ballad Fade To Black two band popular songs Creeping Death another great song course closing track The Call Of Ktulu epic instrumental James Hetfield vocals good rhythm guitarwork good well Kirk Hammet lead guitarwork splendid Cliff Burton bass lines menacing Lars Ulrich drumming good well Anyways great album part collection Buy R I P Cliff Burton themetalbeast ratings Fight Fire With Fire Ride The Lightning For Whom The Bell Tolls Fade To Black Trapped Under Ice Escape Creeping Death The Call Of Ktulu',\n",
              " 'Is everything lot cooler past For instance back Metallica known pounding crushing headbanging METAL known ripping fans liking money It sad state affairs But I digress Ride The Lightning easily one awesome headbanging skilled metal albums ever recorded It rightfully earns place every metalhead favorite album list Insane drumming loud riffs blistering solos actual melody worked mix THIS Metallica From intense apocolyptic opener Fight Fire With Fire epic For Whom The Bell Tolls beautifully written semi ballad Fade To Black course metal classic Creeping Death album grabs hold listener never lets go throughout whole album Anyway yeah one classic Buy steer clear emo',\n",
              " 'If Metallica Kill Em All wrote book thrash metal sophomore release Ride The Lightning wrote book metal capable It simply revolutionary time Since Kill Em All members Metallica seriously expanded talents technique approach groundbreaker Every track offers something new experimental The instruments improvement Hetfield lyrics much personal conscious The extended instrument arrangements blow everything Kill Em All water Tracks Fade To Black The Call Ktulu absolutely phenomenal works untouched standards And although debate Hammett guitar solos favorite album Check two half minute guitar solo Ride The Lightning left body covered goose bumps teen still day Other highlights include Fight Fire Fire For Whom Bell Tolls This album rocks epic proportions Overall Metallica ruled world point time There limits invention raw hardcore thrash metal I huge Metallica fan growing one got spun This absolute must anyone claims Metallica fan',\n",
              " 'THE ND ALBUM FROM METALLICA IS ANOTHER HEAVY METAL MASTERPIECE AND IT S QUITE POSSIBLY EVEN MORE ENTERTAINING THAN KILL EM ALL AMONG THE HIGHLIGHTS OF THE CD ARE TRAPPED UNDER ICE THE CALL OF KTULU FIGHT FIRE WITH FIRE AND FOR WHOM THE BELL TOLLS BETWEEN THE MONSTROUS GUITAR RIFFS AMD JAMES HETFIELD S INTENSE VOCALS I JUST CAN T GET ENOUGH OF IT FOR METALHADS THIS IS NONSTOP EXCITEMENT OTHERS SHOULDN T EVEN CHECK THIS OUT',\n",
              " 'This one Metallica pure best Classic songs good lyrics adrenaline youth The band really coming together one No MTV sell little real radio support boys pounding best songs Some little rough around edges production quality musicianship reached best next album one good',\n",
              " 'Metallica ride lightning great cd It tied foe favorite Metallica cd The best four songs cd Ride Lightning Fade Black For bell tolls Creeping Death My favorite two songs four creeping death ride lightning The four songs still good Overall Ride Lightning great cd one best Metallica',\n",
              " 'This album plain good well worth owning Ride lightning raw fast kill em heavier production better It step previous album GO OUT AND BUY THIS TODAY',\n",
              " 'Ride The Lightning one best albums thrash speed metal genre along next album Master Puppets Metallica best work While first album Kill Em All relied speed metal Ride The Lightning showed band expanding musical horizons songwriting abilities would lead breakthrough America Every track strong many becoming metal classics The band wrote best lyrics many tracks deal personal issues drugs death struggle within There much diversity found whether excellent speed metal Fight Fire With Fire Trapped Under Ice longer epics The Call Of Ktulu title track awesome Creeping Death The menacing For Whom The Bell Tolls Escape also strong tracks Then Fade To Black best track band ever recorded heavy metal Stairway To Heaven classic rock This simply incredible song several different movements lyrics tell man contemplating suicide The guitar solo Kirk Hammett song outro one best ever genre Simply one best albums ever recorded heavy metal Highly recommended',\n",
              " 'Although many people say The Black Album Master Puppets Metallica best albums get wrong great albums star worthy material Ride Lightning favorite Metallica quite possibly favorite thrash metal album I think stars enough Ride Lightning I easily give album Fight Fire With Fire starts soft intro turns thrash metalhead heaven killer song I love explosion end song Ride Lightning title track another Metallica classic although nearly fast previous song worthy enough enter inside thrash metalhead mind For Whom Bell Tolls starts tolling bell although I think much song first chorus lines helped like song tolling bells awesome Fade Black bit slower softer previous songs done Metallica slower song well Load stuff loud guitar somewhat reminds Black Sabbath Iron Man also classic songs come vein Fade Black Trapped Under Ice probably least favorite song album still good song especially compared post Black Album era Escape probably underrated song album I actually like song alot I wish thing said Metallica fans Creeping Death another standout album one heaviest songs album The Call Ktulu closing track believe I actually think much song I gave listens favorite song album I could listen song like times row never get tired Ride Lightning worth price song alone song easily one heavy metal best instrumentals time If never heard anything Metallica done Black Album Then going total surprise way Metallica first started liked later Metallica stuff get early stuff total thrash best worlds Metallica MTV Icons',\n",
              " 'songs metal gods raged guitars full drums Friends welcome PLANET METALLICA OLD SCHOOL STYLE I used listen album back second grade right step dad hauled school The songs really prepared another day learnin n fightin I loved pickin WIMPS recess Anyway last song CD best It long strong totally da bomb Check sometime These guys big Hooters franchise started internet Therefore results famous HAVE FUN',\n",
              " 'This album Shred Solos Powerful vocals Cliff It opinion Metallicas best work Fight Fire With Fire This shred best Ride The Lightning Killer Title track For Whom The Bell Tolls One Of Metallicas Best songs Fade To Black One Metallicas best songs easily top one Hammets best guitar solos Trapped Under Ice Metallicas underrated song opinion cause song awsome Escape A great metal song let slow anyone Creeping Death This one favorite Metallica songs I bought album really great song The Call Of Ktulu killer instrumental Dave Mustain Megadeath wrote band So tell classic Metallica album miss one best albums hands',\n",
              " 'Do remember Metallica used rock I mean still rock well sort remember used ROCK If I suggest get Ride The Lightning right If convinced check imaginary conversation potential customer hiphopforlife ME Welcome review Metallica second album Ride The Lightning I start let give background band Average Joe Whoa hold If name hiphopforlife reviewing Metallica album hiphopforlife Be patient homeboy Yes I black biggest lover hip hop alive I joke far hard rock metal go since taste ranges Tool LOVE EM Dream Theater underrated Creed overrated Limp Bizkit Testament Nirvana Pantera Slayer Korn Metallica first album And Justice For All ten years ago anotheralbum pick I qualified review album Now buisness Ride The Lightning second album artists formerly known Metallica While first album Kill Em All raw wall get guys calmed somewhat calmed created one brilliant inventive rock albums ever scary part album one Master Of Puppets legend time BETTER It starts Fight Fire With Fire arguably Metallica fastest song Ride The Lightning next brilliantly looks final thoughts man meet end elecrtic chair For Whom The Bell Tools relaxes speed cranks heaviness great foundation riff late great bass player Cliff Burton Fade Black next Metallica attempt sucess power ballad Average Joe Hold hiphop ballad Don tell Metallica gone Barbra Striesand worse Bon Jovi us hiphopforlife To quote one rap idols Ice Cube KILL THAT NOISE They wimped means wimping years This second best metal ballad time Sanitarium Master Of Puppets course number one It excellently written sung James Hetfield greatest metal vocalist time sorry Ozzy Trapped Under Ice Escape next honest two songs okay opinion people rank Master Of Puppets higher Ride The Lightning horrible okay But pace definitely picks next two songs DO NOT SKIP THEM Creeping Death expounds James Christian scientist upbringing story Moses frees Isrealites great middle part makes whole song worthwhile Now comes final song Call OF Ktulu superbly constructed instrumental showcases four members band talents especially aforementioned Cliff Burton wraps title greatest bass player time That Ride The Lightning one influential records metal influential band I would advise pick YESTERDAY sooner Average Joe Thanks hiphop sold You greatest reviewer ever And dear reader sold well past greatness band known Metallica Get Ride The Lightning well whole catalog Black album must',\n",
              " 'Contrary everyone else saying Master Puppets Metallica best album I always felt Ride Lightning Metallica finest time favorite album The album starts Fight Fire With Fire song starting classical acoustic guitar riff followed extreme pulse pounding rhythm section courtesy James Hetfield lyrics aftermath nuclear warfare The title track deals whats cover awaiting execution electric chair The track also showcases Lars Ulrich double bass drums For Whom Bell Tolls one Metallica recognized songs showcases every band member talents especially Cliff Burton sonic bass assault Up next Fade Black haunting seven minute opus dealing suicide well become one Metallica popular songs The song special meaning personally first Metallica song I ever heard helped bad times Trapped Under Ice things frozen suffocating ice The lyrics give chilling pun intended feel song great chorus Escape hte song could classified filler material solid track Next Creeping Death concert staple day contains biblical references lyrics This another song showcases every bandmembers talents The final track instrumental Call Ktulu well done get hear Cliff bass talents put test hear Kirk Hammett shine guitar The complaint I even think album short leaves wanting really much complaint All Ride Lightning one finest albums ever crafted second first five Metallica albums essential every metal fan collection',\n",
              " 'I bought Ride Lightening upon release I th grade My friends practically laughed school liking junk Motley Crue Ratt real metal bands back Well I never one affected peer pressure I stuck guns By time graduated everyone guys made fun junior high Metallica fans biggest metal band Here almost years release I still believe best metal album ever made even though I fell Metallica camp early lot great metal albums released since',\n",
              " 'This one best metal albums ever I think would agree Master Of Puppets better I think I go people I say I prefer Kill Em All still fantastic After releasing killer time original debut Metallica release even better album Fight Fire With Fire sounds bit cliched today quiet intro one excellent song Ride The Lightning another great song For Whom The Bell Tolls quite sludgy good They make riffs like anymore Then comes one best Metallica songs ever Fade To Black This quieter song builds progressively excellent Trapped Under Ice Escape good listenable reaching skip button Creeping Death another excellent Metallica song along Fade To Black one albums highlights Then comes The Call Of The Ktulu This probably THE best metal instrumental I ever heard And think Lars member band time find musical maturity like bands never mind young certainly nu metal band today This belongs true Metalheads collection many albums better',\n",
              " 'I original release LP metal indie Megaforce released Elektra signed reissued LP months later making Megaforce original collector item Just total kick metal way The bonus CD could Jump Fire I aine sure On Vertigo Sony Japan',\n",
              " 'It like baby Metallica helped define thrash metal With Kill Em All proved could play hard fast reams energy However subsequent release Ride The Lightning proved thought collection songs Hetfield peerless riffing refined growling vocals coming along still great though Hammett solos mostly exciting became one copied lead guitarists around metal Even Ulrich whose drumming always relatively simple fits well music gives crushing edge Metallica never focused bass I feel sorry Cliff Burton really get much attention He still plays important role adding extra punch riffs one thing nice Metallica newer work production accommodating different instruments Just small gripe Anyway album tells Metallica The highlight Ride Lighting one favorite Metallica songs Fade Black It great anti suicide song starts slow lugubrious guitar builds heavy powerful riffs It concludes exhilarating punchy riffs glistening solo Fans written Metallica saying song deterred taking course suicide good Call Ktulu big instrumental almost symphonic interplay works well orchestra S M Creeping Death For Whom Bell Tolls heavy clomping thrash songs interesting progressions killer riffs Fire Fire Fire mindless thrash lots kick Trapped Ice tight speed metal Ride Lightning ambitious complex Metallica follow ups Master Puppets And Justice For All However songs great one way another Here Metallica driven pure intensity delivers great great metal album',\n",
              " 'THE BAND James Hetfield lead vocals rhythm guitars Kirk Hammett lead guitars Cliff Burton bass guitars Lars Ulrich drums percussion THE DISC songs clocking approximately minutes Included disc page booklet black white band pictures song credits lyrics thank All music written Metallica Recorded Sweet Silence Studios Copenhagen Denmark Label Elecktra COMMENTS I grew album Played vinyl record college many times I wore thank God compact discs This still classic Metallica album However decades later I go back forth Ride The Lightning Thinking totally shreds one week next week thinking hard get This album takes acquired taste perhaps mood better word Lightning Metallica finding roots Sure tracks fragments brilliance atom splitting rapid fire assaults senses The lightning quick songs important band library songs They go early stages get today many years later The title track perhaps favorite fast track album The two slower songs For Whom The Bells Toll Fade To Black perhaps two best songs entire Metallica catalog I still listen songs anywhere time day Both feature amazing guitar work electric acoustic Call Of Ktulu minute instrumental slugfest I fell love live version S M simply blew away Decades release still classic book I mood Just notch Master Of Puppets Still great disc',\n",
              " 'Right last year I never really much Metallica fan Then reason I decided get Garage Inc That turn followed Justice Black Load Reload S M Puppets Ride Before buying S M I deciding get Cunning Stunts DVD And believe I really enjoyed spectacular concert guys performed particularly Creeping Death probably best song DVD For Whom The Bell Tolls especially Kill Ride Medley Those performances along tracks S M prompted buy CD I especially interested hearing original versions Fight Fire With Fire Ride The Lightning Medley And let tell definitely killer The machine gun guitar drum riffs probably made CD popular first place IMHO Metallica help create speed thrash metal early mid Not get killer riffs also get popular Fade To Black similar One starts really slow gradually picks speed peaking fast guitar solo And The Call Of Ktulu excellent instrumental however I prefer S M version sounds SO much better orchestra Being new Metallica fan speak I start see many longtime fans prefer newer stuff put I personally like Loads Ride along Puppets Justice unique sense Jaymz company guts put something would stand test time day Even though I heard times I starting appreciate already',\n",
              " 'This one best Metallica albums behind Master Puppets self titled Black album For Whom Bell Tolls Fade Black two best songs bad one The songwriting HUGE leap debut best lyrics mention countless classic riffs solos This must',\n",
              " 'quality Queensryche music done Promised Land strange album Queensryche release mostly enjoyed mainstream success likes Empire In contrast Promised Land much darker brooding certainly less mainstream arguably least mainstream album band ever released And good thing right Well necessarily The fact boring Just dark make really intelligent I respect fact wanted rather lap commercial success like Metallica time But mean everything automatically brilliant The fact hardly decent songs mention It lacks energy Warning Queensryche EP accessiblity Empire brilliance Operation Mindcrime It wierdness Rage For Order bad way since resorts uninspired sluggishness rather sinister almost industrial feel Rage For Order For album took years write record Queensryche lot show It seems like going way different rather letting music flow',\n",
              " 'I give Queensryche credit trying something different album Clearly music scene changed immensely previous smash hit release Empire yet Queensryche went direction following trends times And yet effort falls bit flat estimation Maybe I like others fans Empire epic Operation Mindcrime expect band remain Nonetheless catchiness previous efforts clearly lacking The song Disconnected actually make rock radio brief stint sums album perfectly The first single released I I one better tracks',\n",
              " 'After amazing albuns OPERATION MINDCRIME EMPIRE disapointment Boring extreme overproduced clearly show band already losing creativity vein',\n",
              " 'Queensryche evolved considerably past years prolific careers They gone fiery heavy metal days EP lush rock opera Operation Mindcrime sublime perfection commercially successful Empire current status generic rock band In middle last two phases comes Promised Land Compared remarkable accessibility Empire Promised Land little difficult appreciate Living amazing success quality Empire nearly impossible I envy Promised Land tried The problem lies fact Promised Land excellent songs densely packed Empire Most songs good songs excellent There moments mediocrity drag album levels excellence The superlative production alleviates boredom associated passable tracks thick wall sound arrangements However interspersed amonst middling pieces best tracks ever recorded including finest lyrics The acoustic balladry Bridge made lucrative single deserved enjoined success The sad thoughtful Out Mind ominous Lady Jane hard rock trappings Disconnected great The true standouts stormy title track monstrous arrangements harrowing tone moving closer Someone Else The latter un Ryche song ever done consisting piano Geoff Tate emotive vocals The memorable piano riffs thoughtful lyrics Tate passion makes one special Tate even strains note guess human Without songcraft elevate greatness production helps A good Queensryche almost great one Still touch monolithic status Mindcrime Empire In terms songcraft albums band best',\n",
              " 'Though true concept album like Operation Mindcrime Promised Land engaging conceptual esque song cycle unified simarily themed songs myriad sound effects From opening collage AM get right story I Am I along The Bridge minor album rock radio hit Other standout tracks include Out Mind epic title track One More Time personal moving closing track Someone Else made poignant arrangement consists solely piano Geoff Tate world class vocals This possibly band best set lyrics ever part intensely personal moving times uplifting Out Mind conveyings guilt sense perspective gives typical father son story The Bridge standouts lyrical department The music overall arrangements also best dense Queensryche ever put together Though top album honor still belings Mindcrime one interesting certainly one best',\n",
              " 'A friend said I would love band Well good Rock nice songs memorable I like tecnho nice beats good poetic lyrics This quite',\n",
              " 'One best trip hop albums ever Still terrific two decades later',\n",
              " 'I like songs I find I listen But great stuff turn background I working',\n",
              " 'Great songs',\n",
              " 'Oddly album leaves state highness good way The beats along oddly transfixing voice artist leave wanting needing like drug',\n",
              " 'I purchase complete CD one I get Most songs really good I love smooth sound I glad I introduced trip hop',\n",
              " 'MEZZANINE another masterpiece MASSIVE ATTACK This perfect music relax reflect life Its either great party It amazing The mix REGGAE HIP HOP eletronic ROCK worderful MEZZANINE A MUSIC MASTERPIECE Try BLUE LINES PROTECTION WELL DONE MASSIVE ATTACK',\n",
              " 'This simply best Massive Attack album If get one albums make one It hard explain vibe album cool indeed albums I guess I would say real smart album',\n",
              " 'With solid set cold embraces massively influential trip hop unit mature construct date fizzle slightly overly pseudo cool remains must anyone interested electronic music',\n",
              " 'There many trip hop albums I bought years managed sound fresh every time I throw cd stereo listen iPod Massive Attack classic Mezzanine one trip hop albums still sounds fresh today I first heard almost ten years ago The music sublime mix hypnotic electronic beats seductive male female vocals diverse mix samples bands like The Cure What I love Mezzanine much music dark sinister All death black metal bands world create music richly dense heavy Mezzanine There terrifying quality music entire album would perfect film score psychological thriller The first two songs Angel Risingon sounds like would perfect scores nightmares I never get tired listening Teardrop features Elizabeth Fraser vocals The production neither slick gritty Mezzanine one albums I actually call flawless Every song Massive Attack classic',\n",
              " 'Teardrop mesmerizing vocals Liz Fraser standout track unfortunately rest quite measure Don get wrong Mezzanine listenable album something works well playing background night tracks work especially well seductive exploits It rest album sounds like second rate Portishead',\n",
              " 'This one favorite trip hop albums The first four tracks amazing repeating The songs respectively Angel Risingson Teardrop Inertia Creeps Angel stark production featuring pointed beats distorted bassline frames vocal two minute flame raging guitars Risingson dense dark sounding song ton dub throughout Teardrop awesome song collabored Elizabeth Fraser Cocteau Twins Inertia Creeps highlight atmospheric sound fuzz tone guitars wealth effects song could well best production best team producers electronic world ever seen These songs definately highlight songs still good good four opinion Overall awesome album place every music collection',\n",
              " 'Massive Attack one first gasps trip hop noticed outside Bristol sadly one last seems They urban without bounce easy egotism hip hop They conveyed menace sinister pangs angst echoed Trent Reznor Tori Amos era They spoke volumes without words like Paul Oakenfold provoked atmosphere although Oakenfold reached lofty heights Massive Attack belongs darkened alleys underground clubs Through incarnations Massive Attack intellectual house party brownstone Chicago Wicker Park rain windows high rise L A smoke mud confusion college rave Mezzanine complex within tracks connective tissue It dark bright side flicker streetlamp dawn sort Its power balance rhythm drive deep seated anxiety begs listen',\n",
              " 'Mezzanine another classic album legendary group Massive Attack I would even argue better bad songs best songs simply extraordinary The best tracks first four songs deliver creative genius instantly make fan Sometimes relaxing sometimes haunting always groovy Mezzanine delivers worthwhile follow Blue Lines Protection failed Like Blue Lines Mezzanine features several singers ALL likable charismatic Blue Lines suffered track One Love singer arguably kind ruined song The lyrics memorable Blue Lines though mind Overall much darker album Blue Lines occasionally blends metal industrial music trip hop sound Hip hop probably casual music fans love album A word wise rest album might take bit realize good Anyways highly recommended along first album Blue Lines Portishead Portishead though one good Highlights include entire album',\n",
              " 'You heard music commercials movies may realized I I picked album within past six months Of Blue Lines th Window ones I best clearly consensus MA fans This good album really interesting exceptional musically If interested kind music go wrong Mezzanine EDIT I actually listening album last hours opinion masterful I originally thought It easily listenable start finish There weak songs If think found weak song listened enough yet This album especially enjoyable somebody good sound setup high quality earphones preferably nice car stereo bass lines truly praiseworthy As others alluded stated kind CD holds constant spot near top one music collection I knew good I fully understand fact Isn breath fresh air single album full greatness one two songs music',\n",
              " 'It said imitation best form flattery If true fact several years release opening Angel continues appear Original Soundtracks speak volumes From first chord third album band brought trip hop us along Portishead Morcheeba yet another classic At several points feels like precedent chillout acts come later years remember released With tight bass sound streaming song song sexy beat hypnotic keyboard frame album lacks nothing raises bar previous Protection main thing I miss participation Everything But The Girl vocalist Tracy Horn Think get',\n",
              " 'I know much albums I imagine better Mezzanine You call trip hop electronica want cool mood music beyond beautiful Perfect putting bars home last drink smoke night With guest vocals The Cocteau Twins singer cool sample The Cure track seven know gon na good Teardrop big song rest moving It go great Portishead Sneaker Pimps cd',\n",
              " 'I Massive Attack long probably couple years Mezzanine first MA album I bought I heard nothing good things group well album The rest history I three albums Blue Lines Protection th Window I think MA albums I Mezzanine resonates The music dark foreboding lyrically musically The cd starts dark sounds Angel I particularly love songs dark slow hip hop beats mixed haunting vocals The choices samples astounding refreshing Normally I loathe use samples Massive Attack able use samples manipulate totally different sound original artist intended My personal favorite songs Mezzanine Man Next Door Teardrop Those songs simply amazing I recently put Mezzanine cd player first time months amazingly enough still holds well today current music scene I really think Mezzanine set standard whole genre trip hop music It one best albums genre well one best albums general come past decade two',\n",
              " 'Mezzanine one time favourite albums It good arrangements production wibe album It dark beautiful musicianship also top notch Album many guest appearences lads Massive geniuses find right people sing right songs Teardrop classic many songs also brilliant I recomend everyone claims music fan buy Mezzanine It indded one best albums late probably time',\n",
              " 'seductive spellbinding There probably many words describe record five I mentioned probably closest match feeling I get listening Imagine dark tranquil atmosphere shimmering electronic music bassline grooves narrative soulful vocals background Mezzanine perfectly fits description Some highlights include Angel music starts soft builds screaming frenzy Or Teardrop w former Cocteau Twins vocalist Elizabeth Fraser features angelic voice acoustic guitar shimmering electronics I could go But I think best go buy fine record experience If I mistaken one SPIN magazine top records Heck I bought Christmas last year wondered took long In case I definitely look buying stuff including DVD And I look forward new record coming sometime fall',\n",
              " 'What struck first hearing Mezzanine sheer weight The sound low beats first Massive Attack thrashing guitars succeeds actually oppressing listener much good thing music album novel smooth want feel every part As usual Massive releases Mezzanine features vocals two female vocalists several songs Liz Fraser formerly Cocteau Twins newcomer Sara Jay Liz contributions higher points album Teardrop beautiful song come Sara Jay one song insidious sneaky Dissolved Girl Massive Attack new tricks electronica Horace Andy reggae singer mainstay Massive Attack albums three songs industrial Angel almost retro Massive Attack Man Next Door Exchange The songs featuring vocals Massive members D Daddy G also well done D threatening whispers Risingson lot make one favourite songs Although certainly songs better others one CD I ever listened single bad song The album whole perfect I would recommend person breathing pulse',\n",
              " 'I remember came lp early Thank God issued cd This Philly sould',\n",
              " 'The Stylistics make moody soul music atmospheric There also hint Warrick Bacharach music well cover You never get break heart joyous Make last carries vein Other song opinion album really get going second half jazzy slow burn Love comes easy hand rock n roll title track soul classic You make feel brand new exuberant I give But highlight undoubtedly There reason kilter melody interesting arrangement rolling chorus perfect vocal harmonies Along songs gentle understated sound adds whole atmosphere Songs like Only children Could end I know I always thought Russell Thompkins Jr best singing love songs suits vocal style angrier songs Overall I would give album three half',\n",
              " 'Philly wonder group Stylistics release third album first albums straight classics Thom Bell Linda Creed make great production team Russel Thompkins Jr keeps hitting high notes lead tenor The music lush like second album Round surefire winners Make It Last lushness songs like You Never Get To Heaven If You Break My Heart Round Payback Is A Dog woman wrong finally know feels receiving side heartbreak impeccable harmony Love Comes Easy smooth lush feel deals finding one great thing life uneasy world love Rockin Roll Baby vintage rock feel great falsetto lead giving soul inflection light touch funk Not fav shows Stylistics expand different territory effectively A persistent sentiment love even unrequited expressed nice mid tempo I Won Give You Up Then great jam slower Let Them Work It Out laidback deals certain friend gossips friends love lives troubles said romances getting annoying The song letting couples work difficulties A somber joint Could This Be The End It another slower joint perfect harmony Rockin Roll Baby another classic Stylistics catalogue Thom Bell genius musician especially considering classic works The Delfonics The Stylistics The Spinners among others The Stylistics right next Delfonics favorite soul groups ever',\n",
              " 'I life long Blue Oyster Cult fan way back released Imaginos time I thought tremendous record years reflection star release best This upgrade Club Ninja hard The thing Imaginos many special guests recording years making I know time I bought I still like songs years I Am The One You Warned Me Of Les Invisibles Magna Of Illusion fine piano Allen Lanier remake Astronomy mainstream rock favorite tune classic Blue Oyster Cult great track Buck Eric best',\n",
              " 'OK may started great concept album mind Sandy Pearlman It may grown Joe Bouchard solo album stretched multiple recording dates It may ended final BOC album fact Joe Bouchard joined sessions Eric Bloom Allen Lanier Buck Dharma Albert Bouchard So WHAT It got bone rattling truly unique The Siege Investiture Baron von Frankenstein Castle At Weisseria featuring Joey Cerisano Jon Rogers additional lead vocals unforgettable shout chant refrain CARPE DIEM followed doomsday crashing riff heavy guitars opening track I Am One You Warned Me Of easily good tracks early BOC albums There also remake two songs second album Tyranny Mutation Astronomy Subhuman retitled Blue Oyster Cult Sometimes pays focus album IS opposed ISN T This one shake fillings loose teeth It may patchwork quilt rocks like mother fact back CD worth celebrating',\n",
              " 'Back day BOC Huge I loved music got everything ever put EXCEPT ONE Imaginos I overseas Navy came albums prior bit disappointment SO came I busy get around getting I go get gone Pulled shelves everywhere I know nowhere found No big deal right I mean tha last releases rather dull I figured BOC tapped becoming Nostalgic Nundane Many years I even expressed interest I heard others actually good Some best BOC ever done many say Hmmmm better get NOT everybody wanted like mega bucks copy Anyway I saw released I jumped Damn glad I When I first listened keep mind years I never heard even one track CD like hearing latest release form one favorite bands rocks As whole I give scale songs best BOC ever done Those songs get solid Buck blazingly fast imaginitive ie title Imaginos These Blockbuster Genious Level Guitar Riffs prove Buck Dharma one greatest guitarists alive way many people never heard A shame really BOC Dark Inteligent perspective always kept well cult following status I member BOC Cult I like hearing truly feels new fresh I know came But yt tell hearing first time It sounds like much BOC greates work Classic Timeless If like BOC fan You already know years got ta If new BOC fan wondering Vinatge BOC mediocrity BOC let assure top collection BOC finest without doubt Buck Dharma soundly places Guitar God Status like already Kev',\n",
              " 'An album always seemed divide BOC fans Imaginos concept album concocted Albert Bouchard Sandy Pearlman whose origins go almost back beginning band Two tracks album appear Secret Treaties serves somewhat companion piece Imaginos The original BOC lineup united one along host guests The concept story Imaginos time traveler sorts appears different times world history influence historical events The problem story told linear fashion ends completely confusing I read essays story behind story still really figured This weird album I think songs disc outstanding point best stuff BOC ever done looking album whole quite good I think Being big progressive rock fan maybe I set expectations high I found BOC true concept piece one sum greater parts That said really great material The remakes Astronomy Blue Oyster Cult formerly The Subhuman better originals I Am The One You Warned Me Of Les Invisibles In The Presence Of Another World Del Rios Song The Siege Magna Of Illusion awesome The title track bit letdown still ok Still even great stuff I think album could put together better worked extent Anyway minor quibble album really must fans BOC I believe currently print hard find',\n",
              " 'This album Blue Oyster Cult fans really get concept album showcases bands unique song stylings For casual listener sometime BOC fan stick Agents Fortune Fire Unknown Origin Imaginos heavy album features great remake Astronomy best song CD But unless prepared invest time deciphering story songs get much album I picked Imaginos CD hearing Astronomy late night best time play CD narrative Imaginos myth read Stephen King song opened I heard two times radio picked CD I huge Stephen King fan enjoyed BOC earlier albums Needless say Stephen King narrative album I disappointed played disk times I enjoyed I Am The One You Warned Me Of pretty straight ahead rocker In The Presence Another World tempo song Actually songs good find humming chorus hours listening The track I found lacking title track Imaginos For reason likely background singers Oooohhhh Imaginos Ooooohhh Imaginos Oooooohhhh ooooohhh ooohhhh Imaginos song sounds like fanfare two bit magician perform Vegas something Once I got image stuck head I kept picturing Imaginos The Great performing card tricks turning newspaper doves If see copy disk used pick I think worth used price I see',\n",
              " 'Classic One best albums',\n",
              " 'great cd run buy',\n",
              " 'first one best albums first Marshal Mathers lp opinion',\n",
              " 'I wanted album rugged nobody could touch Eminem proclaims If hes referring rap albums LP might Ill say hesitation reservation Eminem easily best rapper Ive ever heard No popular rapper think alive dead even comes close I mightve saying guest Royce Da upstaged rapper whose comedic wit clever wordplay sheer rhyme skills near genius There little filler Eminems verses Even hes lacing unnecessary profanities Slim Shady persona deviant white trash druggie aims offend almost every two bars quality set many sets classic quotables Unless hes cheating somehow creativity close amazing He even sound effects The beats also impressive albums major drawbacks fall faulty choruses silly skits marcellee com',\n",
              " 'This awesome cd fun enjoyable listen best songs cd Tracks My Name Is Guilty Conscience Brain Damage If I Had Role Model Cum On Everybody Rock Bottom Just Don Give A I Shady Bad Meets Evil Still Don Give A listened cd recommend',\n",
              " 'Before Slim Shady LP name emcee named Eminem probably ripping mic Lyricist Lounge underground hiphop spots back ill lyricist hungry attention scaring sh less raw punchlines excellent verbal battling ability Back able step rhyme cypher Canibus Mos Def Last Emperor Chino XL dominate To hiphop standpoint focusing lyrics comparing earlier efforts CD beginning downfall But variety ideas saves CD And creative brings stars Unfortunately dependable label forced rap garbage beats Dre specialty release better ones forced exactly higher level employees works say He able make decisions contoversy become forced listen Dre others rap instead making ideas ARTIST one use imaginative ability create something But none less excellent debut CD good artist stuck bad label Hopefully one day Slim wake leave DRE footprints join true HIPHOP label RAWKUS plus white rapper today Evidence Dilated Peoples The High Mighty Smut Peddlers Everlast Whitey Ford El P Company Flow RA Rugged Man I Out Mind Power',\n",
              " 'Now call quality recording quality artist Ledisi good definition grown folk music The songs well written I imagine performance like She seems really music There nothing scripted You feel passion coming voice well creativity put music somewhat lost art today world music I highly recommend cd fan real soul music',\n",
              " 'Now I finished reviewing Ms Ledisi major debut data hook product link linked class link normal href Lost Found dp B RO UAQ ref cm cr arp rvw txt ie UTF Lost Found whilst nice safe release nothing like Now album I well understand demand CD I like live feel CD excellent choice songs offer excellent Get Outta My Kitchen Coffee controversial Papa Love Love I think CD nbsp data hook product link linked class link normal href Lost Found dp B RO UAQ ref cm cr arp rvw txt ie UTF Lost Found nbsp CD lacks apart edgier songs selection jazz influence runs CD It sad independence like freedom artist lost dealing majors As Ms Ledisi owns master I hope sees lease new label masses need hear',\n",
              " 'Ledisi Soulsinger Word album rereleased year Tommy Boy Records If true I glad getting second chance Soulsinger filled Ledisi ability mix little spoken word jazz R B soul She puts every performance evidenced Take Time Coffee She voice throaty Southern gospel choir singer truly delivers It bad songs uninspired lyricism like Groove On song wanting one night stand Also tends sing hard gets key problem throughout album But hard find powerful singers like days listening Free Again revealing Poppa Loved Love Me Ledisi start getting props soon EJR',\n",
              " 'Ledisi less average said hating album wrong wrong good poet always equate good recording artist definitely different anything else offered always give artist props originality jaded expect money move sorry',\n",
              " 'I REALLY ONLY BOUGHT THIS CD FOR TWO SONGS AT FIRST THEN I LISTENED TO THE WHOLE CD AND IT IS REALLY NOT BAD',\n",
              " 'The Left Banke one groups seemed shine briefly brilliantly fade relative obscurity That said manage least one better ordinary album one OK follow Left Banke Too latter release sadly missing original group principal songwriter Michael Brown For guys record one best beautiful songs ever put anyone Walk Away Renee way many musicians ever achieve First class packaging well written booklet band history etc Worth buying like quality music',\n",
              " 'The Left Banke one bands kinda fell cracks years went Pretty much looked two hit wonder much One Two Hit Wonders tend sometimes They classified Baroque Rock What hell ask Oddly sounds exactly like description The band members The Left Banke technically savvy musicians sound band revolved around youngest member Michael Brown Brown trained classical music played piano harpsichord prominent The Left Banke sound Add smooth Beach Boys esque vocal harmonies Baroque Rock One song Evening Gown almost sounds like harpsichord driven punk song I surprised I like album much I Though I big vintage rock music seemed little different I normally listen rockabilly surf I initially bought I always soft spot Pretty Ballerina much surprise I found whole album great I glad I picked one If like late stuff The Left Banke deserves resurrection If like Justin Bieber schmuck',\n",
              " 'This special cd It tribute Debby mother law Rosemary Clooney makes special But whats really special womans voice perfectly suited material As fan start career I know versatile Here sings authority technique jazz legend For us fans waiting new material Debby years doctor ordered This cd perfect night romance fine wine Boones beautiful vocals washing The production class written players Debby Boone Looking forward live show rock Congratulations Debby thanks keeping music life real God Knows postscript lucky enough catch Debbys live show Scullers Boston truly charmed dazzled audience Debby thanks inspiration true lady I said keep good music coming',\n",
              " 'This moving collection Debbys Christian music recent You Light Up My Life Greatest Inspirational Songs like like Boone dramatic soaring voice comforts soul Can wait get latest Concord Records Reflections Rosemary tribute mother law Rosemary Clooney She may finally get props deserves',\n",
              " 'I would liked dance band least pieces accompany Debby She chops I believe would enhance sound The band still good could fuller sound',\n",
              " 'The songs album Reflections Rosemary Blue Skies Mood Indigo In The Wee Small Hours Of The Morning Time After Time nicest popular standards identified Rosemary Clooney one best female vocalists time And Debby Boone singing songs special tribute mother law This album promises listeners unforgettably wholesomely beautiful listening experience There something captivate ears every listener backed best musicians music world today Rosemary Clooney arranger pianist twenty years John Oddo arranger Earl Brown guitarists John Pizzarelli Jim Fox bassist Chuck Berghofer drummer Gregg Field percussionist Daniel Greco saxophonists Gary Foster Dan Higgins Scott Hamilton trumpeter Warren Luening cellist Armen Ksajikian I enjoyed music Debby Boone since recorded album great inspirational songs seventies eighties notably Sweet Adoration Can You Reach My Friend Sincerely Yours You Light Up My Life Her father music Pat Boone part musical family I growing He one late parents favorite singers mine I especially fond hit song Love Letters In The Sand On elegantly charming tribute album recorded love dedication Debby Boone sings sixteen classic standards starting uplifting Irving Berlin classic Blue Skies Rosemary Clooney used sing first grandson Jordan whenever sad took fall crying anytime needed spirits lifted It surprised added track Ms Clooney A Capella version Ms Boone stated like son Jordan would always find comfort beautiful song highlights Scott Hamilton tenor sax solo While tracks enjoyable I really love way sang Mood Indigo features vocal quartet sisters Cheryl Lindy Laury vocal chart arrangement written Earl Brown With vintage sounding arrangement nostalgic rendition classic Duke Ellington Barney Bigard Irving Mills evokes sentimental feeling flood eyes ocean tears sisters sing Little sister blue No You blue Not till mood indigo That feelin goes stealin shoes Then cry sit cry Go long long blues Always get mood indigo Since baby said goodbye In evenin lights low I lonesome I could cry The wonderful tone John Pizzarrelli guitar well soft mellow scat heard I Grown Accustomed To His Face Dan Higgin flute plays beautifully It Might As Well Be Spring complementing Ms Boone gorgeous vocals The Van Heusen Burke medley also surprisingly stunning But Beautiful Moonlight Becomes You Like Someone In Love One time favorites The Music That Makes Me Dance Jule Styne Bob Merrill rendered beautiful heartfelt making one best interpretations ever recorded And dedicated hubby Gabri The delicate medley It Never Entered My Mind In The Wee Small Hours Of The Morning selected tribute Frank Sinatra Ms Boone worked several occasions past The enchanting Bossa Nova arrangement The Best Is Yet To Come pleasing ears An time top favorite Sammy Cahn Jule Styne Time After Time also highlight one singer favorite songs Chet Baker recorded album called Chet Baker Sings According fell love album developed real school girl crush Chet She spent summer tirelessly delighting trumpet playing melting sound voice mention picture She sent copy record Rosemary knowing would absolutely love way guy sang And surprise Rosemary told Do know I carry around picture Chet Baker wallet day In words crush guy Co incidentally Chet Baker Sings also first Chet Baker CD collection I written review outstanding album year ago It nice album focuses Chet Baker trumpet player singer soft mellow vocal style Listen Debby Boone utmost best pays homage one best female singers time Rosemary Clooney You also delighted Liner Notes include great detail Ms Boone heartfelt sentiments every song selected great tribute album An album sheer beauty elegance perfection',\n",
              " 'positive cd',\n",
              " 'It good album high quality output I listen way work energizes spirit I choose stars stars Every song great unique',\n",
              " 'Great praise worship music Praise I fave song choice HIghly recommend cd',\n",
              " 'William Murphy great job delivering gospel message gospel lovers His presentation unique style confused anyone else like artist He stands great gospel artist I pleased particular CD',\n",
              " 'If purchase CD one William Murphy Gospels greatest hidden talents His work inspire',\n",
              " 'First thanks Jeff Feezle listing album content All songs first rate original artist Perry Les Eddie Tony rest excellent version definitive past fifty years Not groner bunch Arrangement accompaniment beyond compare Technically excellent While takes awhile get dance mode song foretells coming rock n rock era Never fails put good mode I usually get mode along Dragnet Bought used advertized like new Arrived time well packaged',\n",
              " 'I bought several Your Hit Parade CDs dad liked listen songs radio I know much music period seem good representation hit songs year I remember hearing several songs old favorites I growing I ended buying one CD',\n",
              " 'TRACKLIST DON T LET THE STARS GET IN YOUR EYES PERRY COMO SIDE BY SIDE KAY STARR YOU YOU YOU THE AMES BROTHERS APRIL IN PORTUGAL LES BAXTER AND HIS ORCHESTRA VAYA CON DIOS LES PAUL AND MARY FORD I M WALKING BEHIND YOU EDDIE FISHER RICOCHET TERESA BREWER NO OTHER LOVE PERY COMO OH PEE WEE HUNT AND HIS ORCHESTRA HI LILI HI LO LESLIE CARON AND MEL FERRER RAGS TO RICHES TONY BENNETT THE DOGGIE IN THE WINDOW PATTI PAGE DRAGNET RAY ANTHONY AND HIS ORCHESTRA MANY TIMES EDDIE FISHER TILL I WALTZ AGAIN WITH YOU TERESA BREWER THE SONG FROM MOULIN ROUGE PERCY FAITH AND HIS ORCHESTRA KEEP IT A SECRET JO STAFFORD EH CUMPARI JULIUS LA ROSA CHANGING PARTNERS PATTI PAGE PRETEND NAT KING COLE BAUBLES BANGLES AND BEADS PEGGY LEE P S I LOVE YOU THE HILLTOPPERS',\n",
              " 'I bought several Your Hit Parade CDs dad liked listen songs radio I know much music period seem good representation hit songs year I remember hearing several songs old favorites I growing I ended buying one CD',\n",
              " 'I bought several Your Hit Parade CDs dad liked listen songs radio I know much music period seem good representation hit songs year I remember hearing several songs old favorites I growing I ended buying one CD',\n",
              " 'I bought several Your Hit Parade CDs dad liked listen songs radio I know much music period seem good representation hit songs year I remember hearing number songs old favorites I growing I ended buying one CD',\n",
              " 'TRACKS Rosemary Clooney This Ole House Eddie Fisher I Need You Now Jo Stafford Make Love To Me Don Cornell Hold My Hand Tony Bennett Stranger In Paradise The Chordettes Mr Sandman Perry Como Papa Loves Mambo Archie Bleyer Hernando Hideaway Kitty Kallen Little Things Mean A Lot Erroll Garner Trio Misty The Four Aces Three Coins In The Fountain Doris Day Secret Love Patti Page Cross Over The Bridge Bing Crosby Guy Lombardo Young At Heart Rosemary Clooney Hey There Don Cornell Allan Dale Johnny Desmond Heart Of My Heart Kay Starr If You Love Me Really Love Me Les Baxter The High And The Mighty The Four Knights I Get So Lonely When I Dream About You Doris Day If I Give My Heart To You Eddie Fisher Oh My Papa Jo Stafford Teach Me Tonight Frank Weir The Happy Wanderer Judy Garland That Man That Got Away',\n",
              " 'Word mouth buzz helped make Menopause sleeper stage hit middle aged women This CD mainly sold theatres book show nights lobby This original cast usual case kind release end result different actresses leg perform area Don expect bunch female Weird Als Capitol Steps SNL Mad TV types The instrumentation slightly amateurish low budget watered weak For My Husband Sleeps Tonight parody cringey oldie The Lion Sleeps Tonight credit given Solomon Linda whose family fought recognition residuals Some parodies keep titles songs lampoon like Tina Turner comeback What Love Got Do It That almost defeats purpose Most men younger women may relate lyrics Jeanie Linders wrote experience They refer symptoms like hot flashes ageing night sweats cramps insomnia mood swings restlessness binge eating weight gain wobbly temper becoming like mothers name Then maybe things might get Because adult nature songs I play around small children For UK edition Iowa Housewife becomes Rutland Housewife Rutland could refer Eric Idle Rutland Weekend Television makes sense ladies meet Mohamed Al Fayed world famous department store Harrod instead New York City Bloomingdale regional variations around world contrast America centric flagship Hopefully release editions There two annual sold residencies date town maybe well always rave Going show always immortalised onto studio recording',\n",
              " 'Word mouth buzz helped make Menopause sleeper stage hit middle aged women This CD mainly sold theatres book show nights lobby This original cast usual case kind release end result different actresses leg perform area Don expect bunch female Weird Als Capitol Steps SNL Mad TV types The instrumentation slightly amateurish low budget weak For My Husband Sleeps Tonight parody cringey oldie The Lion Sleeps Tonight credit given Solomon Linda whose family fought recognition residuals Some parodies keep titles songs lampoon like Tina Turner comeback What Love Got Do It That almost defeats purpose Most men younger women may relate lyrics Jeanie Linders wrote experience They refer symptoms like hot flashes ageing night sweats cramps insomnia mood swings restlessness binge eating testy temper becoming like mothers name Then maybe things might get Because adult nature songs I play around small children For UK edition Iowa Housewife becomes Rutland Housewife Rutland could refer Eric Idle Rutland Weekend Television makes sense ladies meet Mohamed Al Fayed world famous department store Harrod instead New York City Bloomingdale regional variations around world contrast America centric flagship Hopefully release editions There two annual sold residencies date town maybe well always rave Going show always immortalised onto studio recording',\n",
              " 'works great',\n",
              " 'great music',\n",
              " 'I enjoyed immensely',\n",
              " 'Nice Patriotic music performed professional manner Good music reminds great background th July firework listen I enjoy Strings Orchestra performances especially price',\n",
              " 'I play cd night go sleep relaxing soothing I patriotic songs appeal I also recognize many singers voices throughout recording Superb job',\n",
              " 'The spirit America music Just great collection wil love listen time',\n",
              " 'Sexyback superwack song reminds tracks back day makes think Trent Rezinor closer Meets Laidback White horse Timberlake trying channel much ends forgetting important person song really flat track',\n",
              " 'The alumnus previously manufactured defunct N Sync returned follow hugely successful debut Justified While effort shows promise slight disarray sometimes jarring Now forward golden boy music returns first single Sexyback FutureSex LoveSounds The single incredible piece sweet funk combining sensuality yesteryear Prince deft execution pre scandal Michael jackson With hot salacious video boot song sure pop ecstasy At helm things hip master Timbaland whose collaborations always bear edible fruits Remixes song range mediocre superb beginning lackadaisical Pokerface Club Mix sounds like piece early recycled house mix The slightly varied Linus Loves Remix ups ante danceable electro beat The best mix cool Tom Novy Ibiza Mix cleverly uses verse Timberlake sung vocals wrapped around hypnotic lackbaid grooves',\n",
              " 'When I first heard title song I thought singing someone sexy backside I know singing bringing sexy back sexy ever gone For real song awful It melody plain emotionless Justin Timberfake stated interview trying bring back sexiness Well failed big time one',\n",
              " 'Love band rock little like winger Very strong compromise Christianity musically ether talented musiction strong Christian aplod day compromise fake Christian c f compromising Christian musicians Christian people wait get cds ps nother good band sancracy recommended band winger fans thay theocracy rocks',\n",
              " 'The self titled release Atlanta based band Theocracy first appeared circulation since time For several months fans long awaited release Theocracy original album album remastered remixed On November fans around thrilled listen Matt Smith boys hammer unique style Stryper meets Dream Theater heavy metal music Track Track After like keyboard intro album begins double base drum anthem celebrates victory Christ Here lines Ichthrus Forced catacombs unite praise King kings fear revolution power He brings heaven sons stand one believers blood Christ even death true life CENTURIES FLY BUT THE FLAME IS STILL ALIVE THE MAY HIDE IT BUT IT WILL NEVER DIE CARVED IN OUR SOULS SEE THE TWO HALVES OF THE SIGN THROUGH THE AGES HIS GLORY WILL ARISE FOR ALL TIME The Serpent Kiss begins ballad speaks candidly curse sin inflicted cosmos Born darkness thrown viper den serpent cradle takes child nest sin slowly suffocating souls victims found vicious cycle path leads us Rat race fueled machinery system corruption become cold numb blind destruction We forging fires made greed Our idols made gold bowing corrupt adulterous souls opened eyes realize WHAT WE HAVE DONE WHAT WE HAVE SEEN WHAT HAS BECOME OF OUR LIVES CORRUPTED OUR DREAMS WHAT WE HAVE LOST AND WHAT REMAINS PARALYZED BY THE VENOM THAT RUNS THROUGH OUR VEINS THERE S GOT TO BE MUCH MORE TO LIFE THAN THIS THE WORLD S CARESS IS JUST THE SERPENT S KISS But venom plagued mankind defeated power cross So song continues I stand child world I defiled stained poisoned burned beaten bruised wounded sick vile hands reaching I run realizing I done take arms reunited father son The song powerful reminder gospel also leaves listeners permanent painful warning And illusion ceases exist world caress serpent kiss Mountain paints vivid portrait journey every Christ follower faces Step step climb gets harder weakens I struggle farther farther flesh weakness darkness sickness dreams shattered ambitions crumbled defeated spirit humbled I hopeless helpless without The tune resembles John Bunyan classic work Pilgrim Progress leaves listeners hope plod way Christian life Take places I go Transcending I sick living status quo New Beginning And seems I given On eagle wings life time I know end You carried The title track Theocracy metal dream challenges every listener direct claims Christ lordship At center heart sits throne That rightful occupant always free call His For I give King His place worth else When I spend time striving place crown upon The chorus hammers lordship theme holy vengeance I TAKE MY CROWN AND CAST IT DOWN CASTLES BURNING CASTLES BURNING LEARN TO GROW GROW TO BE A FLESH AND BLOOD THEOCRACY TO TAKE THE LOSS AND BEAR THE CROSS RAISE THE KINGDOM RAISE THE KINGDOM BURN AWAY ALL IVE BEEN TO RESURRECT THEOCRACY WITHIN Corinthians employed remind Christians submit every thought lordship Christ would rulers heart I place upon throne lead kingdom life ruin bring every though submission tear idols break chains rearrange give king crown The Healing Hand powerful five part masterpiece begins prophecy Messiah hope nations The tune leads listeners cradle Cross Christ healing hand becomes bleeding hand His kingdom forever Lion Judah strength everlasting redemption atonement complete resurrected power King stands FOR THE BLEEDING HAND HAS BECOME THE RULING HAND Faith born forever part His kingdom become Or reject stand back watch kingdom come Alpha omega almighty Christ reigns victorious eternity Eternity Several songs grace stunning album There simply much share short review format But suffice say piece work Theocracy good gets The music tight production crisp vocals spot Again I noted elsewhere Matt Smith one premier songwriters day For whatever reason gone largely unnoticed tragedy right This young man commended God given gifts But every God fearing man recognizes glory goes back Giver every good gift Thanks Matt Smith band writing God honoring music heavy metal music truly honors Lord Jesus Christ magnifies gospel',\n",
              " 'For familiar self titled debut release band founder Matt Smith composed songs performed instruments sans acoustic drums Despite deficiency album well received became instant classic quickly went print Fast forward Theocracy grown member released two stellar albums Ulterium demand reissue rerecording debut became reality As Smith points updated liner notes thing new mastering original recording Shawn Bensons acoustic drums replacing programmed drum sounds These songs already extremely good sound much credible powerful real timekeeper helm Bensons style well suited majority speedy power metal And clearly expanded upon basic drum tracking done manner disrupt original flow music Reissues rarely add much original especially original near perfect case songs heard way originally meant recorded transforming classic epic Christ centric power metal masterpiece',\n",
              " 'Bonnie Pointer First Solo Album classic waiting rediscovered A varied album different styles produced performed amazingly holds well today There funk Motown oldies acoustic tracks great orchestrated ballad The music musicianship vocals creative highest calibre Side One Motown oldies WHEN I M GONE HEAVEN MUST HAVE SENT YOU done old Motown style They even legendary Motown bassist JAMES JAMERSON playing This version HEAVEN five minutes features scat singing Bonnie middle This different version disco hit single went charts Bonnie redid single I much prefer album version homage classic Motown The tracks stellar inventive arrangements singing playing The single FREE ME FROM MY FREEDOM TIE ME TO A TREE HANDCUFF ME amazing Pop funk Bonnie singing background vocals middle banjo solo That I mean creativity work Bonnie musicians producer Jeffrey Bowen previously produced The Temptations put album And heard funk track hot funky AH SHOOT I guarantee since Sly The Family Stone THANK YOU This song minutes pure funk nastiness organ drives blazingly funky horns la James Brown Bonnie muti faceted vocals sheer musical genius height Outkast must heard track It waiting sampled The musicians album top calibre Family Stone member TRUMAN THOMAS arranging playing co writing Funkadelic guitarist EDDIE HAZEL Rolling Stones sideman OLLIE BROWN original Motown bassist JAMES JAMERSON NIGEL OLSSON Elton John band one track string arrangements noted arrangers LEE HOLDRIDGE PAUL RISER And Side Two illustrates another side Bonnie Pointer acoustic rhythmically driven played songs MORE AND MORE I LOVE TO SING TO YOU I WAN NA MAKE IT IN YOUR WORLD beautiful ballad MY EVERYTHING closes unique diverse album sheer musical pleasure These numbers co written DONALD BALDWIN amazing filled hooks catchy choruses pure musicianship Remember Bonnie solo BLACK COFFEE The Pointer Sisters nd album THAT S A PLENTY That taste Bonnie ballad Also note self titled album one RED COVER For unknown reason Motown released Bonnie nd album self titled name purple cover Also great one Released Dec time The Pointer Sisters equally excellent ENERGY album classic heard It far best Bonnie solo albums Catalog number MOTOWN M R Tracks WHEN I M GONE FREE ME FROM MY FREEDOM TIE ME TO A TREE HANDCUFF ME HEAVEN MUST HAVE SENT YOU AH SHOOT MORE AND MORE I LOVE TO SING TO YOU I WAN NA MAKE IT IN YOUR WORLD MY EVERYTHING Released MOTOWN M RI December Red Cover',\n",
              " 'For may know actually Pointer Sisters second youngest Bonnie born broke away pursue solo career began album Motown She couple sizable hits Heaven Must Have Sent You Free Me From My Freedom great songs However whole album quite par late Pointer Sisters material nothing else album quite measures hits',\n",
              " 'I years old I project vinal I swan I wore grooves album It captured musical mind back finding CD last almost I hadle Every song Motown production best While song perfection I pick best I partial AH SHOOT funky bass driven gets white boy dancin like white boy Then I LOVE TO SING TO YOU wonderful love song Bonnie sings sweetly simply amazes The original line songs ends MY EVERYTHING another love song sung total honesty pure magic The bonus tracks icing ready perfect cake I thrilled back collection',\n",
              " 'I waited decades amazing album Bonnie Pointer released CD It highly unique album The diversity material styles combined level original songs musicianship make one stunning albums female artist Side original funk songs updates lesser known Motown hits made perfect side album I bought back vinyl The real big surprise Side Bonnie singing new original songs acoustic guitars layered vocals variety instruments like California soul Nobody else sounded like And ending majestic MY EVERYTHING beautiful orchestration But I got major shock hugely disappointed This reissue CD NOT original version AH SHOOT instead alternate take Unbelievable disappointingly true Did someone know totally different alternate version The original nowhere found Instead get inferior version never released If anyone knows album AH SHOOT one funkiest songs ever recorded Eddie Hazel guitar Ollie Brown drums plus funky Sly James Brown horns hammond organ Bonnie singing stellar funk lyrics Big Break Records could named Big Blunder Records mistake Where original version major funk opus I still play original vinyl album hear AH SHOOT way released What reason fiasco original release Did anyone even know outtake Big Break made major screw mistake I give original album star rating Big Break Blunder reissue screw deserves star Have someone knows original album listen make CD',\n",
              " 'It encouraging see batch late early albums newly circa reissued CD label called BBR Big Break Records Bonnie Pointer first one I bought contains one time favorite disco songs Heaven Must Have Sent You The original LP contain disco version eventually became pop Top Ten Disco hit reissue cures including versions The three bonus tracks versions record first single Free Me From My Freedom Tie Me To Tree Handcuff Me The latter medley way interesting lyric seems caused single stall mid chart least pop side Some programmers listeners felt either S M reference liner notes say step back feminist movement It open either interpretation Bonnie meant tied handcuffed love literally finding independence disappointing Put love chains back The rest record covers wide range styles I think Bonnie sounds lot like Carole King More And More I hearing Billie Holliday My Everything Another Motown remake besides Heaven Must Have Sent You originally hit Elgins begins album When I Gone literally snappy version Brenda Holloway classic I say sound muddy another reviewer put I say leaps speakers either I curious hear read buyers think On plus side packaging excellent great photos extensive essay Christian John Wikane The notes give brief history Pointer Sisters thoroughly discussing making album More Heaven opens machine gun drum blast guitar jangling way features minute wild string drum break ends Ms Pointer channeling Louis Armstrong One amazing disco productions ever',\n",
              " 'For grew like fans period The Pointer Sisters infamous Bonnie Pointer creative force behind original quartet years huge success broke group joined Motown Her first release gorgeous recording glorious red cover beautiful face simply titled BONNIE POINTER Side one uptempo tracks side two reflective There glorious covers WHEN I M GONE HEAVEN MUST HAVE SENT YOU The Motown sound loud strong But Bonnie also brought FREE ME FROM MY FREEDOM disco track much funk AH SHOOT The second side totally shined emotional standouts MORE AND MORE MY EVERYTHING Raw emotional Bonnie gave The album huge success HEAVEN MUST HAVE SENT YOU released disco track roared charts became disco dance soul r b classic It also brought even attention amazing album Here BBR done magic brought superb release life beautiful glorious remastering The sound amazing What gift And get bonus tracks huge booklet pictures extensive liner notes If release brings back memories never sounded better I highly recommend fans soul disco r b well fans And huge thanks BBR You reuniting listeners true music classics way meant heard Don hesitate purchase The crystal clear sound Bonnie pure vocals pull beginning end',\n",
              " 'I living small apartment Ceiba Puerto Rico year album hit shelves Heaven Must Have Sent You English Spanish rocked every juke box island Radio Mart broadcasting Cuba Caribbean airways poppin',\n",
              " 'Bonnie Pointer made two solo albums Motown called BONNIE POINTER One picture head earrings red background picture head flowers hair blue background I call RED BLUE albums There different music blue covers older mostly Mowtown music like JIMMY MACK The track listing RED album WHEN I M GONE FREE ME FROM MY FREEDOM HEAVEN MUST HAVE SENT YOU AH SHOOT MORE AND MORE I LOVE TO SING TO YOU I WAN NA MAKE IT IN YOUR WORLD MY EVERTHING The song HEAVEN MUST HAVE SENT YOU single even released Disco Single Remix longer disco sound I owned Red Blue albums I personally think Red album better album',\n",
              " 'The nd solo album BONNIE POINTER another self titled album title features mostly remakes Motown oldies featuring purple cover drawing Ultimately rewarding excellent st solo album released one year prior red cover I know decision redo old Motown songs whether decision producer Jeffrey Bowen Motown Only songs song original new song DEEP IN MY SOUL excellent It ballad much vein inventive tunes st album It album contained original music As songs I guess since HEAVEN MUST HAVE SENT YOU big hit combed Motown catalog classics redo It far many done What step forward progressive music like st album instead fatal error pretty much ended solo career This easily could EP probably nd full album remakes Of I CAN T HELP MYSELF JIMMY MACK WHEN THE LOVELIGHT STARTS SHINING THROUGH HIS EYES best The arrangements least new different original versions But really could top original versions It case overdoing Even presence SLY STONE FREDDIE STEWART paying songs add much well OLLIE E BROWN TRUMAN THOMAS NATHAN EAST top session men I read recordings done nd album shelved place Grave error This could advanced Bonnie career filled great songs like st And name BONNIE POINTER like st All done confuse people So like Bonnie singing sings great Motown oldies remade like Otherwise get st slo album IS amazing Bonnie ledt Motown album recorded one solo album IF THE PRICE IS RIGHT Private I label That better album features original songs even Ruth Anita singing background vocals songs The Pointer Sisters course platinum recording artists string hit singles albums A shame let back group since left sisters group Released late MOTOWN M R purple cover Songs I CAN T HELP MYSELF JIMMY MACK WHEN THE LOVELIGHT STARTS SHINING THROUGH HIS EYES DEEP INSIDE MY SOUL COME SEE ABOUT ME NOWHERE TO RUN',\n",
              " 'This CD set contains tracks many released first time others found limited edition vinyl The producer Bob Celli together Bobby Vee family done absolutely exceptional job remastering various tracks Bobby Vee never sounded good The stereo lush definition superb Party Doll Crickets unreleased track album Gone apparently atrociously sounding due mastering problem wonderful If gas prices top economy flounders need trip back technicolor stereo must set One issue Amazon lists digital download addition CDs info package',\n",
              " 'This review Rarities nbsp data hook product link linked class link normal href VINYL record album dp B S OSDQ ref cm cr arp rvw txt ie UTF VINYL record album click access EMI PARLOPHONE album THE BEATLES RARITIES PCM originally bonus LP nbsp data hook product link linked class link normal href box set dp B F WM ref cm cr arp rvw txt ie UTF box set year later issued stand alone In CAPITOL released American nbsp data hook product link linked class link normal href RARITIES dp B NB OK ref cm cr arp rvw txt ie UTF RARITIES nbsp LP quite different playlist notorious habit company dating back Typical British LPs outer jacket thinner stock U S albums NOTE back cover notes misidentify You Know My Name stereo track SIDE ONE NOTES Stereo World Wildlife Fund mix pre Phil Spector overdubbed strings birdwing SFX beginning The flip Ticket Ride single April I Want Hold Your Hand B Side Lady Madonna flip Back SWAN She Loves You single The B From Me You Apr Released U S nbsp data hook product link linked class link normal href SOMETHING NEW dp B FLAQ A ref cm cr arp rvw txt ie UTF SOMETHING NEW plus Sie Liebt Dich double sided German single January Released flip Let It Be zaniest Fab Four tracks originally planned A side also inclusion nbsp data hook product link linked class link normal href WHITE ALBUM dp B B R RO ref cm cr arp rvw txt ie UTF WHITE ALBUM Paul John cut like schoolboys putting voices making weird noises crooning close mike generally acting clown An LP highlight SIDE TWO NOTES The B Side Paperback Writer stereo version issued Capitol nbsp data hook product link linked class link normal href THE BEATLES AGAIN dp B LYUC ref cm cr arp rvw txt ie UTF THE BEATLES AGAIN nbsp The flip I Feel Fine nbsp data hook product link linked class link normal href I Call Your Name EP dp B F KF W ref cm cr arp rvw txt ie UTF I Call Your Name EP Its title track cowbell classic later homogenized Mama Cass group Matchbox rare Ringo vocal Carl Perkins cover A Larry Williams first released American nbsp data hook product link linked class link normal href BEATLES VI dp B BAN W ref cm cr arp rvw txt ie UTF BEATLES VI nbsp album Summer Another I Call Your Name EP John amazing Larry Williams cover John beats organ mercilessly Help B Side Fourth cut aforementioned EP high voltage Little Richard remake sung much passion Paul All tracks mono unless S stereo indicated SIDE ONE Across Universe S Yes It Is This Boy The Inner Light I Get You Thank You Girl Komm Gib Mir Deine Hand I Want Hold Your Hand S You Know My Name Look Up Number Sie Liebt Dich She Loves You S SIDE TWO Rain She Woman Matchbox I Call Your Name Bad Boy S Slow Down I Down Long Tall Sally TOTAL TIME',\n",
              " 'EMI PARLOPHONE album THE BEATLES RARITIES PCM originally bonus LP nbsp data hook product link linked class link normal href box set dp B F WM ref cm cr arp rvw txt ie UTF box set year later issued stand alone In CAPITOL released American nbsp data hook product link linked class link normal href RARITIES dp B NB OK ref cm cr arp rvw txt ie UTF RARITIES nbsp LP quite different playlist notorious habit company dating back Typical British LPs outer jacket thinner stock U S albums NOTE back cover notes misidentify You Know My Name stereo track SIDE ONE NOTES Stereo World Wildlife Fund mix pre Phil Spector overdubbed strings birdwing SFX beginning The flip Ticket Ride single April I Want Hold Your Hand B Side Lady Madonna flip Back SWAN She Loves You single The B From Me You Apr Released U S nbsp data hook product link linked class link normal href SOMETHING NEW dp B FLAQ A ref cm cr arp rvw txt ie UTF SOMETHING NEW plus Sie Liebt Dich double sided German single January Released flip Let It Be zaniest Fab Four tracks originally planned A side also inclusion nbsp data hook product link linked class link normal href WHITE ALBUM dp B B R RO ref cm cr arp rvw txt ie UTF WHITE ALBUM Paul John cut like schoolboys putting voices making weird noises crooning close mike generally acting clown An LP highlight SIDE TWO NOTES The B Side Paperback Writer stereo version issued Capitol nbsp data hook product link linked class link normal href THE BEATLES AGAIN dp B LYUC ref cm cr arp rvw txt ie UTF THE BEATLES AGAIN nbsp The flip I Feel Fine nbsp data hook product link linked class link normal href I Call Your Name EP dp B F KF W ref cm cr arp rvw txt ie UTF I Call Your Name EP Its title track cowbell classic later homogenized Mama Cass group Matchbox rare Ringo vocal Carl Perkins cover A Larry Williams first released American nbsp data hook product link linked class link normal href BEATLES VI dp B BAN W ref cm cr arp rvw txt ie UTF BEATLES VI nbsp album Summer Another I Call Your Name EP John amazing Larry Williams cover John beats organ mercilessly Help B Side Fourth cut aforementioned EP high voltage Little Richard remake sung much passion Paul All tracks mono unless S stereo indicated SIDE ONE Across Universe S Yes It Is This Boy The Inner Light I Get You Thank You Girl Komm Gib Mir Deine Hand I Want Hold Your Hand S You Know My Name Look Up Number Sie Liebt Dich She Loves You S SIDE TWO Rain She Woman Matchbox I Call Your Name Bad Boy S Slow Down I Down Long Tall Sally TOTAL TIME',\n",
              " 'Please know pirate release Rarities UK US never CD These tracks official CDs especially Past Masters reason Hey Jude The Beatles Again CD either MFSL sure release theres also fake MFSL pirate Abbey Road mono When original UK LP released I continental copy tracks never album These classics generally well known among fans This completists really I mind getting edition combined Let It Be If I come across one much I probably buy',\n",
              " 'PRIORITY records offers series modestly sized priced various artist collections popular music These always original performers recordings sound quality fine Recommended PLAYLIST THE SOUTH RULES Sweet Home Alabama Lynyrd Skynyrd Midnight Rider Gregg Allman Dust In The Wind Kansas Struttin My Stuff Elvin Bishop If You Wan na Get To Heaven Ozark Mountain Daredevils Train Time Blackfoot Ghost Riders In The Sky The Outlaws Keep On Smilin Wet Willie You Only Lonely J D Souther',\n",
              " 'Good ole rock roll',\n",
              " 'Good',\n",
              " 'Some good music past gets light current radio play I heard Knack since burned brightly faded quickly And get much play years owning set affordable way get chart quality songs heard much today',\n",
              " 'Great music',\n",
              " 'Songs familiar get alot regular airplay Worth price issues w songs Happy w purchase',\n",
              " 'Wanted music exercise This good album',\n",
              " 'love music I purchasing near future long wife lets order',\n",
              " 'Another great song Charley Pride I love song good upbeat message good voice',\n",
              " 'Charley voice incredible truly country legend though get much recognition This biggest hit take listen instant fan',\n",
              " 'I like song love Allison voice It haunting moving powerful She sings song though trying convey serious message I verge understanding message I recommend song',\n",
              " 'This great song I downloaded several copies It done practically everybody rock bands opera singers something say The lyrics stunning sad love song The singer chorus needs quite range It needs belted whispered help electronic equipment I liked Allison Crowe renditon Bon Jovi good job Jason Castro Canadian Tenors Brandi Carlile',\n",
              " 'Crow decent job song recent favorite lyrics Gives strong clear sound image',\n",
              " 'THIS MUSIC IS NICE I MEAN WHAT MORE CAN I SAY EVERYTHING IS JUST THERE WHEN IT COMES TO QUALITY VIBE',\n",
              " 'This one songs takes back really talented period Popular music The singing bass line song really amazing incredible A great timeless classic I like listen using Amazon cloud player',\n",
              " 'The lyrics melody song mean much released',\n",
              " 'Excellent song Love It much Would recommend R B lovers everywhere Really good price one great song',\n",
              " 'another classic song',\n",
              " 'Nice voice nice group One best time Miss much I wish singing hits',\n",
              " 'Love song Great memories teen years Can listen Thank',\n",
              " 'This song one greatest songs ever They write music like anymore All rap rock music dark dreary truly feel good tune simple lyrics I biased I love vibes man Vince Montana Jr Philly sound This song takes another place another time truly beautiful music live forever weddings many places I love sitar sounding guitar',\n",
              " 'This song brought back memories I teenager Definetly great song sing well',\n",
              " 'Latoya Luckette sampled song one I wanted original I like vibe song',\n",
              " 'I write revews single mp I I write revews single mp swrite revews single mp',\n",
              " 'The Stylistics one favorite groups There much feeling music brings best feelings',\n",
              " 'This song sweet song I complaints I like It makes feel good hear',\n",
              " 'Love style music',\n",
              " 'Growing I raised kinds music none Motown But secretly I loved stuff would listen sing time And today I sing various bars restaurants predominantly country audience simply area I live country And whenever I sing Motown classic like Stevie Wonder Superstition I see feet hands tappin beat But I You Make Me Feel Brand New Stylistics yes I sing low high parts people start slow dancing And I get kinds compliments If pull vocally really owe audience share wonderful love ballad world',\n",
              " 'Love song Great memories teen years Can listen Thank',\n",
              " 'This best collection greatest hits Many great songs brings back lots memories If love youll love',\n",
              " 'The Stylistics music always excellent music everything They style unique unforgettable',\n",
              " 'If ever want make chick put They write music like anymore All rap rock music dark dreary truly feel good tune simple lyrics I biased I love vibes man Vince Montana Jr Philly sound This song takes another place another time truly beautiful music simpler time',\n",
              " 'Love song Great memories teen years Can listen Thank',\n",
              " 'The Stylistics music always excellent music everything They style unique unforgettable',\n",
              " 'Love song Great memories teen years Can listen Thank',\n",
              " 'This version Betcha By Golly Wow I heard kid back late early This song brings back many memories girls I really liked back I like nearly songs done Stylistics If like mellow music would like song Mike Serovey MA MISM Owner Mike Serovey Reviews',\n",
              " 'Another classic stylistics I love music one way another relate songs',\n",
              " 'The Stylistics music always excellent music everything They style unique unforgettable',\n",
              " 'I know artist Prince done song nothing like hearing original time time',\n",
              " 'I write revews single mp I write revews single mp I write revews single mp',\n",
              " 'With music nice listen words bleeped TV screamed rapped weird beat Im tired able understand turn things time The Stylistics smooth easy without boring Its kind music',\n",
              " 'Love song Great memories teen years Can listen Thank',\n",
              " 'Who broke eventually make break The Stylistics hit nail head song',\n",
              " 'The Stylistics music always excellent music everything They style unique unforgettable',\n",
              " 'Beautiful song nostalgic puts right back Very easy sing along need cheer quarrel loved one song',\n",
              " 'I forgotten JAVA I downloaded anyway I glad I It simple tune lots fun',\n",
              " 'A great song I heard friends house couple time add collection',\n",
              " 'I used help familiarize great composition I love would buy I lost',\n",
              " 'This song I walked wedding On video I hear respond saw Priceless Now I hear song brings back smile I held since day I married wonderful husband',\n",
              " 'Listening piece relaxing allows easy stressed great song',\n",
              " '',\n",
              " 'Rocking must tune',\n",
              " 'Great tune',\n",
              " 'I thru lot song sums life travels',\n",
              " 'Awesome',\n",
              " 'I first heard Charter Music Choice dance channel Cool dance song love Howard Jones sample On dance party songs playlists',\n",
              " 'Always loved song new spin Cedric Gervais makes fun listen',\n",
              " 'Tracked song finally I collecting favorite oldies well newer songs The list already',\n",
              " 'One thing give Howard Jones even depressing break songs penned sunshine Things Can Only Get Better one forgotten mid gems throw mix everybody loves It synth vibe oh wow wow highly reminiscent following year Bon Jovi smash nbsp data hook product link linked class link normal href Livin On A Prayer dp B V VYC ref cm cr arp rvw txt ie UTF Livin On A Prayer',\n",
              " 'IM digging babe cream cheese chives onions AWESOME ness U dig mofo yaayayayaya',\n",
              " 'Sure melt resistance This song could sweep lady feet put mood Smooth',\n",
              " 'One time oldies love If looking good love song one',\n",
              " 'Great',\n",
              " 'OMG great song',\n",
              " 'Great old school music',\n",
              " 'Okay',\n",
              " 'good song',\n",
              " 'love',\n",
              " 'Classic',\n",
              " 'Like song one favorites',\n",
              " 'Great old school song',\n",
              " 'This story telling song man wanting next beautiful woman From movie Car Wash Great film song',\n",
              " 'A great song classic movie The song I really liked movie I',\n",
              " 'The movie music classic lover Spending dimes wasting time talking till I black blue I wan na get next No disrespect love music',\n",
              " 'This song strange innuendos would make hair metal bands blush damn thing sticks head rest day',\n",
              " 'This nice song Well performed Nancy Lee It one favorites year I love The sound good',\n",
              " 'Great songs Originals No records',\n",
              " 'Great song artists originally made great',\n",
              " 'Played wedding hit everyone',\n",
              " 'Good',\n",
              " 'Really loved nice',\n",
              " 'I enjoy songs I purchase Amazon Kindle The qualitiy songs wonderful',\n",
              " 'I listen song repeatedly get tired This fantastic song written Lee Hazlewood perfectly sung Nancy Sinatra He classic cowboy voice Nancy Sinatra smooth silky voice',\n",
              " 'I heard song happened stumble across Youtube It pretty I love listening Once I learning play ukulele',\n",
              " 'I watching movie day remember name movie couple living room kinda making eyes Anyway song playing back ground scene And I remembered great song Some Velvet Morning also great song You soft voice Nancy deep gravely voice Lee',\n",
              " 'I love music downloads great nice song lot songs artist music lover',\n",
              " 'This song caught guard I heard soundtrack movie Stoker The film plenty good songs old cover song favorite Very sexy',\n",
              " 'This song people workers employees Everytime I listened music I proud worker This song part music library',\n",
              " 'In classic rocker treated driving beat intertwined soaring lyrics Musically fusion early rock strong Motown flourishes ample use fuzz wa wa guitars lively choral back vocals The lyrics upbeat typical era It makes smile wish music today could impart good feeling There really great drumming throughout',\n",
              " 'Great song',\n",
              " 'Great party music',\n",
              " 'Wouldn got I like right',\n",
              " 'This favorite song Rare Earth In view captures best Rare Earth unique sound energy',\n",
              " 'OK',\n",
              " 'OK',\n",
              " 'It fun hear song th Class reunion Being able download song iPhone easy',\n",
              " 'I always liked song Love beat lirics It one favorites forever Super jam',\n",
              " 'Oldie old days',\n",
              " 'The fact songs still available confers degree merit I suppose I purchased along thirty others period I sitting around feeling nostalgic youth days I shared friends band Detroit EVERYone Detroit sixties band Gloria Midnight hour old Stones favorites elements playlists The three chord simplicity old tunes seemed refreshing reshaping blues gave birth It great listening others I purchased along The thing remarkable group like guys one hit',\n",
              " 'Another great old song long ago Sansa fuze enjoy daily work The old songs music great',\n",
              " 'song Flower child days still better cr p dumped today music market',\n",
              " 'I remember loving song kid I know sang I would recommend',\n",
              " 'love love love song gald back mp player listen time',\n",
              " 'It decent song good beat I like music good fast rhythm good lyrics This fits',\n",
              " 'I find song website found amazon com It wife liked So I happy',\n",
              " 'I really miss great groups like Santo Johnny took sound music another level us back get enough',\n",
              " 'I really love harmonization Frank Nancy It clear good song I thank person put',\n",
              " 'Recommend friends I like words I really babbling',\n",
              " 'Do guys remember Art Bell hosted radio show Coast Coast He great bumper music song one Very Haunting',\n",
              " 'What got caught song hearing remake Webb Brothers The remake took best aspects song gave updated polish All means original sounding dated still holds unique familiar feel The song two different parts These parts completely different things The feel groove even time signature different The first part much forward moving brooding feel reminiscent old western films The part switches time signature Nancy Sinatra singing softly nature Both sides seem switch back forth either dance duo Kind one side masculine one feminine Much said meaning song lyrics The obvious one part man influenced somebody named Phaedra Phaedra speaking Is romance Is evolving higher sense Is sex I found definitive answers I like think redemption given somebody hardened life one one surroundings It simple song yet filled complexity lyrics musically well It covered many times I find going back original keeps touch beautiful song darker warmer tones If like psychedelic music get much better',\n",
              " 'Like folks I heard song Kill Bill curious sung like I really like guitar accents lyrics Its good one cents',\n",
              " 'Love Music',\n",
              " 'Good',\n",
              " 'Classic',\n",
              " 'Nancy Sinatra best Slow sultry song memorable lyrics could one ask Typically songs ballad rock A must Nancy fan',\n",
              " 'Cher Nancy Sinatra But Nancy Sinatra version Bang Bang used movie Kill Bill',\n",
              " 'Good tunes I mention I dislike writing reviews',\n",
              " 'Good Memories',\n",
              " 'One many songs affected life positive manner',\n",
              " 'I never get tired listening music reminiscent innocent time Wish I back',\n",
              " 'This edition I heard radio growing The lyrics still powerful well phrased vocals still include harmonizing falsetto I stand normally guys perfectly guitar work still slightly metallic electric guitar sound classic rock Have love',\n",
              " 'This one many made touched peoples hearts growing I loved group school Giving away age music anymore',\n",
              " 'great song great era music brings back lots memories childhood great band good songs',\n",
              " 'hard rockin song band one get used nice add player',\n",
              " 'excellent',\n",
              " 'Great Song An anthem This song meaning heavy metal',\n",
              " 'great song',\n",
              " 'Great band Awesome song',\n",
              " 'Great Rock N Roll',\n",
              " 'I like song wanted Kindle',\n",
              " 'I like',\n",
              " 'This one favorite tunes back Nancy real good job performing peppy song I love The MP sound quite satisfactory',\n",
              " 'I always liked tune really short run time Reminds movie Full Metal Jacket tune played midway thru video',\n",
              " 'Music ear dlove',\n",
              " 'Nancy Sinatra notable song one favorites',\n",
              " 'These Boots Are Made For Walkin Nancy Sinatra bold pop song singer expressing assertive way plans boots The music song also well timed expresses lyrics one days boots going etc etc',\n",
              " 'Exactly I looking This version I remembered',\n",
              " 'I heard Jessica Simpson I think sing really wanted hear Nancy Sinatra version I heard kid I think sounds better',\n",
              " 'WHAT Z TO SAY IT Z A SONG D LOAD AND IT PLAYED FINE FULL LENGTH',\n",
              " 'This song brings back memories I actually think first song I ever paid attention young kid Nice find old gems Amazon',\n",
              " 'SUPER',\n",
              " 'A',\n",
              " 'Good',\n",
              " 'LOVE OLD TIME MUSIC I AM WHAT IS CALLED A BABY BOOMER GOOD SOUND QUALITY USED TO MAKE SOME FAMILY MOVIES WITH FOR MEMORIES',\n",
              " 'The song real beat Still hooks every time',\n",
              " 'This much better copy store The first one I shared online years ago either went viral longer fits well iTunes library But I copy iPod Thanks much',\n",
              " 'SATISFIED',\n",
              " 'I enjoy songs I purchase Amazon Kindle The qualitiy songs wonderful',\n",
              " 'I loved songs strong almost militant standards day In backdrop times These Boots Are Made For Walkin one rallying cries women fed traditional roles homemaker mommy These Boots Are Made For Walkin song metaphor spoke empowerment called weaker sex More woman rallying cry darn good song This song like many others joyful part era childhood In fun look back world long gone Sometimes I listen songs like These Boots Are Made For Walkin I remember listening car radio memory sometimes vivid almost smell Ford Fairlane family car',\n",
              " 'When Frank Sinatra kids follow footsteps make entertainment business Nancy Sinatra talented singing style telling story going happen The song great melody lyrics',\n",
              " 'Four stars ballad music Though iconic classic much rock roll sounds many songs still Sinatra ballad A must Sinatra collection',\n",
              " 'Love music great beat Sometimes I Sing along I would recommend anyone I hope like like I',\n",
              " 'This song never ever ever gets old One best old songs listen even',\n",
              " 'Another great old song long ago Sansa fuze enjoy daily work The old songs music great',\n",
              " 'This one songs I like Nancy Sinatra quality never desapoints matter many years ago song recorded',\n",
              " 'Not sure listening today sound I heard I kid I heard oldies goodies station I maybe I thought great beat Listening Sinatra voice today adult though I notice seem much singing voice The beat still good something quite right It good song',\n",
              " 'Another great old song long ago Sansa fuze enjoy daily work The old songs music great',\n",
              " 'Classic psychedelic song eventual country artist Great song',\n",
              " 'My dad feeling nostalgic wanted download song knew country Kenny Rogers sang trippy music',\n",
              " 'Good song',\n",
              " 'Another favorite Kenny Rogers The First Edition songs',\n",
              " 'For folks know K Rogers Country artist Take listen foray Psychedelic Rock Great Stuff',\n",
              " 'All say DUUUUDE',\n",
              " 'It brings back memories youth I years old Rogers quite range back Who knew would become huge country star',\n",
              " 'A lot people realize Kenny Rogers went country one Hippy movement This really great album song favorite dropped tuned',\n",
              " 'believe song done Kenny Rogers bad trip First Edition At least said Playboy interview shortly song still Great song bygone era',\n",
              " 'I grew listening guys realizing back great set vocals Kenny Rogers A great song timeless classic',\n",
              " 'Iris DeMent really great voice haunting rendition Leaning On The Everlasting Arms',\n",
              " 'This song made movie True Grit I hope audience truly gave great hymn thought The everlasting arms God always reach us take us secure place Christ',\n",
              " 'love really affected used theme music true grit story girl brave lives leaning Everlasting Arms even danger',\n",
              " 'experimenting music downloads kindle plan download many songs old favorites',\n",
              " 'They showed',\n",
              " 'Great song Turtles This popular hit radio holds well years',\n",
              " 'Great American teen sound',\n",
              " 'downloaded kindle sounds ok kindle prefer MP take',\n",
              " 'Loved song first time I heard decades ago still love stars since music tastes subjective make sure listen audio clip buy',\n",
              " 'It music artist I wanted course good review',\n",
              " 'The best advertised',\n",
              " 'Legendary song',\n",
              " 'Good tunes I mention I dislike writing reviews',\n",
              " 'awesome',\n",
              " 'This song cities banned right wing Nazi',\n",
              " 'Everybody favorite',\n",
              " 'music',\n",
              " 'I include CD I made woman',\n",
              " 'I download song It brings back many memories',\n",
              " 'oldie goodie good',\n",
              " 'Great song many memories classic Just love tune I realized I opt buy hot wait chance hearing oldies station',\n",
              " 'I love song use ring tone someone named You got Louie The beginning song fits perfectly needs',\n",
              " 'I always loved song since kid It timeless Play honey sing',\n",
              " 'I even bother listen anyone else song It forever etched happy memories younger days Yes lyrics simple repetitive music well kinda silly I love sentiment joy brings',\n",
              " 'I loved back still love today I see lovin nobody life Can clearer dearer No It So put top hook iPod set song honey sing away like kids used still Thankfully',\n",
              " 'Enjoyable',\n",
              " 'The beautiful love song I ever heard Pleasant easy listen I added several play lists',\n",
              " 'Excellent',\n",
              " 'It song track I like I wanted I bought It quick way get single want I use practice aids band work The MP format optimum real listening enjoyment In order compress data lot tones left Even good cassette tape outperforms storage medium But uses inexpensive',\n",
              " 'love song',\n",
              " 'xlint',\n",
              " 'Good song Video really good Cute',\n",
              " 'Heard song Michael Berry Radio Show buy It kinda redneck love song',\n",
              " 'Heard end movie never listened',\n",
              " 'Flo Eddie may dark side played Zappa This classic song remastered sound good digital age',\n",
              " 'Easy purchase download Amazon software',\n",
              " 'This definitive song one memorable vocal chorus harmonies era A great song classic sound feel',\n",
              " 'This song brings back great memories younger days making public phone call cost dime',\n",
              " 'I really like song lot It got right blend catchy tune good music Like one lot And hilarious video piece YouTube',\n",
              " 'sing along',\n",
              " 'This great song The lyrics super tune one going stay mind If want feel happy carefree song probably work wonderful way It beautiful song great vocal great lyrics wonderfully happy tune',\n",
              " 'Good song',\n",
              " 'love',\n",
              " 'Brought back memories Loved',\n",
              " 'Way back nice',\n",
              " 'awesome Love',\n",
              " 'A great teen love song Well done good sound production Great band',\n",
              " 'People work expected take part kind mechanism without magic avoids anything going song As personalities fog always sense iceberg approaching ramming speed The key thinks crossing legs funny This song works man woman singing The combination big door prize There ups downs He laid month Sundays I caught sniffing undies Intellectual involution aroused magic makes whatever comes next far interesting observed far The secrets work circus stunts religion philosophy usual cosmic pogo stick ups keep scrambled eggs runny',\n",
              " 'Great music A',\n",
              " 'I purchased many love songs Amazon romantic mix CD I made husband',\n",
              " 'Great Song I say I needed song party easy get downloaded',\n",
              " 'It played Sister Wedding mine It one best songs Turtles',\n",
              " 'I grew kind music I enjoy Good Memories',\n",
              " 'Sounds great A classic tune aside choosing weather rhyme happy together great song',\n",
              " 'Good song I always looking good song fits emotional needs one I easily put repeat Otherwise I purchased',\n",
              " 'This song takes back listening youth They great taking people home better time nowadays Very happy transaction',\n",
              " 'Grew listening Dad sing song Mom Always makes smile It sweet upbeat song dance',\n",
              " 'Just good I listened song If love song',\n",
              " 'It really nice hear song sing along A song words make since A song vulgar If like kind music',\n",
              " 'Amazing Absolutely amazing nailed Worth every penny although I suggesting ANY way companies sell music online start charging',\n",
              " 'I like lot songs Turtles back one border line bubble gum Not bad Actually good tune',\n",
              " 'I grew Turtles music I never tired I always enjoy music every song Great',\n",
              " 'Another Master entertainment shall never ever forget Inspiring delightful Makes smile every time hear ashamed concern meager problems remember overcame much time',\n",
              " 'Once I heard song film Ray remembered parents playing home thumbs',\n",
              " 'Great oldie classic sure remind young er This shorter version recording I recommend',\n",
              " 'I agree James sound quality par though great song However master tape found NJ flea mart stored basement understandable sound quality The original album sound better',\n",
              " 'Rock Funk maybe If years old recognize title recognize melody',\n",
              " 'This original issue song subpar mastering sorry The song remastered corrospond digital era',\n",
              " 'I love song',\n",
              " 'This immediately went intro favorites collection get many plays Not big follower rest stuff',\n",
              " 'This one unexpected songs band know much They great style comes clearly song It great find songs like listen',\n",
              " 'Great Song helps worship praise worship',\n",
              " 'Terrible play divice',\n",
              " 'Funny thing I fell love song courtesy Tyler Perry I Can Do Bad By Myself movie Yip This definitely pick song',\n",
              " 'My cousin singing song I get plus I heard song I could bad I wish sound track I love song',\n",
              " 'The song I downloaded single vocal guitar background I remembered melodic harmony My memory bad another version song I missed',\n",
              " 'Who know song If rocker heard need get education MP one forerunners every collection',\n",
              " 'This updated version song defined Mason Proffit early It still musically beautiful changed lyrics reflect less conflict counter culture straight world rather somewhat universal concepts justice truth price achieved',\n",
              " 'Mr Desmond voice unusual unforgettable This great song matter kind music like',\n",
              " 'combo Reggae bit hip hop makes happy listen course new song many remain current classic one',\n",
              " 'The great thing internet allows rediscover songs past I never knew sang song I found You Tube',\n",
              " 'Christmas jeer I mean cheer rage I figured I would part retail industry obsession Christmas July review tune appropriately July This sketch ranks A Christmas Story Ralphie along Red Rider BB gun Compass Stock Stalk knows American classics This song undying testimony America obsessive nature parody unrelenting need kick back say hell tight good reason stress killer Fantasia white bat something anyway life serious irony based It come surprise fine line becoming productive postal rests somewhere letting go moment Unfortunately I know things Enjoy',\n",
              " 'Grandma Got Run Over By Reindeer Dr Emo yes really doctor signature hit gone history becoming one ludicrous modern X Mas songs recent history The reason I listen song almost everyday Christmastime funny top It really tragic song least lyrics sung sound funny even rather screwballish I remember music video made VH used show Christmastime My favorite part song Dr Elmo asks deadpan open gifts send back It get theatrical',\n",
              " 'children song little dark',\n",
              " 'It classic',\n",
              " 'Always like song Christmas It puts much fun time year You sit laugh song',\n",
              " 'Classic',\n",
              " 'great oldie',\n",
              " 'Came time expected Love song Christmas Worked great',\n",
              " 'fun song',\n",
              " 'Love music Thanks',\n",
              " 'I missing old christmas carrols I grew These brought back many delightful childhood memories I lucky find original recording artists',\n",
              " 'I played song Piano Christmas concert one year High School I heard radio one day brought back memories My year old son loves wants played He thinks hilarious',\n",
              " 'Awesome Loved What would Christmas without hilarious song I always catch singing starting early November',\n",
              " 'Very nice job song Love horn lines',\n",
              " 'Great song listen going breakup could induce temporary drinking lol I would recommend listen though',\n",
              " 'I never heard singer prior seeing free MP I fan blues style music preview sounded good I glad I downloaded It features nice guitar playing singing lyrics rather simple I admit I like kind lyrics break heart probably I like blues much telling kind story lyrics little simple nice sound nice guitar riffs',\n",
              " 'Having served Marines I heard done bands country world This free Veterans day I grabbed',\n",
              " 'great',\n",
              " 'Great song',\n",
              " 'OK heard better',\n",
              " 'Thank great',\n",
              " 'AMERICA S MUSIC',\n",
              " 'video',\n",
              " 'beautiful music perfect',\n",
              " 'I bought play friends patriotic holidays',\n",
              " 'Very good download It met immediate needs The rest filler satisfy review word count',\n",
              " 'AWESOME song Well done perfect many ways Hard like wait get',\n",
              " 'Its ok I got free veterans day Its type music I listen',\n",
              " 'I downloaded nursing home residents enjoy They thought wonderful brought back memories How nice provide music free Thank',\n",
              " 'As veteran I greatly appreciative recognition company extends us solemn day Thank much',\n",
              " 'I LOVE song however version I believe original recording Sounds bit different But I still LOVE',\n",
              " 'This song brings many good memories Thanks Amazon Good download good playing friends',\n",
              " 'Not worth price digital download free',\n",
              " 'This reminds going Sign Board Bar Crown Center Kansas City Perfect intimate listening crowd I remember people calling Oh Yeah play Brother',\n",
              " 'I know recorded live sound came mic song would sounded better could understand singer clearly',\n",
              " 'Sadie Son Seals This classic Hound Dog Taylor Chicago blues song finds pulse life Son Seals The singer seems made excuses things defend Sadie left wants return sure good idea Great piano B B King like guitar Sadie come back home tonight Oh Sadie come back home tonight I love know I gon na treat right I fully recommend Sadie Son Seals Anthony Trendl',\n",
              " 'Nancy And Lee fine album pointed Nancy Sinatra firmly toward pop music This album moved beyond rock roll sex kitten years Boots partnered Lee Hazelwood Particular favorite duets Summer Wine Jackson Some Velvet Morning Sand Lady Bird Nancy Sinatra fans love CD',\n",
              " 'Nancy Lee perfect combination like Sonny Cher Lee writer gravel voice troubadour personna Nancy kitten school girl toughness feminine smart They several hits groovy day best Jackson Summer wine Sand great examples duos country pop defined unique sound Billy Strange production brings honest pop sound fresh This one favorite lps This best sixties output also swan song album years back But charm recordings The cd print sells small bundle mp',\n",
              " 'So I purchased I truly sorry You sorry miss deal great collection songs era bygone two artist moment helped define era A must Nancy fans',\n",
              " 'I always liked music I listen I want fun',\n",
              " 'I looking actual version song used movie HOP I nothing version version If rating would higher',\n",
              " 'I love song',\n",
              " 'My family likes song',\n",
              " 'I love convenience MP system',\n",
              " 'Easy Download Fast Download No Problems ever',\n",
              " 'good song',\n",
              " 'I purchased boyfriend He trying find song years Only Amazon song I downloaded MP player This one favorite songs I highly recommend Amazon music',\n",
              " 'Quirky timeless retro acid like alternative style rocker kitchy lyrics Recommend anyone exploring exploring alternative music movement',\n",
              " 'Awesome',\n",
              " 'I worked woman back would sing hook And I worked PT Top radio station time know I hear ENOUGH I hated song Now I older far removed hearing incessantly good listen',\n",
              " 'Very funny song I first heard college roommate would bust laughing every time heard This version seems longer remember still fun',\n",
              " 'Nice childhood song available crisp digital version Sure beats scratchy records wore cassette tape sound',\n",
              " 'THIS IS GOOD STUFF THIS GUY FRANKIE AVALON IS A NEIGBOR OF MINE FROM PHILA PA SAME SCHOOL HONESTLY BUY THE SONG OR ALBUM YOU WILL LIKE IT IF YOU ARE FROM THE SAND S TONY SO PHILA PA',\n",
              " 'The old hit singles vinyl I purchased song The two crushes I I real young Frankie Avalon Bobby Sherman I still like music maybe I still blush first impressions love',\n",
              " 'Excellent Oldie',\n",
              " 'Great',\n",
              " 'Good music',\n",
              " 'From exposure VH I th grade I first heard I Ran A Flock Seagulls This catchy song hybrid synth pop electro rock beat appears song falling love someone different way many people Im glad song available hear online Amazon prime youtube Pandora iheartradio etc rarely played local radio husband I current reside',\n",
              " 'Great song',\n",
              " 'Great song Download format file perfect',\n",
              " 'good',\n",
              " 'great',\n",
              " 'So nice I bot Twice',\n",
              " 'So nice I bot twice',\n",
              " 'Great flashback',\n",
              " 'Purchased Realtor open house music themed',\n",
              " 'k',\n",
              " 'Great',\n",
              " 'Reminds GTA vice city',\n",
              " 'Good Music',\n",
              " 'Good Music',\n",
              " 'The perfect example one hit wonder',\n",
              " 'This track one greats',\n",
              " 'love song',\n",
              " 'A flock Seagulls hit song music rousing beat voices went well beat song took along ride upon rhythm band put heart tune sang played Years come gone songs The Flock Of Seagulls lives beautifully',\n",
              " 'Being MTV generation baby fave Reminds airline clerk airport The Wedding Singer Adam Sandler runs Vegas stop Drew Barrymore eloping Song popped head one day I download',\n",
              " 'I originally started working song Armed Forces Workout ALBUM download trip memory lane',\n",
              " 'I added workout mix simply nostalgic value It takes back I go Excellent song excellent memories',\n",
              " 'I know exactly still great Others gave bad review I think warrants',\n",
              " 'Man black',\n",
              " 'Thanks',\n",
              " 'One favorite songs',\n",
              " 'No words necessary Who know one',\n",
              " 'Good annum',\n",
              " 'A childhood favorite',\n",
              " 'download arrived good shape although downloads many play way end',\n",
              " 'ok',\n",
              " 'I love older country Music',\n",
              " 'family member downloaded mp',\n",
              " 'I love message song The lyrics really got attention They actually really beautiful',\n",
              " 'I walk line another fine song Johnny cash I remember dining along came Radio I love music country singer classic yet songs ageless young first came',\n",
              " 'An original covered many times This song original absolute must A real classic great beat tune',\n",
              " 'love song',\n",
              " 'Quite possibly best new wave song ever made Gary Numan always sound innovator continues make amazing music day',\n",
              " 'one best new wave songs ever',\n",
              " 'good overall',\n",
              " 'worked great thanks',\n",
              " 'Husband goes grinny whenever played Had get',\n",
              " 'I would recommend friends family',\n",
              " 'I added one mp collection Pretty well known song catchy beat lyrics makes great dance driving song',\n",
              " 'This song really hard find But several hard find songs I managed acquire Amazon',\n",
              " 'I heard song TV commercial thought one songs group Cars But I learned like new singer Gary lot interesting songs I hope purchase music',\n",
              " 'gary newman style music I listen song reminds younger days thanks',\n",
              " 'To Gary Numan still cutting edge even though song recorded many years ago His musicality keyboards quite striking I never hear enough song',\n",
              " 'I needed songs album resurrect compilation album fro called rock An album put K Tel records',\n",
              " 'In short science fiction story Transit Mars great science fiction writer Arthur C Clark protagonist call awesome piece music ever composed Who I argue great man',\n",
              " 'How mere musical mortal like presume rate J S Bach This fugue everyone recognizes quality recording carried Kindle Fire played anytime anywhere Carry piece musical history today',\n",
              " 'This great song adult type make one laugyh laugh Everyone I let hear eat laughed amd loved Get pass tn ones family Thanks cool song',\n",
              " 'GREAT',\n",
              " 'ya must back bar fly days im glad remembered add collection',\n",
              " 'lol I love song I laugh hard every time I hear I play',\n",
              " 'So funny great lyrics yes picking rocks Great party song one road also',\n",
              " 'If You Like Collecting Odd Songs That Have A Comedy Overtone This Is The Song For You Although It Contains Adult Language It Is Quite Unique And Is A Great Addition To Your Collection',\n",
              " 'It funny VERY vulgar commentary person person interactions DO NOT DOWNLOAD unless one comfortable hearing stream expletives You want hear behind Honey listening Ooops',\n",
              " 'It musical cattle prod first came tame Fun visit stay long collection',\n",
              " 'If classics great tune listen The orchestration great composer great job making record',\n",
              " 'As far famous instrumentals go one favorites well played Takes journey imagination',\n",
              " 'The introduction Lone Ranger William Tell Overture behind works perfert Ipod It brings back great memories',\n",
              " 'A wonderful piece music inspiring positive actions within listener Such music heard daily everyone',\n",
              " 'If old hard rock roller like love one Most young people would able guess old song listening It still awesome music',\n",
              " 'This classic tune remastered Mp download It put Uriah Heep mainstream rock radio I highschool came moves still',\n",
              " 'I bought song dvd I making parents Such beautiful touching song There dry eye house Nat sings',\n",
              " 'us dream romantic love songs one',\n",
              " 'I always loved Stardust Hoagy Carmichael IU alum like I Years ago Nat King Cole one favorite singers I would wait night hear songs radio Now I listen best',\n",
              " 'Perhaps little maudlin I would nominate song singer best planet Earth could produce intergalactic faceoff There nobody thing smoother King Cole',\n",
              " 'Of course Nat King Cole King Some thought Elvis real king Nat Stardust best opinion although many best ones would argue justified',\n",
              " 'I Tina Turner fan I much older I also fond song maturity changed musical tastes This song good',\n",
              " 'another great song Chris Tomlin',\n",
              " 'Chris Tomlin become mainstay Christian praise songs This another finer hymns I look forward',\n",
              " 'album wonderful one Chris Tomlin outstanding performer writer cd shows',\n",
              " 'Great song All double meanings synth The sound quality great clear Totally totally awesome',\n",
              " 'Would great play Chemistry class high school I heard radio coworker catchy I decided buy',\n",
              " 'A fun song',\n",
              " 'A trip fantasy land via audio',\n",
              " 'Whacked fantastic',\n",
              " 'I love song It retro',\n",
              " 'Classic tune If fan new wave music must',\n",
              " 'Good mix',\n",
              " 'OMG memories',\n",
              " 'And tagging proceeded download Classic tune fine addition playlist Not sure rest songs CD I listen',\n",
              " 'This awesome I like way done I would recommend album anyone interested type music',\n",
              " 'What song This always song never scan past grabs crank volume enjoy Just great tune anyone playlist great songs',\n",
              " 'In opinion one BIGGEST songs needless say reason purchasing MP version song I would recommend song anyone looking Classic Rock Music',\n",
              " 'Not much say excellent recording classic song Cant go trivia night anywhere without entire place yelling Science unison word mentioned That makes classic song',\n",
              " 'She blinded The song also used movie Weird Science I think Oingo Boingo also music movie',\n",
              " 'This song unbelievably awesome I found SHAZAM app named song gave lyrics allowed option purchace Amazon',\n",
              " 'Definitely song Thomas Dolby one listenable clever songs last years sound lyrics',\n",
              " 'I downloaded song Mom funeral It one favorite songs',\n",
              " 'Love',\n",
              " 'Good Christian music',\n",
              " 'I love',\n",
              " 'Good song',\n",
              " 'Chris Tomlin music always great listen',\n",
              " 'As music goes download smooth quality file flawless novice ears played multiple devices include mp disc I songs made differencethe quality spot Amazon delivered yet another fine product I love fact songs I purchased backed cloud What great service I love I enjoy massive selection offered Amazon I love ease music selected listened backed via Amazon digital services',\n",
              " 'Love',\n",
              " 'First gym morning song nice warm music',\n",
              " 'Love',\n",
              " 'LOVE THIS SONG',\n",
              " 'Love song',\n",
              " 'awesome',\n",
              " 'I sing song always every time I hear end I choke tears eyes song gets',\n",
              " 'Great music',\n",
              " 'love rendition',\n",
              " 'Very good',\n",
              " 'My favorite hymn bit new Still love origional also makes heart smile A real Blessing',\n",
              " 'This beautiful rendition classic hymn Amazing Grace Anyone hears blessed I sure',\n",
              " 'Awesome',\n",
              " 'I would normally say mess wonderful classic however rendition well done instant classic I could listen original beautifully done',\n",
              " 'great music',\n",
              " 'LOVE IT BEAUTIFUL MUSIC',\n",
              " 'Love song',\n",
              " 'I knew I went looking Clear digital recording price worth Another keeper excellent value',\n",
              " 'Great',\n",
              " 'My favorite song',\n",
              " 'Love chris Tomlinson His music says I thinking',\n",
              " 'Super Fast Shipping Great product',\n",
              " 'Great song',\n",
              " 'Classic christian song',\n",
              " 'Love CHRISTian music It make soul dance joy cry joy sadness anything CHRISTian music awesome way communicate Father God Almighty Wish whole world could hear CHRISTian music caused dark souls enter His Light Love Forgiveness Acceptance Grace Mercy etc',\n",
              " 'lifts spirits',\n",
              " 'Awesome',\n",
              " 'Love arrangement hym Chris Tomlin amazing voice',\n",
              " 'Great product I love arrived expected',\n",
              " 'love',\n",
              " 'Great album',\n",
              " 'Very moving',\n",
              " 'I like Chris good song variation',\n",
              " 'Another great song Chris Tomlin purchased husband',\n",
              " 'I greatly enjoyed',\n",
              " 'So great',\n",
              " 'This short praise song fits well classic hymn beautiful moving arrangement I love',\n",
              " 'I LOVE entire album least get song favorite yes I sing car poor drivers passengers lol touches soul great way',\n",
              " 'Amazing Grace My Chains Are Gone Chris Tomlinson truly amazing Version song written left line many years',\n",
              " 'This song greatest version I ever heard Very uplifting brings message across I love sing along',\n",
              " 'Glad access music Really like Chris Tomlin music Keep music coming I keep buying',\n",
              " 'Not morbid grown children hate talk death however I want song Chris played funeral Don cry I arms Saviour',\n",
              " 'I listened tot song sung song also enjoyed much Because Jesus took chains away I free You well Listen song surrender Lord Jesus He set free Sin',\n",
              " 'There many artists done Amazing Grace however pleasant listen hard listen one',\n",
              " 'I love song Was glad able find get downloaded It first attempt downloading song I admit computer saavy hard Because I download I however able talk Jenny Amazon guided steps pleasant time phone If I could I would hugged I would recommend song anyone likes old hymns praise worship A great mixture',\n",
              " 'Really like cris Tomlin singing I really like words songs I brought I like singing',\n",
              " 'I love song family views memorial father passed away December',\n",
              " 'This song great blend classic hymn new flavor I love song find worshipful You regret buying song',\n",
              " 'For price great song Good sound good message talented artist How go wrong',\n",
              " 'This version great song I glad find He great singer I love Praise Worship music So hits spot',\n",
              " 'This song little bit updated version old standard favorite hymn I would highly recommend Christian music fan anyone likes contemporary music Chris Tomlin fan anyone likes song Amazing Grace There enough standard familiar hymn satisfy older traditional crowd still appealing younger contemporary crowd well',\n",
              " 'Love song When ever I heard radio I always thought I buy Finally love',\n",
              " 'You never go wrong Chris Tomlin song You tell much loves Lord shares faith',\n",
              " 'I loved song long time idea Chris Tomlin Great singer songwriter',\n",
              " 'This beautiful CD glorifies God His love amazing His grace limitless He sets us free',\n",
              " 'A song God Grace chains sin removed His grace Grace Gift gets eternity heaven',\n",
              " 'It really good quality song It comforting soothing inspirational Good heart soul',\n",
              " 'wonderful song new element know Amazing Grace really knows His amazing grace He Good Amen',\n",
              " 'This country style classic song new well planned twist My kids love',\n",
              " 'I love song I purchased another artist version song lengthy This version Chris Tomlinson captures true essence song',\n",
              " 'This song great Songs like allow worship Lord way He worshipped Thank',\n",
              " 'I really like version Amazing Grace God set us free What relief chains gone',\n",
              " 'Very easy download I added galaxy macpro book dell laptop Now I purchased bluetooth audio I listen music Again fantastic sound cloud I use amazon cloud app',\n",
              " 'Chris Tomlin must immerse word GOD every song reflection scripture fills cup ALWAYS',\n",
              " 'I love song much daughter wanted learn one songs sings solo church regular basis',\n",
              " 'It message hope direction It fills Gods presence peace I listen',\n",
              " 'This song beautiful I excited able purchase It great addition music collection',\n",
              " 'This song makes cry way handled touching Great song render well Christ Tomlin check songs Chris Tomlin',\n",
              " 'I hear song sang different people chris tomlin best Chris Tomlin favorite christan singer hes got great voice',\n",
              " 'This version Amazing Grace beautiful mixes two songs together sounds good together In mind I would never mixed song Amazing Grace song mixed My chains gone gives chills I love sing church',\n",
              " 'Of religious songs probably known There probably hundred renditions available one I really like This one songs search Internet find free copy I wanted version artist got rewarded work I hope makes sense',\n",
              " 'Chris Tomlin seems sing song place faith rather popular folk song singer really believe And version ties together Jesus amazing grace means personally He set free',\n",
              " 'let really read post great song Steve Wariner needs record verison Grandpa second one I downloaded paid frist one I downloaded bad delete bad part song missing',\n",
              " 'loved holes floor heaven special song downloaded favorites special listening great deal downloads',\n",
              " 'downloaded add long playlist music go keep us entertained moment called',\n",
              " 'This really good song however I able listen full song I would bought It I looking Steve Wariner good words I looking',\n",
              " 'nice song',\n",
              " 'Love song',\n",
              " 'True country A great example country music',\n",
              " 'Purchased many songs always download without problems Amazon makes easy I music I need time',\n",
              " 'This song played brother sister laws funeral touching I wanted get copy keep forever Very pleased selection',\n",
              " 'I love song I looking Blake Sheldon version worked well Great song',\n",
              " 'We got song use DVD Memorial son father passed away cancer My son picked put',\n",
              " 'The words music artist make song beautiful I recommend song anyone missing loved ones',\n",
              " 'Back many great songs got lost shuffle kids bring back current work This underrated song lost radio time vaults till Napoleon Dynamite made credits song perfectly going along movie The result rediscovering classic amazingly still held Covers quickly ensued Musically song lite poppy feel distinctively Is No Is Nope unmistakably It nice feel song really adds extra flavor Vocally verses lag fail deliver great punch making complaint song main chorus perfect Well almost I promise drag However lyrics really crown jewel highlight song They great They well written emotional unexpected ways really speaks aspect love rarely touched upon Us guys think perfect words say perfect lovely ladies The lyrics really hit home us poor guys really make even better song already Overall one underrated forgotten songs lost many years finally making comeback Why iTunes beyond really musical travesty So many fans getting jibbed great music In arenas song went perfect Napoleon Dynamite song seemed better It like completed make one another emotional little way And movie covers ensued Anberlin cover song great It straight cover acoustic elements added really add song Plus alike vocals still problem New Found Glory also covered song made upbeat original giving pop rock influence still kept emotion original song added another layer',\n",
              " 'Great Worth download',\n",
              " 'Awesome',\n",
              " 'The Promise When In Rome Appears cheery song singer reassuring someone care always going person The combo synth pop dance also make The Promise good song add happy love song playlist',\n",
              " 'love song',\n",
              " 'It sad music general broken fake There love point fingers pick music came decade excess The interesting thing decade dated corny music even blown hit wonders great hits Case point When In Rome massive hit The Promise I find hard believe band craft flawless single one hit But great timeless one hit Even though sounds key board nobody using auto tune hide anything It overly studio produced life song soul The Promise true classic every sense word anyone disagree say sucks lying self It catchy perfect pop song',\n",
              " 'Awesome tune Must complete collection',\n",
              " 'Great soft rock ballad song',\n",
              " 'Love great song',\n",
              " 'I discovered song Napoleon Dynamite loved instantly What classic amazing genius',\n",
              " 'I listen music buy gifts friends never listen music I buy',\n",
              " 'downloaded listening radio months It great song one gets pumped moving praise Lord',\n",
              " 'How keep praising marvelous God This song timeless helped stay positive major surgery Chris Tomlin versatile music great',\n",
              " 'Love Chris Tomlin He sure finger MY pulse comes WONDERFUL Christian lyrics',\n",
              " 'love',\n",
              " 'This nice song music harmonized vocals song meaning make think masterpiece sorts',\n",
              " 'good tune',\n",
              " 'high school flashback',\n",
              " 'I love guitar words song I heard Gerd Vogel Sunnyland Blues Band play live blues show He great guitar Sounded like Gary Moore version',\n",
              " 'I really intrigued song I heard Scrubs I think holding power',\n",
              " 'The Promise perfect theme song male protagonist movie Knocked Up maybe sequel actors agree adding cast movie This Is The End',\n",
              " 'Crazy song heard radio remembered much I used love Purchased right away',\n",
              " 'Love song When Rome It stands test time present I wanted add MP library',\n",
              " 'I always liked musik mainly I buy singles one songs album',\n",
              " 'All classic Elements come together create Timeless Vibe An upbeat driving musical tone lyrics slight melancholy well hint hope',\n",
              " 'Brings back great memories youth music never disappoints Highly recommend relive moments',\n",
              " 'And I love able purchase songs It reminds old days paid cents single record You bought songs liked vbs',\n",
              " 'Brings back youth I never knew sounded punchy strong I always heard radio revalationt Add Turner collection',\n",
              " 'The best',\n",
              " 'I ALWAYS LOVE JANET I HOPE SHE S MAKING MORE MUSIC OR HOUSE MUSIC SHE S THE BOMB',\n",
              " 'A Janet Classic This smooth sultry flirtatious set beat groove',\n",
              " 'The heavy bass smooth Voice Janet Jackson really intertwine create song makes want move',\n",
              " 'I loved song I purchased I definitely purchase songs soon promise',\n",
              " 'That right Ms Jackson samples God Father Soul wonderfully made mix She remember soulful roots well tune showing us love cool quite way If song inside mp player player long That way love goes',\n",
              " 'My girl mentor I wan na lk I grow Next Janet like',\n",
              " 'Hearing song first time like car fall I since fallen love',\n",
              " 'Lost soemthing years',\n",
              " 'brings way back love',\n",
              " 'This one songs fits high spirited high energy woman comes life gets lost blizzard needs stable running mate Michael Murphey hit songs one still stands describes wild pony heart spirit find irresisitable',\n",
              " 'This song belongs past present future The lyrics amazingly soulful sad promising spiritual way The lyrics powerful music written go perfect blend Wildfire one favorite songs time It holds deep meaning jkm',\n",
              " 'Great song One landmarks seventies culture still much alive today Beautiful images poetry',\n",
              " 'The guitar reminds wild grass sunlight A woman horse become lost wilderness one day return',\n",
              " 'Another one songs I get lost smooth melody always takes another place',\n",
              " 'As get older sometimes like reflect lost youth I remember listening record I college feeling sad melancholy sometimes Listening brings back lot memories good bad It reminds I young',\n",
              " 'always loved singing',\n",
              " 'Many years ago I saw person good voice',\n",
              " 'Any woman may feel intimidated lacks self confidence make song mantra It build confidence make feel good It great song',\n",
              " 'Classic representation Women Movement Music Lyrics sound awesome Just love much Thank',\n",
              " 'Another great old song long ago Sansa fuze enjoy daily work The old songs music great',\n",
              " 'I love Helen Reddy song Very easy order download This version best I would recommend',\n",
              " 'How love wonderful song Juice Newton I used listen song I young kid',\n",
              " 'One favorite songs form great song run I love Juice newton great voice beat keeps going',\n",
              " 'This favorite song Janet I watched te movie Poetic justice I liked look film I liked sound This song gets thumbs romantic yet sad',\n",
              " 'There question today music honestly lost one brightest singers Joe Cocker passed away years old He honestly one greatest singers time knew belt remarkable songs renditions artists songs He ups downs life always kept music tune When another artist song took another place like cover classic Ray Charles song Un Chain My Heart came The song remains classic showcases bluesy voice soulful heart kept alive song real heart It truly blessing soul put great music Joe Cocker definitely missed song spirit His heart un chained Joe Cocker Song A',\n",
              " 'Very soulful music came alot Cocker music Absolutely love sound way sings music',\n",
              " 'I love rendition song much I bought CD hear rest songs',\n",
              " 'This great song I glad I bought When hear great song able bougth makes enjoyable Love',\n",
              " 'Country music finest era Tend like type music better played',\n",
              " 'Like',\n",
              " 'Always loved song reggae music Maxi Priest favorite mine',\n",
              " 'Excellent This Maxi best Great vocals great beat Great listen',\n",
              " 'The thing song really strikes amazing would chorus song Otherwise eh',\n",
              " 'Awesome If enjoy earthy rich music awesome head bopping bass line love',\n",
              " 'Love song',\n",
              " 'Great Worth download',\n",
              " 'How You like song Classic earworm PLus Deadpool helped new generation find great old song',\n",
              " 'ok',\n",
              " 'The people bought song must poopy inside ears This song epitomizes early FM cheese Don buy make yer ears bleed bad even play elevators anymore',\n",
              " 'Enjoyed',\n",
              " 'One Juice Newton popular songs It good first released',\n",
              " 'This song takes back listening youth She great taking people home better time nowadays Very happy transaction',\n",
              " 'I use alarm tone phone start angel Morning',\n",
              " 'feeling one might help lovely song',\n",
              " 'What positive uplifting song I love Nat King Cole greatest This song makes smile It well worth cost See vyctoryab dot wix dot com slash xplr',\n",
              " 'Smile though heart aching Smile even though breaking When clouds sky You get If Smile pain sorrow Smile maybe tomorrow You see sun come shining For Light face gladness Hide every trace sadness Although tear may ever near That time time must keep trying Smile What use crying You find life still worthwhile If smile That time time must keep trying Smile What use crying You find life still worthwhile If smile Smile though heart aching Smile Even though breaking When clouds sky You get That time time must keep trying Smile What use crying You find life still worthwhile If You find life still worthwhile If smile Smile special piece composed great Charlie Chaplin film entitled Modern Times lyrics title added John Turner Geoffrey Parsons This song classic little masterpiece gets royal treatment Nat King Cole delivers ballad panache Nat excellent diction sophisticated phrasing sense timing make version Smile one favorites It never fails move incredibly poignant musical number I highly recommend music',\n",
              " 'I hear airplane sound tempo drums organ bass guitar piano trumpet flute played classy',\n",
              " 'This song brings back awesome memories I remember grooving song local skating rink moving hips unique beat first hit',\n",
              " 'Nice oldie goodie Got added playlist',\n",
              " 'Great music well worth time energy expense obtaining listening music I highly recommend',\n",
              " 'Cute song',\n",
              " 'us lid Lakers girls jump singer back super rock Paula steel around bicouse good good amazon always best',\n",
              " 'This Paula Abdul best Remember dancing song night still love listening',\n",
              " 'OKAY Nat King Cole singing Unforgettable else needs said Love fact remastered means crisp clean listen',\n",
              " 'Another gr hit Dierks It around awhile still love Upbeat gets moving Hope hits keep coming',\n",
              " 'Thank',\n",
              " 'gooe',\n",
              " 'A solid groove Joe really rock one',\n",
              " 'Great',\n",
              " 'A classic movie Weeks Joe Cocker classic truly original style We never forget',\n",
              " 'love one beautiful want tell someone much love song',\n",
              " 'love song',\n",
              " 'It get much better music especially track Great addition music favorite music collection',\n",
              " 'There song past present SUPER done Nat I highly recommend one',\n",
              " 'Treasure So sad gone Love song',\n",
              " 'Takes back instantly There atr great songs Joe I never heard Didn realize versatile',\n",
              " 'absolute favorite',\n",
              " 'Very sexy song dance Love',\n",
              " 'A solid R B tune good performance Joe always It always pleasure hear soulful voice',\n",
              " 'If like Joe Cocker great one library This old school A good one add library',\n",
              " 'At age widowed I going woman I like much I decided make music CD songs I though would express love This one songs In songs I picked I tell work find exactly right song said right thing end worth After I made CD relationship moved new level maybe two three nrw levels So want impress one love send CD chosing expresses love',\n",
              " 'Okay comes music I past generation two I never heard Michael Martin Murphy even hang Willie Nelson I liked voice mostly smooth high end baritone much I downloaded six songs He great listen whether country western crossover songs A little higher baritone Dean Martin like Gene Autry',\n",
              " 'favorite song Michael Martin Murphy',\n",
              " 'THX',\n",
              " 'THX',\n",
              " 'love song',\n",
              " 'Just old favorite',\n",
              " 'This fun hit Bad Bone George Thorogood Destroyers needs volume I work keeping regular running playlist song I car singer When I turn sing top lungs This one brings inner blues man As running song carries strong tempo hard beat twice attitude found anything Katy Perry sings On day I born nurses gathered round And gazed wide wonder joy found The head nurse spoke said leave one alone She could tell right away I bad bone Bad bone Bad bone B B B B Bad bone B B B B Bad B B B B Bad Bad bone I fully recommend Bad Bone George Thorogood Destroyers Anthony Trendl',\n",
              " 'great',\n",
              " 'Exactly I expecting I happy purchase',\n",
              " 'great song good Montages',\n",
              " 'Awesome',\n",
              " 'Fantastic',\n",
              " 'One old favorites',\n",
              " 'great song',\n",
              " 'Being daughter single mother favorite mine',\n",
              " 'I think songs speaks single mothers sons It sweet encouraging everyone one day another',\n",
              " 'Being I remember many musical groups I enjoy adding IPod Great song',\n",
              " 'ROCKIN',\n",
              " 'If pulse You like song Awesome',\n",
              " 'Husbands theme song',\n",
              " 'Who like song',\n",
              " 'Appears nbsp data hook product link linked class link normal href Christine VHS dp ref cm cr arp rvw txt ie UTF Christine VHS nbsp data hook product link linked class link normal href Terminator VHS dp B JGEI ref cm cr arp rvw txt ie UTF Terminator VHS fits well times',\n",
              " 'I probably bad bone serves soundtrack times I like',\n",
              " 'Thank',\n",
              " 'love song I live',\n",
              " 'great',\n",
              " 'highly recommend',\n",
              " 'like george nut order one',\n",
              " 'one favorite songs great price',\n",
              " 'great',\n",
              " 'Love music Thanks',\n",
              " 'If ever saw already know need write anything else And get chance see live download anyway It GREAT',\n",
              " 'This favorite George Thorogood song If never listened may want purchasing',\n",
              " 'I chose rating I problems I would refer anybody I know mainly listen classic rock',\n",
              " 'George Thorogood plays frills rock roll heavily steeped Bo Diddley Chuck Berry Bad To The Bone probably recognizable song chunky piece braggadocio echoes great Mr Diddley Mr Thorogood gravelly voice rumbles song alongside buzz saw guitar horn piercing add exclamation point',\n",
              " 'This song reminds muscle cars Jack Daniels macho swagger It used marvelous effect movie Moroccan Gigolos',\n",
              " 'Will definitely ALL favorite music instead buying album CD etc Very easy download click couple buttons',\n",
              " 'This product advertised Satisfactorily made serves purpose designed Would recommend others',\n",
              " 'Bought family video exactly I wanted I great crystal clear recording original song',\n",
              " 'This favorite long time I always cheap download thanks boss gift certificate',\n",
              " 'I love song sung Dierks Bentley He brings across good He wonderful voice',\n",
              " 'This song amazing It smooth sexy It song woman would okay hearing',\n",
              " 'Hey I song way I bout IT',\n",
              " 'I like song thinking song eyes I purchased',\n",
              " 'ugh ordered wrong song guess ok',\n",
              " 'wish still making type music still one favorit songs',\n",
              " 'I love song come little closer Dierks Bentley really nice soft relaxing country sound voice He songs I actually like',\n",
              " 'song awesome song I love Dierks music thank amazon making possible download without waiting',\n",
              " 'It Dierks Bentley enough said Any music man releases great If country music fan listening Dierks Bentley',\n",
              " 'This song pretty I searched years find song I know name finally I found I happy I It beautiful',\n",
              " 'Really movie If see might get',\n",
              " 'As expected Fast arrival Good price',\n",
              " 'star',\n",
              " 'There honestly much could said Joe Cocker gifts song The guy honestly one amazing singers ever came Woodstock He honestly amazing every song recorded performed live The guy absolutely remarkable singer But past year showed sad tragic end brilliant end losing life lung cancer result twenty years plus drug alcohol addiction But left behind cavalcade great songs With A Little Help From My Friends especially Up Where We Belong His collaboration Jennifer Warnes academy award Best Song Grammy Award It lovely romantic ballad still captures soul heart Joe Jennifer connection many today artists even come close heart If never even heard Joe Cocker song one I would recommend going Song A',\n",
              " 'It great song performed writer Buffy St Marie teriffic Warnes Crocker',\n",
              " 'A great duet song perfect movie Joe Cocker sound never confused voice someone else',\n",
              " 'One favorite oldies',\n",
              " 'Love',\n",
              " 'Beautiful song beautiful voice All I say LOVE',\n",
              " 'Was song An Officer A Gentlemen One favorite movies',\n",
              " 'A lovely song timeless Joe Cocker voice different unmatched',\n",
              " 'His whiskey voice higher high voice love song extra special leads one heck great make song Had watch An Officer A Gentleman hearing',\n",
              " 'One favorite songs',\n",
              " 'I happy satisfied',\n",
              " 'I loved song MANY years going music therapy cancer life issue testing strength words say lift It religious thing spirit lifting song anyone relate',\n",
              " 'LOVE THIS SONG FEELING LIKE YOU CANT GO ON WELL LISTEN TO THIS SONG YES LIFE GOES ON THE SUN WILL SHINE Smoochiesss',\n",
              " 'Super track',\n",
              " 'Uplifting',\n",
              " 'This another song brings back memories teenage years I love listening different artist sing',\n",
              " 'I came across song YouTube I remember first came I also remember Adam Curry MTV asking Why Dan Aykroyd video Check believe I got song reminds simpler times first mass outreach help others corporations governments made everything go It great song good see performers',\n",
              " 'Songs like Let Music Play never go style Some relatives born song made enjoy much elders',\n",
              " 'This song reached US Danmce Chart US Singles Chart It covered several artists groups years',\n",
              " 'I downloaded mp song added Walking Playlist Shannon music brought back memories listening SOS band Expose back day artists I love listening genre music beat tempo',\n",
              " 'Not one favorites creates certain mood Purchased remastered version It good original Like tempo song',\n",
              " 'This version bad exactly great version heard radio It great record Shannon great voice',\n",
              " 'This forever one favorite songs Such classic dance tune',\n",
              " 'great dance song add library collection great songs',\n",
              " 'Classic',\n",
              " 'Here another song era It good song listen dance Shannon good singer If remember particular song play small portion Amazon MP store I would recommend buying like songs Sandra K',\n",
              " 'A great old dance party song',\n",
              " 'love buy',\n",
              " 'I looking song like years finally found sister died',\n",
              " 'Great song',\n",
              " 'loved',\n",
              " 'GREAT CLASSIC ABOUT BRIAN WILSON OF THE BEACH BOYS DOG DROWNING AT SEA LOVED THIS SONG FROM THE GET GO',\n",
              " 'This song came I quite young I decided buy memories reason I would recommend song anyone looking Classic Rock Music',\n",
              " 'This song dog died based true incident It SOOOO beautiful Henry Gross amazing voice carries along beautiful melody It bit sad dog bring heart matter peaceful beautiful lovely The tune one forget',\n",
              " 'classic',\n",
              " 'Great Classical',\n",
              " 'Not favorite LvB melody right This good performance',\n",
              " 'Great song',\n",
              " 'I love Beethoven wonderful listen well played like',\n",
              " 'There never another Beethoven Moonlight Sonata perfect example glorious dream put glorious music A wonderful mood enhancer',\n",
              " 'I fond performer interpretation little tempo taste The Sonata tireless always good hear',\n",
              " 'EXACTLY WHAT I EXPECTED This great recording The recording impeccable I love old classics I like easy listening well helping gain appreciation kind music',\n",
              " 'This performance really captures haunting beauty one Beethoven renowned popular sonatas It exactly people think hear title extra embellishment',\n",
              " 'This song lovely evokes emotion Just discovering classical must',\n",
              " 'Can never go wrong Oscar',\n",
              " 'I love song Brings back memories past ladies never learn goes around comes around',\n",
              " 'I like song much It music one kind I rate piece music five star Thank allowing purchase site',\n",
              " 'I happy every song I buy Kindle via Amaon The quality songs amazing',\n",
              " 'great song band prime great representation atmospheric music Not necessarily kind music I listen friend turned',\n",
              " 'Just one songs I love hear The song stays head It certainly alive Wow',\n",
              " 'another good song early play list song reminds Navy days driving strip looking chicks buddies',\n",
              " 'For Whatever Reason So Alive Love And Rockets came awareness I unintentionally heard Walgreens store near apartment husband getting us things I thought song blue less days prior song I rarely heard local radio I currently live online I remember rock pop song fondly I first heard via local radio growing I enjoyed message mystery person captivating someones attention making feel much top world metaphorically speaking lyrics feel Im top baby thats got everything',\n",
              " 'Good song',\n",
              " 'Great song late',\n",
              " 'It song',\n",
              " 'I purchased MP downloaded music computer found quality sound incredible price within budget I gave song FIVE STAR rating Thank Amazon great service ease transaction whole',\n",
              " 'watching th episode special The show favorite time I still watch laugh well crafted well written perfectly cast The song bittersweet tone reflecting theme show life may lonely may get always someplace go everyone knows actually wants around Great song Gary Portnoy also wrote theme Punky Brewster time I used think song like Punky grown lovely young woman cute times felt bit cheesy I hear today song actually makes miss cheesy days',\n",
              " 'Love voice',\n",
              " 'I liked song ever since hit radio waves It nice easy enjoyable song listen It song I like listen every chance I get I like Berite Higgins singing song Thank Sandy McClaflin',\n",
              " 'I always loved song It one I grew children also enjoy',\n",
              " 'Always Charley Pride fan His rendition song great Couldn happier Thank You Amazon',\n",
              " 'heard movie download Waste imho never heard singer peaches',\n",
              " 'great song love',\n",
              " 'A',\n",
              " 'This great song shows God sovereignty The example Lazarus used show even think God late intervene He things think impossible This song encouragement many difficult situations',\n",
              " 'No one sings song like I heard song radio years ago still sounds today much feeling',\n",
              " 'I saw person music great This song always makes tear reminds things happen time humans God time never late',\n",
              " 'Really liked song singer enough buy single song Really lot say single song except I like',\n",
              " 'I heard song Gaither Gospel Hour When Karen Peck sings song know going tell great story What message God perfect timing Even He four days late He still time Amen You cheering end song Karen Peck New River amazing group blessed song I would recommend song everyone',\n",
              " 'Love',\n",
              " 'This Rocks',\n",
              " 'A great song pretty fun dance Give listen',\n",
              " 'I love daft punk best music electronic area house get chance check stuff House beats Disco music mixed modern day electronics One word explain Beautiful',\n",
              " 'It fast paced like many songs I like pleasant tune I enjoy quite often',\n",
              " 'I loved music many years Ive loading iPad stuff past Amazon seems easier',\n",
              " 'Sometimes wan na take quick trip back yester year This song good day released',\n",
              " 'It easy purchase favorite songs Amazon You choice playing Cloud Player adding MP',\n",
              " 'This one Duran Duran best songs time along Hungry Like Wolf Rio Thanks',\n",
              " 'One favorites',\n",
              " 'yep',\n",
              " 'Great song',\n",
              " 'Great item thank much',\n",
              " 'Classic music Duran Duran',\n",
              " 'Good song',\n",
              " 'Love',\n",
              " 'Great song',\n",
              " 'If like Duran Duran kids loved really like ordinary world',\n",
              " 'By early Duran Duran popularity faded Their album Liberty proved commercial failure two singles failing make significant showing British American charts https www youtube com watch v dDLiVwpv It Capitol leaked Ordinary World radio station Florida autumn looked like Duran Duran mania might yet hit The single proved popular Capitol push US release date ultimately releasing December The keyboards song arranged performed Nick Rhodes John Jones The drums played Steve Ferrone Maison Rouge The guitar solo characterizes song arranged performed Warren Cuccurullo former player Frank Zappa His instrumental rock trio version became staple solo shows included one solo albums Roadrage The music video filmed director Nick Egan Huntington Gardens San Marino California song later featured soundtrack film Layer Cake Simon LeBon later performed song Pavarotti WarChild benefit The performance released home video Pavarotti Friends Together Children Bosnia The lyrics Ordinary World written Simon Le Bon second trilogy songs late friend David Miles others Do You Believe Shame Out My Mind',\n",
              " 'When came Duran Duran music absolutely lot prove going real musicians boy toys music industry labeled song Still crossed nicely music The Wedding Album songs still ignite today like back Ordinary World absolutely exception The song definitely one better songs group came I love rhythm song start finish It definitely one better songs came If absolutely new Duran Duran music great song download hard core fan Duran Duran fall love song ordinary world Song B',\n",
              " 'I never liked radio edit Ordinary world If going song get THIS album Did I say I disliked Radio Edited version',\n",
              " 'I sure everyone curious hear album Ordinary World This song debuted late Beforehand stuff little trouble I sure fav lyric fans It traditional slow song You also like Come Undone I also trance version Ordinary World',\n",
              " 'Sometimes wan na take quick trip back yester year This song good day released',\n",
              " 'I heard song Sunrise Grocery store music system The OOoh OOoh chorus unmistakable song I ask I heard song A person told Norah Jones I saw Norah perform several Hits Austin City Limits I downloaded female pop singer mp put together kind Pop Diva cd Norah tops list She also skilled piano player A wonderful talent Amazon MP downloads great low cost way listen favorite vocalist band',\n",
              " 'On best best known songs Band I actually like live version The Last Waltz But since one available download whole album I want guess',\n",
              " 'Awesome Song',\n",
              " 'I love song It beautiful voice words explain voice song I heard play live SNL I',\n",
              " 'This song quaint calming listen Nora Jones husky sexy voice makes feel calm',\n",
              " 'great',\n",
              " 'great',\n",
              " 'good music check',\n",
              " 'The Band never sounded better',\n",
              " 'Song tears heart Somewhat based true facts feel pain felt time history',\n",
              " 'I wanted one sang female hippy This fault reading closely',\n",
              " ...]"
            ]
          },
          "execution_count": 14,
          "metadata": {},
          "output_type": "execute_result"
        }
      ],
      "source": [
        "clean_reviewData"
      ]
    },
    {
      "cell_type": "code",
      "execution_count": null,
      "metadata": {
        "id": "ZlU--fh6MD3b"
      },
      "outputs": [],
      "source": [
        "# filtered_words2=list(filtered_words.split(\",\"))"
      ]
    },
    {
      "cell_type": "code",
      "execution_count": null,
      "metadata": {
        "id": "mBdptP4qOn8Z"
      },
      "outputs": [],
      "source": [
        "import spacy\n",
        "nlp = spacy.load('en_core_web_sm')\n",
        "# Create a set of stop words\n",
        "stop_words = spacy.lang.en.stop_words.STOP_WORDS\n",
        "# Define a function to remove stop words from a sentence\n",
        "def remove_stop_words(sentence):\n",
        "  # Parse the sentence using spaCy\n",
        "  doc = nlp(sentence)\n",
        "  # Use a list comprehension to remove stop words\n",
        "  filtered_tokens = [token for token in doc if not token.is_stop]\n",
        "  # Join the filtered tokens back into a sentence\n",
        "  return ' '.join([token.text for token in filtered_tokens])"
      ]
    },
    {
      "cell_type": "code",
      "execution_count": null,
      "metadata": {
        "id": "BIRAL5TWO1TV"
      },
      "outputs": [],
      "source": [
        "# filtered_words3=[]\n",
        "# for i in filtered_words2:\n",
        "#   filtered_words3.append(remove_stop_words(i))\n"
      ]
    },
    {
      "cell_type": "code",
      "execution_count": null,
      "metadata": {
        "colab": {
          "base_uri": "https://localhost:8080/"
        },
        "id": "K-drMPR9PI1G",
        "outputId": "f89a4717-2585-4094-d55a-ad2b36207dd4"
      },
      "outputs": [
        {
          "data": {
            "text/plain": [
              "[0]"
            ]
          },
          "execution_count": 1,
          "metadata": {},
          "output_type": "execute_result"
        }
      ],
      "source": [
        "[0]"
      ]
    },
    {
      "cell_type": "code",
      "execution_count": null,
      "metadata": {
        "id": "xIbZoJFGh_UQ"
      },
      "outputs": [],
      "source": [
        "data_clean2={\n",
        "              'text': clean_reviewData,\n",
        "              'label': review_data['overall']\n",
        "}"
      ]
    },
    {
      "cell_type": "code",
      "execution_count": null,
      "metadata": {
        "colab": {
          "base_uri": "https://localhost:8080/"
        },
        "id": "7o5deZJUK57X",
        "outputId": "4d79a2c1-d79a-4e18-ea9c-c7633d060831"
      },
      "outputs": [
        {
          "data": {
            "text/plain": [
              "dict"
            ]
          },
          "execution_count": 16,
          "metadata": {},
          "output_type": "execute_result"
        }
      ],
      "source": [
        "type(data_clean2)"
      ]
    },
    {
      "cell_type": "code",
      "execution_count": null,
      "metadata": {
        "colab": {
          "base_uri": "https://localhost:8080/",
          "height": 144
        },
        "id": "bKQLuylgkrJO",
        "outputId": "8115c6ce-781a-4dfd-b2a3-a617f3d64522"
      },
      "outputs": [
        {
          "ename": "AttributeError",
          "evalue": "'dict' object has no attribute 'head'",
          "output_type": "error",
          "traceback": [
            "\u001b[0;31m---------------------------------------------------------------------------\u001b[0m",
            "\u001b[0;31mAttributeError\u001b[0m                            Traceback (most recent call last)",
            "\u001b[0;32m<ipython-input-84-ff85cb787cfb>\u001b[0m in \u001b[0;36m<cell line: 1>\u001b[0;34m()\u001b[0m\n\u001b[0;32m----> 1\u001b[0;31m \u001b[0mdata_clean2\u001b[0m\u001b[0;34m.\u001b[0m\u001b[0mhead\u001b[0m\u001b[0;34m(\u001b[0m\u001b[0;36m2\u001b[0m\u001b[0;34m)\u001b[0m\u001b[0;34m\u001b[0m\u001b[0;34m\u001b[0m\u001b[0m\n\u001b[0m",
            "\u001b[0;31mAttributeError\u001b[0m: 'dict' object has no attribute 'head'"
          ]
        }
      ],
      "source": [
        "data_clean2.head(2)"
      ]
    },
    {
      "cell_type": "code",
      "execution_count": null,
      "metadata": {
        "id": "ZKRoUqUXh_Rs"
      },
      "outputs": [],
      "source": [
        "!pip install tensorflow --upgrade"
      ]
    },
    {
      "cell_type": "code",
      "execution_count": null,
      "metadata": {
        "colab": {
          "base_uri": "https://localhost:8080/",
          "height": 144
        },
        "id": "bQ4d1QrsKoAo",
        "outputId": "b115ab07-8ab4-4439-db4d-e9bd999a96c5"
      },
      "outputs": [
        {
          "ename": "AttributeError",
          "evalue": "'dict' object has no attribute 'columns'",
          "output_type": "error",
          "traceback": [
            "\u001b[0;31m---------------------------------------------------------------------------\u001b[0m",
            "\u001b[0;31mAttributeError\u001b[0m                            Traceback (most recent call last)",
            "\u001b[0;32m<ipython-input-27-218cc5b8527d>\u001b[0m in \u001b[0;36m<cell line: 1>\u001b[0;34m()\u001b[0m\n\u001b[0;32m----> 1\u001b[0;31m \u001b[0mdata_clean2\u001b[0m\u001b[0;34m.\u001b[0m\u001b[0mcolumns\u001b[0m\u001b[0;34m\u001b[0m\u001b[0;34m\u001b[0m\u001b[0m\n\u001b[0m",
            "\u001b[0;31mAttributeError\u001b[0m: 'dict' object has no attribute 'columns'"
          ]
        }
      ],
      "source": [
        "data_clean2.columns"
      ]
    },
    {
      "cell_type": "code",
      "execution_count": null,
      "metadata": {
        "colab": {
          "base_uri": "https://localhost:8080/",
          "height": 53
        },
        "id": "CKF8K4Er3FED",
        "outputId": "82619a41-03fb-4d09-f989-9557d8799bb7"
      },
      "outputs": [
        {
          "data": {
            "application/vnd.google.colaboratory.intrinsic+json": {
              "repr_error": "'str' object has no attribute 'empty'",
              "type": "dataframe"
            },
            "text/html": [
              "\n",
              "  <div id=\"df-78c7d031-8346-4fee-a01b-b37ff3162d59\" class=\"colab-df-container\">\n",
              "    <div>\n",
              "<style scoped>\n",
              "    .dataframe tbody tr th:only-of-type {\n",
              "        vertical-align: middle;\n",
              "    }\n",
              "\n",
              "    .dataframe tbody tr th {\n",
              "        vertical-align: top;\n",
              "    }\n",
              "\n",
              "    .dataframe thead th {\n",
              "        text-align: right;\n",
              "    }\n",
              "</style>\n",
              "<table border=\"1\" class=\"dataframe\">\n",
              "  <thead>\n",
              "    <tr style=\"text-align: right;\">\n",
              "      <th></th>\n",
              "      <th>Date</th>\n",
              "      <th>DateValue</th>\n",
              "    </tr>\n",
              "  </thead>\n",
              "  <tbody>\n",
              "  </tbody>\n",
              "</table>\n",
              "</div>\n",
              "    <div class=\"colab-df-buttons\">\n",
              "\n",
              "  <div class=\"colab-df-container\">\n",
              "    <button class=\"colab-df-convert\" onclick=\"convertToInteractive('df-78c7d031-8346-4fee-a01b-b37ff3162d59')\"\n",
              "            title=\"Convert this dataframe to an interactive table.\"\n",
              "            style=\"display:none;\">\n",
              "\n",
              "  <svg xmlns=\"http://www.w3.org/2000/svg\" height=\"24px\" viewBox=\"0 -960 960 960\">\n",
              "    <path d=\"M120-120v-720h720v720H120Zm60-500h600v-160H180v160Zm220 220h160v-160H400v160Zm0 220h160v-160H400v160ZM180-400h160v-160H180v160Zm440 0h160v-160H620v160ZM180-180h160v-160H180v160Zm440 0h160v-160H620v160Z\"/>\n",
              "  </svg>\n",
              "    </button>\n",
              "\n",
              "  <style>\n",
              "    .colab-df-container {\n",
              "      display:flex;\n",
              "      gap: 12px;\n",
              "    }\n",
              "\n",
              "    .colab-df-convert {\n",
              "      background-color: #E8F0FE;\n",
              "      border: none;\n",
              "      border-radius: 50%;\n",
              "      cursor: pointer;\n",
              "      display: none;\n",
              "      fill: #1967D2;\n",
              "      height: 32px;\n",
              "      padding: 0 0 0 0;\n",
              "      width: 32px;\n",
              "    }\n",
              "\n",
              "    .colab-df-convert:hover {\n",
              "      background-color: #E2EBFA;\n",
              "      box-shadow: 0px 1px 2px rgba(60, 64, 67, 0.3), 0px 1px 3px 1px rgba(60, 64, 67, 0.15);\n",
              "      fill: #174EA6;\n",
              "    }\n",
              "\n",
              "    .colab-df-buttons div {\n",
              "      margin-bottom: 4px;\n",
              "    }\n",
              "\n",
              "    [theme=dark] .colab-df-convert {\n",
              "      background-color: #3B4455;\n",
              "      fill: #D2E3FC;\n",
              "    }\n",
              "\n",
              "    [theme=dark] .colab-df-convert:hover {\n",
              "      background-color: #434B5C;\n",
              "      box-shadow: 0px 1px 3px 1px rgba(0, 0, 0, 0.15);\n",
              "      filter: drop-shadow(0px 1px 2px rgba(0, 0, 0, 0.3));\n",
              "      fill: #FFFFFF;\n",
              "    }\n",
              "  </style>\n",
              "\n",
              "    <script>\n",
              "      const buttonEl =\n",
              "        document.querySelector('#df-78c7d031-8346-4fee-a01b-b37ff3162d59 button.colab-df-convert');\n",
              "      buttonEl.style.display =\n",
              "        google.colab.kernel.accessAllowed ? 'block' : 'none';\n",
              "\n",
              "      async function convertToInteractive(key) {\n",
              "        const element = document.querySelector('#df-78c7d031-8346-4fee-a01b-b37ff3162d59');\n",
              "        const dataTable =\n",
              "          await google.colab.kernel.invokeFunction('convertToInteractive',\n",
              "                                                    [key], {});\n",
              "        if (!dataTable) return;\n",
              "\n",
              "        const docLinkHtml = 'Like what you see? Visit the ' +\n",
              "          '<a target=\"_blank\" href=https://colab.research.google.com/notebooks/data_table.ipynb>data table notebook</a>'\n",
              "          + ' to learn more about interactive tables.';\n",
              "        element.innerHTML = '';\n",
              "        dataTable['output_type'] = 'display_data';\n",
              "        await google.colab.output.renderOutput(dataTable, element);\n",
              "        const docLink = document.createElement('div');\n",
              "        docLink.innerHTML = docLinkHtml;\n",
              "        element.appendChild(docLink);\n",
              "      }\n",
              "    </script>\n",
              "  </div>\n",
              "\n",
              "    </div>\n",
              "  </div>\n"
            ],
            "text/plain": [
              "Empty DataFrame\n",
              "Columns: [Date, DateValue]\n",
              "Index: []"
            ]
          },
          "execution_count": 26,
          "metadata": {},
          "output_type": "execute_result"
        }
      ],
      "source": [
        "pd.DataFrame(data_clean2, columns=['Date', 'DateValue'])"
      ]
    },
    {
      "cell_type": "code",
      "execution_count": null,
      "metadata": {
        "colab": {
          "base_uri": "https://localhost:8080/",
          "height": 293
        },
        "id": "SAnPQISKh_PF",
        "outputId": "813aa47e-035f-49ea-cbc0-dc446d395866"
      },
      "outputs": [
        {
          "ename": "ValueError",
          "evalue": "array length 64455 does not match index length 169781",
          "output_type": "error",
          "traceback": [
            "\u001b[0;31m---------------------------------------------------------------------------\u001b[0m",
            "\u001b[0;31mValueError\u001b[0m                                Traceback (most recent call last)",
            "\u001b[0;32m<ipython-input-25-9edb7acc3f9b>\u001b[0m in \u001b[0;36m<cell line: 1>\u001b[0;34m()\u001b[0m\n\u001b[0;32m----> 1\u001b[0;31m \u001b[0mdf\u001b[0m \u001b[0;34m=\u001b[0m \u001b[0mpd\u001b[0m\u001b[0;34m.\u001b[0m\u001b[0mDataFrame\u001b[0m\u001b[0;34m(\u001b[0m\u001b[0mdata_clean2\u001b[0m\u001b[0;34m)\u001b[0m\u001b[0;34m\u001b[0m\u001b[0;34m\u001b[0m\u001b[0m\n\u001b[0m",
            "\u001b[0;32m/usr/local/lib/python3.10/dist-packages/pandas/core/frame.py\u001b[0m in \u001b[0;36m__init__\u001b[0;34m(self, data, index, columns, dtype, copy)\u001b[0m\n\u001b[1;32m    662\u001b[0m         \u001b[0;32melif\u001b[0m \u001b[0misinstance\u001b[0m\u001b[0;34m(\u001b[0m\u001b[0mdata\u001b[0m\u001b[0;34m,\u001b[0m \u001b[0mdict\u001b[0m\u001b[0;34m)\u001b[0m\u001b[0;34m:\u001b[0m\u001b[0;34m\u001b[0m\u001b[0;34m\u001b[0m\u001b[0m\n\u001b[1;32m    663\u001b[0m             \u001b[0;31m# GH#38939 de facto copy defaults to False only in non-dict cases\u001b[0m\u001b[0;34m\u001b[0m\u001b[0;34m\u001b[0m\u001b[0m\n\u001b[0;32m--> 664\u001b[0;31m             \u001b[0mmgr\u001b[0m \u001b[0;34m=\u001b[0m \u001b[0mdict_to_mgr\u001b[0m\u001b[0;34m(\u001b[0m\u001b[0mdata\u001b[0m\u001b[0;34m,\u001b[0m \u001b[0mindex\u001b[0m\u001b[0;34m,\u001b[0m \u001b[0mcolumns\u001b[0m\u001b[0;34m,\u001b[0m \u001b[0mdtype\u001b[0m\u001b[0;34m=\u001b[0m\u001b[0mdtype\u001b[0m\u001b[0;34m,\u001b[0m \u001b[0mcopy\u001b[0m\u001b[0;34m=\u001b[0m\u001b[0mcopy\u001b[0m\u001b[0;34m,\u001b[0m \u001b[0mtyp\u001b[0m\u001b[0;34m=\u001b[0m\u001b[0mmanager\u001b[0m\u001b[0;34m)\u001b[0m\u001b[0;34m\u001b[0m\u001b[0;34m\u001b[0m\u001b[0m\n\u001b[0m\u001b[1;32m    665\u001b[0m         \u001b[0;32melif\u001b[0m \u001b[0misinstance\u001b[0m\u001b[0;34m(\u001b[0m\u001b[0mdata\u001b[0m\u001b[0;34m,\u001b[0m \u001b[0mma\u001b[0m\u001b[0;34m.\u001b[0m\u001b[0mMaskedArray\u001b[0m\u001b[0;34m)\u001b[0m\u001b[0;34m:\u001b[0m\u001b[0;34m\u001b[0m\u001b[0;34m\u001b[0m\u001b[0m\n\u001b[1;32m    666\u001b[0m             \u001b[0;32mimport\u001b[0m \u001b[0mnumpy\u001b[0m\u001b[0;34m.\u001b[0m\u001b[0mma\u001b[0m\u001b[0;34m.\u001b[0m\u001b[0mmrecords\u001b[0m \u001b[0;32mas\u001b[0m \u001b[0mmrecords\u001b[0m\u001b[0;34m\u001b[0m\u001b[0;34m\u001b[0m\u001b[0m\n",
            "\u001b[0;32m/usr/local/lib/python3.10/dist-packages/pandas/core/internals/construction.py\u001b[0m in \u001b[0;36mdict_to_mgr\u001b[0;34m(data, index, columns, dtype, typ, copy)\u001b[0m\n\u001b[1;32m    491\u001b[0m             \u001b[0marrays\u001b[0m \u001b[0;34m=\u001b[0m \u001b[0;34m[\u001b[0m\u001b[0mx\u001b[0m\u001b[0;34m.\u001b[0m\u001b[0mcopy\u001b[0m\u001b[0;34m(\u001b[0m\u001b[0;34m)\u001b[0m \u001b[0;32mif\u001b[0m \u001b[0mhasattr\u001b[0m\u001b[0;34m(\u001b[0m\u001b[0mx\u001b[0m\u001b[0;34m,\u001b[0m \u001b[0;34m\"dtype\"\u001b[0m\u001b[0;34m)\u001b[0m \u001b[0;32melse\u001b[0m \u001b[0mx\u001b[0m \u001b[0;32mfor\u001b[0m \u001b[0mx\u001b[0m \u001b[0;32min\u001b[0m \u001b[0marrays\u001b[0m\u001b[0;34m]\u001b[0m\u001b[0;34m\u001b[0m\u001b[0;34m\u001b[0m\u001b[0m\n\u001b[1;32m    492\u001b[0m \u001b[0;34m\u001b[0m\u001b[0m\n\u001b[0;32m--> 493\u001b[0;31m     \u001b[0;32mreturn\u001b[0m \u001b[0marrays_to_mgr\u001b[0m\u001b[0;34m(\u001b[0m\u001b[0marrays\u001b[0m\u001b[0;34m,\u001b[0m \u001b[0mcolumns\u001b[0m\u001b[0;34m,\u001b[0m \u001b[0mindex\u001b[0m\u001b[0;34m,\u001b[0m \u001b[0mdtype\u001b[0m\u001b[0;34m=\u001b[0m\u001b[0mdtype\u001b[0m\u001b[0;34m,\u001b[0m \u001b[0mtyp\u001b[0m\u001b[0;34m=\u001b[0m\u001b[0mtyp\u001b[0m\u001b[0;34m,\u001b[0m \u001b[0mconsolidate\u001b[0m\u001b[0;34m=\u001b[0m\u001b[0mcopy\u001b[0m\u001b[0;34m)\u001b[0m\u001b[0;34m\u001b[0m\u001b[0;34m\u001b[0m\u001b[0m\n\u001b[0m\u001b[1;32m    494\u001b[0m \u001b[0;34m\u001b[0m\u001b[0m\n\u001b[1;32m    495\u001b[0m \u001b[0;34m\u001b[0m\u001b[0m\n",
            "\u001b[0;32m/usr/local/lib/python3.10/dist-packages/pandas/core/internals/construction.py\u001b[0m in \u001b[0;36marrays_to_mgr\u001b[0;34m(arrays, columns, index, dtype, verify_integrity, typ, consolidate)\u001b[0m\n\u001b[1;32m    116\u001b[0m         \u001b[0;31m# figure out the index, if necessary\u001b[0m\u001b[0;34m\u001b[0m\u001b[0;34m\u001b[0m\u001b[0m\n\u001b[1;32m    117\u001b[0m         \u001b[0;32mif\u001b[0m \u001b[0mindex\u001b[0m \u001b[0;32mis\u001b[0m \u001b[0;32mNone\u001b[0m\u001b[0;34m:\u001b[0m\u001b[0;34m\u001b[0m\u001b[0;34m\u001b[0m\u001b[0m\n\u001b[0;32m--> 118\u001b[0;31m             \u001b[0mindex\u001b[0m \u001b[0;34m=\u001b[0m \u001b[0m_extract_index\u001b[0m\u001b[0;34m(\u001b[0m\u001b[0marrays\u001b[0m\u001b[0;34m)\u001b[0m\u001b[0;34m\u001b[0m\u001b[0;34m\u001b[0m\u001b[0m\n\u001b[0m\u001b[1;32m    119\u001b[0m         \u001b[0;32melse\u001b[0m\u001b[0;34m:\u001b[0m\u001b[0;34m\u001b[0m\u001b[0;34m\u001b[0m\u001b[0m\n\u001b[1;32m    120\u001b[0m             \u001b[0mindex\u001b[0m \u001b[0;34m=\u001b[0m \u001b[0mensure_index\u001b[0m\u001b[0;34m(\u001b[0m\u001b[0mindex\u001b[0m\u001b[0;34m)\u001b[0m\u001b[0;34m\u001b[0m\u001b[0;34m\u001b[0m\u001b[0m\n",
            "\u001b[0;32m/usr/local/lib/python3.10/dist-packages/pandas/core/internals/construction.py\u001b[0m in \u001b[0;36m_extract_index\u001b[0;34m(data)\u001b[0m\n\u001b[1;32m    678\u001b[0m                         \u001b[0;34mf\"length {len(index)}\"\u001b[0m\u001b[0;34m\u001b[0m\u001b[0;34m\u001b[0m\u001b[0m\n\u001b[1;32m    679\u001b[0m                     )\n\u001b[0;32m--> 680\u001b[0;31m                     \u001b[0;32mraise\u001b[0m \u001b[0mValueError\u001b[0m\u001b[0;34m(\u001b[0m\u001b[0mmsg\u001b[0m\u001b[0;34m)\u001b[0m\u001b[0;34m\u001b[0m\u001b[0;34m\u001b[0m\u001b[0m\n\u001b[0m\u001b[1;32m    681\u001b[0m             \u001b[0;32melse\u001b[0m\u001b[0;34m:\u001b[0m\u001b[0;34m\u001b[0m\u001b[0;34m\u001b[0m\u001b[0m\n\u001b[1;32m    682\u001b[0m                 \u001b[0mindex\u001b[0m \u001b[0;34m=\u001b[0m \u001b[0mdefault_index\u001b[0m\u001b[0;34m(\u001b[0m\u001b[0mlengths\u001b[0m\u001b[0;34m[\u001b[0m\u001b[0;36m0\u001b[0m\u001b[0;34m]\u001b[0m\u001b[0;34m)\u001b[0m\u001b[0;34m\u001b[0m\u001b[0;34m\u001b[0m\u001b[0m\n",
            "\u001b[0;31mValueError\u001b[0m: array length 64455 does not match index length 169781"
          ]
        }
      ],
      "source": [
        "df = pd.DataFrame(data_clean2)"
      ]
    },
    {
      "cell_type": "code",
      "execution_count": null,
      "metadata": {
        "id": "3tgM8dlvh_Mn"
      },
      "outputs": [],
      "source": []
    },
    {
      "cell_type": "code",
      "execution_count": 16,
      "metadata": {
        "id": "P--AvgXxXhLy"
      },
      "outputs": [],
      "source": [
        "from tensorflow.keras.models import Sequential\n",
        "from tensorflow.keras.layers import Dense, Dropout\n",
        "from tensorflow.keras.optimizers import Adam"
      ]
    },
    {
      "cell_type": "code",
      "execution_count": 16,
      "metadata": {
        "id": "PkZtoemTUzTh"
      },
      "outputs": [],
      "source": []
    },
    {
      "cell_type": "code",
      "execution_count": 16,
      "metadata": {
        "id": "6OI1SokaYfdD"
      },
      "outputs": [],
      "source": []
    },
    {
      "cell_type": "code",
      "execution_count": 17,
      "metadata": {
        "colab": {
          "base_uri": "https://localhost:8080/"
        },
        "id": "aW-6mA8JYfap",
        "outputId": "fa943b87-e141-4ed9-946e-f8fb84929f53"
      },
      "outputs": [
        {
          "output_type": "stream",
          "name": "stdout",
          "text": [
            "Collecting shap\n",
            "  Downloading shap-0.44.1-cp310-cp310-manylinux_2_12_x86_64.manylinux2010_x86_64.manylinux_2_17_x86_64.manylinux2014_x86_64.whl (535 kB)\n",
            "\u001b[2K     \u001b[90m━━━━━━━━━━━━━━━━━━━━━━━━━━━━━━━━━━━━━━━━\u001b[0m \u001b[32m535.7/535.7 kB\u001b[0m \u001b[31m4.1 MB/s\u001b[0m eta \u001b[36m0:00:00\u001b[0m\n",
            "\u001b[?25hRequirement already satisfied: numpy in /usr/local/lib/python3.10/dist-packages (from shap) (1.25.2)\n",
            "Requirement already satisfied: scipy in /usr/local/lib/python3.10/dist-packages (from shap) (1.11.4)\n",
            "Requirement already satisfied: scikit-learn in /usr/local/lib/python3.10/dist-packages (from shap) (1.2.2)\n",
            "Requirement already satisfied: pandas in /usr/local/lib/python3.10/dist-packages (from shap) (1.5.3)\n",
            "Requirement already satisfied: tqdm>=4.27.0 in /usr/local/lib/python3.10/dist-packages (from shap) (4.66.2)\n",
            "Requirement already satisfied: packaging>20.9 in /usr/local/lib/python3.10/dist-packages (from shap) (23.2)\n",
            "Collecting slicer==0.0.7 (from shap)\n",
            "  Downloading slicer-0.0.7-py3-none-any.whl (14 kB)\n",
            "Requirement already satisfied: numba in /usr/local/lib/python3.10/dist-packages (from shap) (0.58.1)\n",
            "Requirement already satisfied: cloudpickle in /usr/local/lib/python3.10/dist-packages (from shap) (2.2.1)\n",
            "Requirement already satisfied: llvmlite<0.42,>=0.41.0dev0 in /usr/local/lib/python3.10/dist-packages (from numba->shap) (0.41.1)\n",
            "Requirement already satisfied: python-dateutil>=2.8.1 in /usr/local/lib/python3.10/dist-packages (from pandas->shap) (2.8.2)\n",
            "Requirement already satisfied: pytz>=2020.1 in /usr/local/lib/python3.10/dist-packages (from pandas->shap) (2023.4)\n",
            "Requirement already satisfied: joblib>=1.1.1 in /usr/local/lib/python3.10/dist-packages (from scikit-learn->shap) (1.3.2)\n",
            "Requirement already satisfied: threadpoolctl>=2.0.0 in /usr/local/lib/python3.10/dist-packages (from scikit-learn->shap) (3.3.0)\n",
            "Requirement already satisfied: six>=1.5 in /usr/local/lib/python3.10/dist-packages (from python-dateutil>=2.8.1->pandas->shap) (1.16.0)\n",
            "Installing collected packages: slicer, shap\n",
            "Successfully installed shap-0.44.1 slicer-0.0.7\n"
          ]
        }
      ],
      "source": [
        "!pip install shap"
      ]
    },
    {
      "cell_type": "code",
      "execution_count": 18,
      "metadata": {
        "id": "9VXhvjgu0JB0"
      },
      "outputs": [],
      "source": [
        "# pip install --upgrade shap tensorflow\n"
      ]
    },
    {
      "cell_type": "code",
      "execution_count": 19,
      "metadata": {
        "id": "5LLvSbNHYEMD"
      },
      "outputs": [],
      "source": [
        "#!device='cpu'"
      ]
    },
    {
      "cell_type": "code",
      "execution_count": 20,
      "metadata": {
        "colab": {
          "base_uri": "https://localhost:8080/",
          "height": 1000
        },
        "id": "5R5rHpvNYfYW",
        "outputId": "03676bc1-ddd9-4b15-b42b-11fae96e49d2"
      },
      "outputs": [
        {
          "output_type": "stream",
          "name": "stdout",
          "text": [
            "Train on 1890 samples, validate on 210 samples\n",
            "Epoch 1/5\n",
            "1890/1890 [==============================] - 2s 925us/sample - loss: 1.3486 - accuracy: 0.5862 - val_loss: 1.1631 - val_accuracy: 0.5571\n",
            "Epoch 2/5\n",
            "  32/1890 [..............................] - ETA: 1s - loss: 0.8667 - accuracy: 0.7188"
          ]
        },
        {
          "output_type": "stream",
          "name": "stderr",
          "text": [
            "`Model.state_updates` will be removed in a future version. This property should not be used in TensorFlow 2.0, as `updates` are applied automatically.\n"
          ]
        },
        {
          "output_type": "stream",
          "name": "stdout",
          "text": [
            "1890/1890 [==============================] - 1s 552us/sample - loss: 0.9616 - accuracy: 0.6037 - val_loss: 0.9030 - val_accuracy: 0.5667\n",
            "Epoch 3/5\n",
            "1890/1890 [==============================] - 1s 528us/sample - loss: 0.7470 - accuracy: 0.6720 - val_loss: 0.8032 - val_accuracy: 0.7000\n",
            "Epoch 4/5\n",
            "1890/1890 [==============================] - 1s 588us/sample - loss: 0.5728 - accuracy: 0.7931 - val_loss: 0.6989 - val_accuracy: 0.7476\n",
            "Epoch 5/5\n",
            "1890/1890 [==============================] - 1s 588us/sample - loss: 0.4218 - accuracy: 0.8508 - val_loss: 0.6045 - val_accuracy: 0.7857\n"
          ]
        },
        {
          "output_type": "stream",
          "name": "stderr",
          "text": [
            "Your TensorFlow version is newer than 2.4.0 and so graph support has been removed in eager mode and some static graphs may not be supported. See PR #1483 for discussion.\n"
          ]
        },
        {
          "output_type": "display_data",
          "data": {
            "text/plain": [
              "<Figure size 800x950 with 1 Axes>"
            ],
            "image/png": "[encoded data removed]"
          },
          "metadata": {}
        }
      ],
      "source": [
        "import shap\n",
        "import numpy as np\n",
        "import pandas as pd\n",
        "from sklearn.model_selection import train_test_split\n",
        "from sklearn.feature_extraction.text import TfidfVectorizer\n",
        "from tensorflow.keras.models import Sequential\n",
        "from tensorflow.keras.layers import Dense, Dropout\n",
        "from tensorflow.keras.optimizers import Adam\n",
        "import tensorflow as tf\n",
        "tf.compat.v1.disable_eager_execution()\n",
        "\n",
        "# Assume you have a dataset with text data and corresponding labels\n",
        "# For demonstration, let's create a sample dataset with three classes\n",
        "# data = {\n",
        "#     'text': [\"I love this product!\", \"This product is terrible.\", \"It's okay, not great.\", \"This is amazing!\",\n",
        "#              \"Not good enough.\", \"It's fantastic!\",\"awesome\",\"It's okay, not great.\"],\n",
        "#     'label': ['positive', 'negative', 'negative', 'positive', 'negative', 'positive','positive','neutral']\n",
        "# }\n",
        "df = pd.DataFrame(data)\n",
        "\n",
        "# Split the dataset into training and testing sets\n",
        "X_train, X_test, y_train, y_test = train_test_split(df['text'], df['label'], test_size=0.3, random_state=42)\n",
        "\n",
        "# Vectorize the text data\n",
        "vectorizer = TfidfVectorizer()\n",
        "X_train_vectorized = vectorizer.fit_transform(X_train.values.astype('U'))\n",
        "X_test_vectorized = vectorizer.transform(X_test)\n",
        "# v.fit_transform(df['Review'].values.astype('U'))\n",
        "# Convert sparse matrix to dense numpy array\n",
        "X_train_array = X_train_vectorized.toarray()\n",
        "X_test_array = X_test_vectorized.toarray()\n",
        "\n",
        "# Convert labels to numerical indices\n",
        "class_mapping = {label: i for i, label in enumerate(np.unique(y_train))}\n",
        "y_train_encoded = np.array([class_mapping[label] for label in y_train])\n",
        "y_test_encoded = np.array([class_mapping[label] for label in y_test])\n",
        "\n",
        "# Build a neural network model\n",
        "num_classes = len(np.unique(y_train))\n",
        "model = Sequential([\n",
        "    Dense(128, activation='relu', input_shape=(X_train_array.shape[1],)),\n",
        "    Dropout(0.5),\n",
        "    Dense(64, activation='relu'),\n",
        "    Dropout(0.5),\n",
        "    Dense(num_classes, activation='softmax')  # Using softmax activation for multiclass classification\n",
        "])\n",
        "\n",
        "optimizer1 = tf.keras.optimizers.legacy.Adam(learning_rate=0.001)\n",
        "\n",
        "# Compile the model\n",
        "model.compile(optimizer=optimizer1, loss='sparse_categorical_crossentropy', metrics=['accuracy'])\n",
        "\n",
        "# Train the model\n",
        "model.fit(X_train_array, y_train_encoded, epochs=5, batch_size=32, validation_split=0.1)\n",
        "\n",
        "# Explain predictions using DeepExplainer\n",
        "explainer = shap.DeepExplainer(model, X_train_array)\n",
        "shap_values = explainer.shap_values(X_test_array)\n",
        "\n",
        "\n",
        "\n",
        "\n",
        "# Plot SHAP values\n",
        "shap.summary_plot(shap_values, X_test_array, feature_names=vectorizer.get_feature_names_out())\n"
      ]
    },
    {
      "cell_type": "code",
      "execution_count": 21,
      "metadata": {
        "id": "BK2DEvW2eHp2"
      },
      "outputs": [],
      "source": [
        "# Define class names\n",
        "class_names = ['negative', 'less negative', 'neutral','less positive','positive']"
      ]
    },
    {
      "cell_type": "code",
      "execution_count": 22,
      "metadata": {
        "id": "iqIQssloYfV6",
        "colab": {
          "base_uri": "https://localhost:8080/",
          "height": 957
        },
        "outputId": "8eeca44a-01fe-4c61-f681-925f98458f84"
      },
      "outputs": [
        {
          "output_type": "display_data",
          "data": {
            "text/plain": [
              "<Figure size 800x950 with 1 Axes>"
            ],
            "image/png": "[encoded data removed]"
          },
          "metadata": {}
        }
      ],
      "source": [
        "# Plot SHAP values with class names\n",
        "shap.summary_plot(shap_values, X_test_array, feature_names=vectorizer.get_feature_names_out(), class_names=class_names)"
      ]
    },
    {
      "cell_type": "code",
      "execution_count": null,
      "metadata": {
        "id": "Cjew1bpcgnO3"
      },
      "outputs": [],
      "source": [
        "X_test_array"
      ]
    },
    {
      "cell_type": "code",
      "execution_count": null,
      "metadata": {
        "colab": {
          "base_uri": "https://localhost:8080/",
          "height": 382
        },
        "id": "Xqf23X90YfTT",
        "outputId": "f6a807dc-ccbf-465a-b637-121654a2d945"
      },
      "outputs": [
        {
          "ename": "KeyboardInterrupt",
          "evalue": "",
          "output_type": "error",
          "traceback": [
            "\u001b[0;31m---------------------------------------------------------------------------\u001b[0m",
            "\u001b[0;31mKeyboardInterrupt\u001b[0m                         Traceback (most recent call last)",
            "\u001b[0;32m<ipython-input-44-60c0ee04dedd>\u001b[0m in \u001b[0;36m<cell line: 8>\u001b[0;34m()\u001b[0m\n\u001b[1;32m      6\u001b[0m \u001b[0;31m# Explain prediction for the specific instance using DeepExplainer\u001b[0m\u001b[0;34m\u001b[0m\u001b[0;34m\u001b[0m\u001b[0m\n\u001b[1;32m      7\u001b[0m \u001b[0mexplainer\u001b[0m \u001b[0;34m=\u001b[0m \u001b[0mshap\u001b[0m\u001b[0;34m.\u001b[0m\u001b[0mDeepExplainer\u001b[0m\u001b[0;34m(\u001b[0m\u001b[0mmodel\u001b[0m\u001b[0;34m,\u001b[0m \u001b[0mX_train_array\u001b[0m\u001b[0;34m)\u001b[0m\u001b[0;34m\u001b[0m\u001b[0;34m\u001b[0m\u001b[0m\n\u001b[0;32m----> 8\u001b[0;31m \u001b[0mshap_values_single\u001b[0m \u001b[0;34m=\u001b[0m \u001b[0mexplainer\u001b[0m\u001b[0;34m.\u001b[0m\u001b[0mshap_values\u001b[0m\u001b[0;34m(\u001b[0m\u001b[0mX_test_array\u001b[0m\u001b[0;34m)\u001b[0m\u001b[0;34m\u001b[0m\u001b[0;34m\u001b[0m\u001b[0m\n\u001b[0m\u001b[1;32m      9\u001b[0m \u001b[0;34m\u001b[0m\u001b[0m\n\u001b[1;32m     10\u001b[0m \u001b[0;31m# Reshape SHAP values to match the expected shape\u001b[0m\u001b[0;34m\u001b[0m\u001b[0;34m\u001b[0m\u001b[0m\n",
            "\u001b[0;32m/usr/local/lib/python3.10/dist-packages/shap/explainers/_deep/__init__.py\u001b[0m in \u001b[0;36mshap_values\u001b[0;34m(self, X, ranked_outputs, output_rank_order, check_additivity)\u001b[0m\n\u001b[1;32m    123\u001b[0m             \u001b[0mwere\u001b[0m \u001b[0mchosen\u001b[0m \u001b[0;32mas\u001b[0m \u001b[0;34m\"top\"\u001b[0m\u001b[0;34m.\u001b[0m\u001b[0;34m\u001b[0m\u001b[0;34m\u001b[0m\u001b[0m\n\u001b[1;32m    124\u001b[0m         \"\"\"\n\u001b[0;32m--> 125\u001b[0;31m         \u001b[0;32mreturn\u001b[0m \u001b[0mself\u001b[0m\u001b[0;34m.\u001b[0m\u001b[0mexplainer\u001b[0m\u001b[0;34m.\u001b[0m\u001b[0mshap_values\u001b[0m\u001b[0;34m(\u001b[0m\u001b[0mX\u001b[0m\u001b[0;34m,\u001b[0m \u001b[0mranked_outputs\u001b[0m\u001b[0;34m,\u001b[0m \u001b[0moutput_rank_order\u001b[0m\u001b[0;34m,\u001b[0m \u001b[0mcheck_additivity\u001b[0m\u001b[0;34m=\u001b[0m\u001b[0mcheck_additivity\u001b[0m\u001b[0;34m)\u001b[0m\u001b[0;34m\u001b[0m\u001b[0;34m\u001b[0m\u001b[0m\n\u001b[0m",
            "\u001b[0;32m/usr/local/lib/python3.10/dist-packages/shap/explainers/_deep/deep_tf.py\u001b[0m in \u001b[0;36mshap_values\u001b[0;34m(self, X, ranked_outputs, output_rank_order, check_additivity)\u001b[0m\n\u001b[1;32m    311\u001b[0m                 \u001b[0;31m# run attribution computation graph\u001b[0m\u001b[0;34m\u001b[0m\u001b[0;34m\u001b[0m\u001b[0m\n\u001b[1;32m    312\u001b[0m                 \u001b[0mfeature_ind\u001b[0m \u001b[0;34m=\u001b[0m \u001b[0mmodel_output_ranks\u001b[0m\u001b[0;34m[\u001b[0m\u001b[0mj\u001b[0m\u001b[0;34m,\u001b[0m\u001b[0mi\u001b[0m\u001b[0;34m]\u001b[0m\u001b[0;34m\u001b[0m\u001b[0;34m\u001b[0m\u001b[0m\n\u001b[0;32m--> 313\u001b[0;31m                 \u001b[0msample_phis\u001b[0m \u001b[0;34m=\u001b[0m \u001b[0mself\u001b[0m\u001b[0;34m.\u001b[0m\u001b[0mrun\u001b[0m\u001b[0;34m(\u001b[0m\u001b[0mself\u001b[0m\u001b[0;34m.\u001b[0m\u001b[0mphi_symbolic\u001b[0m\u001b[0;34m(\u001b[0m\u001b[0mfeature_ind\u001b[0m\u001b[0;34m)\u001b[0m\u001b[0;34m,\u001b[0m \u001b[0mself\u001b[0m\u001b[0;34m.\u001b[0m\u001b[0mmodel_inputs\u001b[0m\u001b[0;34m,\u001b[0m \u001b[0mjoint_input\u001b[0m\u001b[0;34m)\u001b[0m\u001b[0;34m\u001b[0m\u001b[0;34m\u001b[0m\u001b[0m\n\u001b[0m\u001b[1;32m    314\u001b[0m \u001b[0;34m\u001b[0m\u001b[0m\n\u001b[1;32m    315\u001b[0m                 \u001b[0;31m# assign the attributions to the right part of the output arrays\u001b[0m\u001b[0;34m\u001b[0m\u001b[0;34m\u001b[0m\u001b[0m\n",
            "\u001b[0;32m/usr/local/lib/python3.10/dist-packages/shap/explainers/_deep/deep_tf.py\u001b[0m in \u001b[0;36mrun\u001b[0;34m(self, out, model_inputs, X)\u001b[0m\n\u001b[1;32m    362\u001b[0m \u001b[0;34m\u001b[0m\u001b[0m\n\u001b[1;32m    363\u001b[0m                 \u001b[0;32mreturn\u001b[0m \u001b[0mfinal_out\u001b[0m\u001b[0;34m\u001b[0m\u001b[0;34m\u001b[0m\u001b[0m\n\u001b[0;32m--> 364\u001b[0;31m             \u001b[0;32mreturn\u001b[0m \u001b[0mself\u001b[0m\u001b[0;34m.\u001b[0m\u001b[0mexecute_with_overridden_gradients\u001b[0m\u001b[0;34m(\u001b[0m\u001b[0manon\u001b[0m\u001b[0;34m)\u001b[0m\u001b[0;34m\u001b[0m\u001b[0;34m\u001b[0m\u001b[0m\n\u001b[0m\u001b[1;32m    365\u001b[0m \u001b[0;34m\u001b[0m\u001b[0m\n\u001b[1;32m    366\u001b[0m     \u001b[0;32mdef\u001b[0m \u001b[0mcustom_grad\u001b[0m\u001b[0;34m(\u001b[0m\u001b[0mself\u001b[0m\u001b[0;34m,\u001b[0m \u001b[0mop\u001b[0m\u001b[0;34m,\u001b[0m \u001b[0;34m*\u001b[0m\u001b[0mgrads\u001b[0m\u001b[0;34m)\u001b[0m\u001b[0;34m:\u001b[0m\u001b[0;34m\u001b[0m\u001b[0;34m\u001b[0m\u001b[0m\n",
            "\u001b[0;32m/usr/local/lib/python3.10/dist-packages/shap/explainers/_deep/deep_tf.py\u001b[0m in \u001b[0;36mexecute_with_overridden_gradients\u001b[0;34m(self, f)\u001b[0m\n\u001b[1;32m    398\u001b[0m         \u001b[0;31m# define the computation graph for the attribution values using a custom gradient-like computation\u001b[0m\u001b[0;34m\u001b[0m\u001b[0;34m\u001b[0m\u001b[0m\n\u001b[1;32m    399\u001b[0m         \u001b[0;32mtry\u001b[0m\u001b[0;34m:\u001b[0m\u001b[0;34m\u001b[0m\u001b[0;34m\u001b[0m\u001b[0m\n\u001b[0;32m--> 400\u001b[0;31m             \u001b[0mout\u001b[0m \u001b[0;34m=\u001b[0m \u001b[0mf\u001b[0m\u001b[0;34m(\u001b[0m\u001b[0;34m)\u001b[0m\u001b[0;34m\u001b[0m\u001b[0;34m\u001b[0m\u001b[0m\n\u001b[0m\u001b[1;32m    401\u001b[0m         \u001b[0;32mfinally\u001b[0m\u001b[0;34m:\u001b[0m\u001b[0;34m\u001b[0m\u001b[0;34m\u001b[0m\u001b[0m\n\u001b[1;32m    402\u001b[0m             \u001b[0;31m# reinstate the backpropagatable check\u001b[0m\u001b[0;34m\u001b[0m\u001b[0;34m\u001b[0m\u001b[0m\n",
            "\u001b[0;32m/usr/local/lib/python3.10/dist-packages/shap/explainers/_deep/deep_tf.py\u001b[0m in \u001b[0;36manon\u001b[0;34m()\u001b[0m\n\u001b[1;32m    355\u001b[0m                     \u001b[0mv\u001b[0m \u001b[0;34m=\u001b[0m \u001b[0mtf\u001b[0m\u001b[0;34m.\u001b[0m\u001b[0mconstant\u001b[0m\u001b[0;34m(\u001b[0m\u001b[0mdata\u001b[0m\u001b[0;34m,\u001b[0m \u001b[0mdtype\u001b[0m\u001b[0;34m=\u001b[0m\u001b[0mself\u001b[0m\u001b[0;34m.\u001b[0m\u001b[0mmodel_inputs\u001b[0m\u001b[0;34m[\u001b[0m\u001b[0mi\u001b[0m\u001b[0;34m]\u001b[0m\u001b[0;34m.\u001b[0m\u001b[0mdtype\u001b[0m\u001b[0;34m)\u001b[0m\u001b[0;34m\u001b[0m\u001b[0;34m\u001b[0m\u001b[0m\n\u001b[1;32m    356\u001b[0m                     \u001b[0minputs\u001b[0m\u001b[0;34m.\u001b[0m\u001b[0mappend\u001b[0m\u001b[0;34m(\u001b[0m\u001b[0mv\u001b[0m\u001b[0;34m)\u001b[0m\u001b[0;34m\u001b[0m\u001b[0;34m\u001b[0m\u001b[0m\n\u001b[0;32m--> 357\u001b[0;31m                 \u001b[0mfinal_out\u001b[0m \u001b[0;34m=\u001b[0m \u001b[0mout\u001b[0m\u001b[0;34m(\u001b[0m\u001b[0minputs\u001b[0m\u001b[0;34m)\u001b[0m\u001b[0;34m\u001b[0m\u001b[0;34m\u001b[0m\u001b[0m\n\u001b[0m\u001b[1;32m    358\u001b[0m                 \u001b[0;32mtry\u001b[0m\u001b[0;34m:\u001b[0m\u001b[0;34m\u001b[0m\u001b[0;34m\u001b[0m\u001b[0m\n\u001b[1;32m    359\u001b[0m                     \u001b[0mtf_execute\u001b[0m\u001b[0;34m.\u001b[0m\u001b[0mrecord_gradient\u001b[0m \u001b[0;34m=\u001b[0m \u001b[0mtf_backprop\u001b[0m\u001b[0;34m.\u001b[0m\u001b[0m_record_gradient\u001b[0m\u001b[0;34m\u001b[0m\u001b[0;34m\u001b[0m\u001b[0m\n",
            "\u001b[0;32m/usr/local/lib/python3.10/dist-packages/tensorflow/python/util/traceback_utils.py\u001b[0m in \u001b[0;36merror_handler\u001b[0;34m(*args, **kwargs)\u001b[0m\n\u001b[1;32m    148\u001b[0m     \u001b[0mfiltered_tb\u001b[0m \u001b[0;34m=\u001b[0m \u001b[0;32mNone\u001b[0m\u001b[0;34m\u001b[0m\u001b[0;34m\u001b[0m\u001b[0m\n\u001b[1;32m    149\u001b[0m     \u001b[0;32mtry\u001b[0m\u001b[0;34m:\u001b[0m\u001b[0;34m\u001b[0m\u001b[0;34m\u001b[0m\u001b[0m\n\u001b[0;32m--> 150\u001b[0;31m       \u001b[0;32mreturn\u001b[0m \u001b[0mfn\u001b[0m\u001b[0;34m(\u001b[0m\u001b[0;34m*\u001b[0m\u001b[0margs\u001b[0m\u001b[0;34m,\u001b[0m \u001b[0;34m**\u001b[0m\u001b[0mkwargs\u001b[0m\u001b[0;34m)\u001b[0m\u001b[0;34m\u001b[0m\u001b[0;34m\u001b[0m\u001b[0m\n\u001b[0m\u001b[1;32m    151\u001b[0m     \u001b[0;32mexcept\u001b[0m \u001b[0mException\u001b[0m \u001b[0;32mas\u001b[0m \u001b[0me\u001b[0m\u001b[0;34m:\u001b[0m\u001b[0;34m\u001b[0m\u001b[0;34m\u001b[0m\u001b[0m\n\u001b[1;32m    152\u001b[0m       \u001b[0mfiltered_tb\u001b[0m \u001b[0;34m=\u001b[0m \u001b[0m_process_traceback_frames\u001b[0m\u001b[0;34m(\u001b[0m\u001b[0me\u001b[0m\u001b[0;34m.\u001b[0m\u001b[0m__traceback__\u001b[0m\u001b[0;34m)\u001b[0m\u001b[0;34m\u001b[0m\u001b[0;34m\u001b[0m\u001b[0m\n",
            "\u001b[0;32m/usr/local/lib/python3.10/dist-packages/tensorflow/python/eager/polymorphic_function/polymorphic_function.py\u001b[0m in \u001b[0;36m__call__\u001b[0;34m(self, *args, **kwds)\u001b[0m\n\u001b[1;32m    830\u001b[0m \u001b[0;34m\u001b[0m\u001b[0m\n\u001b[1;32m    831\u001b[0m       \u001b[0;32mwith\u001b[0m \u001b[0mOptionalXlaContext\u001b[0m\u001b[0;34m(\u001b[0m\u001b[0mself\u001b[0m\u001b[0;34m.\u001b[0m\u001b[0m_jit_compile\u001b[0m\u001b[0;34m)\u001b[0m\u001b[0;34m:\u001b[0m\u001b[0;34m\u001b[0m\u001b[0;34m\u001b[0m\u001b[0m\n\u001b[0;32m--> 832\u001b[0;31m         \u001b[0mresult\u001b[0m \u001b[0;34m=\u001b[0m \u001b[0mself\u001b[0m\u001b[0;34m.\u001b[0m\u001b[0m_call\u001b[0m\u001b[0;34m(\u001b[0m\u001b[0;34m*\u001b[0m\u001b[0margs\u001b[0m\u001b[0;34m,\u001b[0m \u001b[0;34m**\u001b[0m\u001b[0mkwds\u001b[0m\u001b[0;34m)\u001b[0m\u001b[0;34m\u001b[0m\u001b[0;34m\u001b[0m\u001b[0m\n\u001b[0m\u001b[1;32m    833\u001b[0m \u001b[0;34m\u001b[0m\u001b[0m\n\u001b[1;32m    834\u001b[0m       \u001b[0mnew_tracing_count\u001b[0m \u001b[0;34m=\u001b[0m \u001b[0mself\u001b[0m\u001b[0;34m.\u001b[0m\u001b[0mexperimental_get_tracing_count\u001b[0m\u001b[0;34m(\u001b[0m\u001b[0;34m)\u001b[0m\u001b[0;34m\u001b[0m\u001b[0;34m\u001b[0m\u001b[0m\n",
            "\u001b[0;32m/usr/local/lib/python3.10/dist-packages/tensorflow/python/eager/polymorphic_function/polymorphic_function.py\u001b[0m in \u001b[0;36m_call\u001b[0;34m(self, *args, **kwds)\u001b[0m\n\u001b[1;32m    875\u001b[0m       \u001b[0;31m# In this case we have not created variables on the first call. So we can\u001b[0m\u001b[0;34m\u001b[0m\u001b[0;34m\u001b[0m\u001b[0m\n\u001b[1;32m    876\u001b[0m       \u001b[0;31m# run the first trace but we should fail if variables are created.\u001b[0m\u001b[0;34m\u001b[0m\u001b[0;34m\u001b[0m\u001b[0m\n\u001b[0;32m--> 877\u001b[0;31m       results = tracing_compilation.call_function(\n\u001b[0m\u001b[1;32m    878\u001b[0m           \u001b[0margs\u001b[0m\u001b[0;34m,\u001b[0m \u001b[0mkwds\u001b[0m\u001b[0;34m,\u001b[0m \u001b[0mself\u001b[0m\u001b[0;34m.\u001b[0m\u001b[0m_variable_creation_config\u001b[0m\u001b[0;34m\u001b[0m\u001b[0;34m\u001b[0m\u001b[0m\n\u001b[1;32m    879\u001b[0m       )\n",
            "\u001b[0;32m/usr/local/lib/python3.10/dist-packages/tensorflow/python/eager/polymorphic_function/tracing_compilation.py\u001b[0m in \u001b[0;36mcall_function\u001b[0;34m(args, kwargs, tracing_options)\u001b[0m\n\u001b[1;32m    137\u001b[0m   \u001b[0mbound_args\u001b[0m \u001b[0;34m=\u001b[0m \u001b[0mfunction\u001b[0m\u001b[0;34m.\u001b[0m\u001b[0mfunction_type\u001b[0m\u001b[0;34m.\u001b[0m\u001b[0mbind\u001b[0m\u001b[0;34m(\u001b[0m\u001b[0;34m*\u001b[0m\u001b[0margs\u001b[0m\u001b[0;34m,\u001b[0m \u001b[0;34m**\u001b[0m\u001b[0mkwargs\u001b[0m\u001b[0;34m)\u001b[0m\u001b[0;34m\u001b[0m\u001b[0;34m\u001b[0m\u001b[0m\n\u001b[1;32m    138\u001b[0m   \u001b[0mflat_inputs\u001b[0m \u001b[0;34m=\u001b[0m \u001b[0mfunction\u001b[0m\u001b[0;34m.\u001b[0m\u001b[0mfunction_type\u001b[0m\u001b[0;34m.\u001b[0m\u001b[0munpack_inputs\u001b[0m\u001b[0;34m(\u001b[0m\u001b[0mbound_args\u001b[0m\u001b[0;34m)\u001b[0m\u001b[0;34m\u001b[0m\u001b[0;34m\u001b[0m\u001b[0m\n\u001b[0;32m--> 139\u001b[0;31m   return function._call_flat(  # pylint: disable=protected-access\n\u001b[0m\u001b[1;32m    140\u001b[0m       \u001b[0mflat_inputs\u001b[0m\u001b[0;34m,\u001b[0m \u001b[0mcaptured_inputs\u001b[0m\u001b[0;34m=\u001b[0m\u001b[0mfunction\u001b[0m\u001b[0;34m.\u001b[0m\u001b[0mcaptured_inputs\u001b[0m\u001b[0;34m\u001b[0m\u001b[0;34m\u001b[0m\u001b[0m\n\u001b[1;32m    141\u001b[0m   )\n",
            "\u001b[0;32m/usr/local/lib/python3.10/dist-packages/tensorflow/python/eager/polymorphic_function/concrete_function.py\u001b[0m in \u001b[0;36m_call_flat\u001b[0;34m(self, tensor_inputs, captured_inputs)\u001b[0m\n\u001b[1;32m   1321\u001b[0m         and executing_eagerly):\n\u001b[1;32m   1322\u001b[0m       \u001b[0;31m# No tape is watching; skip to running the function.\u001b[0m\u001b[0;34m\u001b[0m\u001b[0;34m\u001b[0m\u001b[0m\n\u001b[0;32m-> 1323\u001b[0;31m       \u001b[0;32mreturn\u001b[0m \u001b[0mself\u001b[0m\u001b[0;34m.\u001b[0m\u001b[0m_inference_function\u001b[0m\u001b[0;34m.\u001b[0m\u001b[0mcall_preflattened\u001b[0m\u001b[0;34m(\u001b[0m\u001b[0margs\u001b[0m\u001b[0;34m)\u001b[0m\u001b[0;34m\u001b[0m\u001b[0;34m\u001b[0m\u001b[0m\n\u001b[0m\u001b[1;32m   1324\u001b[0m     forward_backward = self._select_forward_and_backward_functions(\n\u001b[1;32m   1325\u001b[0m         \u001b[0margs\u001b[0m\u001b[0;34m,\u001b[0m\u001b[0;34m\u001b[0m\u001b[0;34m\u001b[0m\u001b[0m\n",
            "\u001b[0;32m/usr/local/lib/python3.10/dist-packages/tensorflow/python/eager/polymorphic_function/atomic_function.py\u001b[0m in \u001b[0;36mcall_preflattened\u001b[0;34m(self, args)\u001b[0m\n\u001b[1;32m    214\u001b[0m   \u001b[0;32mdef\u001b[0m \u001b[0mcall_preflattened\u001b[0m\u001b[0;34m(\u001b[0m\u001b[0mself\u001b[0m\u001b[0;34m,\u001b[0m \u001b[0margs\u001b[0m\u001b[0;34m:\u001b[0m \u001b[0mSequence\u001b[0m\u001b[0;34m[\u001b[0m\u001b[0mcore\u001b[0m\u001b[0;34m.\u001b[0m\u001b[0mTensor\u001b[0m\u001b[0;34m]\u001b[0m\u001b[0;34m)\u001b[0m \u001b[0;34m->\u001b[0m \u001b[0mAny\u001b[0m\u001b[0;34m:\u001b[0m\u001b[0;34m\u001b[0m\u001b[0;34m\u001b[0m\u001b[0m\n\u001b[1;32m    215\u001b[0m     \u001b[0;34m\"\"\"Calls with flattened tensor inputs and returns the structured output.\"\"\"\u001b[0m\u001b[0;34m\u001b[0m\u001b[0;34m\u001b[0m\u001b[0m\n\u001b[0;32m--> 216\u001b[0;31m     \u001b[0mflat_outputs\u001b[0m \u001b[0;34m=\u001b[0m \u001b[0mself\u001b[0m\u001b[0;34m.\u001b[0m\u001b[0mcall_flat\u001b[0m\u001b[0;34m(\u001b[0m\u001b[0;34m*\u001b[0m\u001b[0margs\u001b[0m\u001b[0;34m)\u001b[0m\u001b[0;34m\u001b[0m\u001b[0;34m\u001b[0m\u001b[0m\n\u001b[0m\u001b[1;32m    217\u001b[0m     \u001b[0;32mreturn\u001b[0m \u001b[0mself\u001b[0m\u001b[0;34m.\u001b[0m\u001b[0mfunction_type\u001b[0m\u001b[0;34m.\u001b[0m\u001b[0mpack_output\u001b[0m\u001b[0;34m(\u001b[0m\u001b[0mflat_outputs\u001b[0m\u001b[0;34m)\u001b[0m\u001b[0;34m\u001b[0m\u001b[0;34m\u001b[0m\u001b[0m\n\u001b[1;32m    218\u001b[0m \u001b[0;34m\u001b[0m\u001b[0m\n",
            "\u001b[0;32m/usr/local/lib/python3.10/dist-packages/tensorflow/python/eager/polymorphic_function/atomic_function.py\u001b[0m in \u001b[0;36mcall_flat\u001b[0;34m(self, *args)\u001b[0m\n\u001b[1;32m    249\u001b[0m         \u001b[0;32mwith\u001b[0m \u001b[0mrecord\u001b[0m\u001b[0;34m.\u001b[0m\u001b[0mstop_recording\u001b[0m\u001b[0;34m(\u001b[0m\u001b[0;34m)\u001b[0m\u001b[0;34m:\u001b[0m\u001b[0;34m\u001b[0m\u001b[0;34m\u001b[0m\u001b[0m\n\u001b[1;32m    250\u001b[0m           \u001b[0;32mif\u001b[0m \u001b[0mself\u001b[0m\u001b[0;34m.\u001b[0m\u001b[0m_bound_context\u001b[0m\u001b[0;34m.\u001b[0m\u001b[0mexecuting_eagerly\u001b[0m\u001b[0;34m(\u001b[0m\u001b[0;34m)\u001b[0m\u001b[0;34m:\u001b[0m\u001b[0;34m\u001b[0m\u001b[0;34m\u001b[0m\u001b[0m\n\u001b[0;32m--> 251\u001b[0;31m             outputs = self._bound_context.call_function(\n\u001b[0m\u001b[1;32m    252\u001b[0m                 \u001b[0mself\u001b[0m\u001b[0;34m.\u001b[0m\u001b[0mname\u001b[0m\u001b[0;34m,\u001b[0m\u001b[0;34m\u001b[0m\u001b[0;34m\u001b[0m\u001b[0m\n\u001b[1;32m    253\u001b[0m                 \u001b[0mlist\u001b[0m\u001b[0;34m(\u001b[0m\u001b[0margs\u001b[0m\u001b[0;34m)\u001b[0m\u001b[0;34m,\u001b[0m\u001b[0;34m\u001b[0m\u001b[0;34m\u001b[0m\u001b[0m\n",
            "\u001b[0;32m/usr/local/lib/python3.10/dist-packages/tensorflow/python/eager/context.py\u001b[0m in \u001b[0;36mcall_function\u001b[0;34m(self, name, tensor_inputs, num_outputs)\u001b[0m\n\u001b[1;32m   1484\u001b[0m     \u001b[0mcancellation_context\u001b[0m \u001b[0;34m=\u001b[0m \u001b[0mcancellation\u001b[0m\u001b[0;34m.\u001b[0m\u001b[0mcontext\u001b[0m\u001b[0;34m(\u001b[0m\u001b[0;34m)\u001b[0m\u001b[0;34m\u001b[0m\u001b[0;34m\u001b[0m\u001b[0m\n\u001b[1;32m   1485\u001b[0m     \u001b[0;32mif\u001b[0m \u001b[0mcancellation_context\u001b[0m \u001b[0;32mis\u001b[0m \u001b[0;32mNone\u001b[0m\u001b[0;34m:\u001b[0m\u001b[0;34m\u001b[0m\u001b[0;34m\u001b[0m\u001b[0m\n\u001b[0;32m-> 1486\u001b[0;31m       outputs = execute.execute(\n\u001b[0m\u001b[1;32m   1487\u001b[0m           \u001b[0mname\u001b[0m\u001b[0;34m.\u001b[0m\u001b[0mdecode\u001b[0m\u001b[0;34m(\u001b[0m\u001b[0;34m\"utf-8\"\u001b[0m\u001b[0;34m)\u001b[0m\u001b[0;34m,\u001b[0m\u001b[0;34m\u001b[0m\u001b[0;34m\u001b[0m\u001b[0m\n\u001b[1;32m   1488\u001b[0m           \u001b[0mnum_outputs\u001b[0m\u001b[0;34m=\u001b[0m\u001b[0mnum_outputs\u001b[0m\u001b[0;34m,\u001b[0m\u001b[0;34m\u001b[0m\u001b[0;34m\u001b[0m\u001b[0m\n",
            "\u001b[0;32m/usr/local/lib/python3.10/dist-packages/tensorflow/python/eager/execute.py\u001b[0m in \u001b[0;36mquick_execute\u001b[0;34m(op_name, num_outputs, inputs, attrs, ctx, name)\u001b[0m\n\u001b[1;32m     51\u001b[0m   \u001b[0;32mtry\u001b[0m\u001b[0;34m:\u001b[0m\u001b[0;34m\u001b[0m\u001b[0;34m\u001b[0m\u001b[0m\n\u001b[1;32m     52\u001b[0m     \u001b[0mctx\u001b[0m\u001b[0;34m.\u001b[0m\u001b[0mensure_initialized\u001b[0m\u001b[0;34m(\u001b[0m\u001b[0;34m)\u001b[0m\u001b[0;34m\u001b[0m\u001b[0;34m\u001b[0m\u001b[0m\n\u001b[0;32m---> 53\u001b[0;31m     tensors = pywrap_tfe.TFE_Py_Execute(ctx._handle, device_name, op_name,\n\u001b[0m\u001b[1;32m     54\u001b[0m                                         inputs, attrs, num_outputs)\n\u001b[1;32m     55\u001b[0m   \u001b[0;32mexcept\u001b[0m \u001b[0mcore\u001b[0m\u001b[0;34m.\u001b[0m\u001b[0m_NotOkStatusException\u001b[0m \u001b[0;32mas\u001b[0m \u001b[0me\u001b[0m\u001b[0;34m:\u001b[0m\u001b[0;34m\u001b[0m\u001b[0;34m\u001b[0m\u001b[0m\n",
            "\u001b[0;31mKeyboardInterrupt\u001b[0m: "
          ]
        }
      ],
      "source": [
        "# Choose a specific instance index from the test set\n",
        "instance_index = 1  # Change this index to explain a different instance\n",
        "# Choose the class index you want to explain (for multi-class classification)\n",
        "class_index = 1  # Change this index accordingly\n",
        "\n",
        "# Explain prediction for the specific instance using DeepExplainer\n",
        "explainer = shap.DeepExplainer(model, X_train_array)\n",
        "shap_values_single = explainer.shap_values(X_test_array)\n",
        "\n",
        "# Reshape SHAP values to match the expected shape\n",
        "shap_values_single_reshaped = np.expand_dims(shap_values_single[class_index][instance_index], axis=0)\n",
        "\n",
        "# Reshape the expected value to match the shape of SHAP values\n",
        "expected_value_reshaped = np.expand_dims(explainer.expected_value[class_index], axis=0)\n",
        "\n",
        "# Plot SHAP values for the specific instance and specific class\n",
        "shap.summary_plot(shap_values, X_test_array, feature_names=vectorizer.get_feature_names_out(), class_names=class_names)\n"
      ]
    },
    {
      "cell_type": "code",
      "execution_count": null,
      "metadata": {
        "id": "qItIQbutYfQu"
      },
      "outputs": [],
      "source": []
    },
    {
      "cell_type": "code",
      "execution_count": null,
      "metadata": {
        "id": "bRNEHQ-DYfLp"
      },
      "outputs": [],
      "source": []
    },
    {
      "cell_type": "code",
      "execution_count": null,
      "metadata": {
        "id": "OBAOjOa-XhH_"
      },
      "outputs": [],
      "source": []
    },
    {
      "cell_type": "code",
      "execution_count": null,
      "metadata": {
        "colab": {
          "base_uri": "https://localhost:8080/",
          "height": 365
        },
        "id": "49JKgu7mWThj",
        "outputId": "9c657cc9-6ff5-4811-fa8a-8a6c7d05662d"
      },
      "outputs": [
        {
          "ename": "InvalidModelError",
          "evalue": "Model type not yet supported by TreeExplainer: <class 'sklearn.linear_model._logistic.LogisticRegression'>",
          "output_type": "error",
          "traceback": [
            "\u001b[0;31m---------------------------------------------------------------------------\u001b[0m",
            "\u001b[0;31mInvalidModelError\u001b[0m                         Traceback (most recent call last)",
            "\u001b[0;32m<ipython-input-23-a21cf0d59d91>\u001b[0m in \u001b[0;36m<cell line: 3>\u001b[0;34m()\u001b[0m\n\u001b[1;32m      1\u001b[0m \u001b[0;32mimport\u001b[0m \u001b[0mshap\u001b[0m\u001b[0;34m\u001b[0m\u001b[0;34m\u001b[0m\u001b[0m\n\u001b[1;32m      2\u001b[0m \u001b[0;31m# Explain predictions using SHAP\u001b[0m\u001b[0;34m\u001b[0m\u001b[0;34m\u001b[0m\u001b[0m\n\u001b[0;32m----> 3\u001b[0;31m \u001b[0mexplainer\u001b[0m \u001b[0;34m=\u001b[0m \u001b[0mshap\u001b[0m\u001b[0;34m.\u001b[0m\u001b[0mTreeExplainer\u001b[0m\u001b[0;34m(\u001b[0m\u001b[0mclassifier\u001b[0m\u001b[0;34m)\u001b[0m\u001b[0;34m\u001b[0m\u001b[0;34m\u001b[0m\u001b[0m\n\u001b[0m\u001b[1;32m      4\u001b[0m \u001b[0mshap_values\u001b[0m \u001b[0;34m=\u001b[0m \u001b[0mexplainer\u001b[0m\u001b[0;34m.\u001b[0m\u001b[0mshap_values\u001b[0m\u001b[0;34m(\u001b[0m\u001b[0mX_test_vectorized\u001b[0m\u001b[0;34m)\u001b[0m\u001b[0;34m\u001b[0m\u001b[0;34m\u001b[0m\u001b[0m\n\u001b[1;32m      5\u001b[0m \u001b[0;34m\u001b[0m\u001b[0m\n",
            "\u001b[0;32m/usr/local/lib/python3.10/dist-packages/shap/explainers/_tree.py\u001b[0m in \u001b[0;36m__init__\u001b[0;34m(self, model, data, model_output, feature_perturbation, feature_names, approximate, **deprecated_options)\u001b[0m\n\u001b[1;32m    173\u001b[0m         \u001b[0mself\u001b[0m\u001b[0;34m.\u001b[0m\u001b[0mfeature_perturbation\u001b[0m \u001b[0;34m=\u001b[0m \u001b[0mfeature_perturbation\u001b[0m\u001b[0;34m\u001b[0m\u001b[0;34m\u001b[0m\u001b[0m\n\u001b[1;32m    174\u001b[0m         \u001b[0mself\u001b[0m\u001b[0;34m.\u001b[0m\u001b[0mexpected_value\u001b[0m \u001b[0;34m=\u001b[0m \u001b[0;32mNone\u001b[0m\u001b[0;34m\u001b[0m\u001b[0;34m\u001b[0m\u001b[0m\n\u001b[0;32m--> 175\u001b[0;31m         \u001b[0mself\u001b[0m\u001b[0;34m.\u001b[0m\u001b[0mmodel\u001b[0m \u001b[0;34m=\u001b[0m \u001b[0mTreeEnsemble\u001b[0m\u001b[0;34m(\u001b[0m\u001b[0mmodel\u001b[0m\u001b[0;34m,\u001b[0m \u001b[0mself\u001b[0m\u001b[0;34m.\u001b[0m\u001b[0mdata\u001b[0m\u001b[0;34m,\u001b[0m \u001b[0mself\u001b[0m\u001b[0;34m.\u001b[0m\u001b[0mdata_missing\u001b[0m\u001b[0;34m,\u001b[0m \u001b[0mmodel_output\u001b[0m\u001b[0;34m)\u001b[0m\u001b[0;34m\u001b[0m\u001b[0;34m\u001b[0m\u001b[0m\n\u001b[0m\u001b[1;32m    176\u001b[0m         \u001b[0mself\u001b[0m\u001b[0;34m.\u001b[0m\u001b[0mmodel_output\u001b[0m \u001b[0;34m=\u001b[0m \u001b[0mmodel_output\u001b[0m\u001b[0;34m\u001b[0m\u001b[0;34m\u001b[0m\u001b[0m\n\u001b[1;32m    177\u001b[0m         \u001b[0;31m#self.model_output = self.model.model_output # this allows the TreeEnsemble to translate model outputs types by how it loads the model\u001b[0m\u001b[0;34m\u001b[0m\u001b[0;34m\u001b[0m\u001b[0m\n",
            "\u001b[0;32m/usr/local/lib/python3.10/dist-packages/shap/explainers/_tree.py\u001b[0m in \u001b[0;36m__init__\u001b[0;34m(self, model, data, data_missing, model_output)\u001b[0m\n\u001b[1;32m   1224\u001b[0m             \u001b[0mself\u001b[0m\u001b[0;34m.\u001b[0m\u001b[0mbase_offset\u001b[0m \u001b[0;34m=\u001b[0m \u001b[0mmodel\u001b[0m\u001b[0;34m.\u001b[0m\u001b[0minit_params\u001b[0m\u001b[0;34m[\u001b[0m\u001b[0mparam_idx\u001b[0m\u001b[0;34m]\u001b[0m\u001b[0;34m\u001b[0m\u001b[0;34m\u001b[0m\u001b[0m\n\u001b[1;32m   1225\u001b[0m         \u001b[0;32melse\u001b[0m\u001b[0;34m:\u001b[0m\u001b[0;34m\u001b[0m\u001b[0;34m\u001b[0m\u001b[0m\n\u001b[0;32m-> 1226\u001b[0;31m             \u001b[0;32mraise\u001b[0m \u001b[0mInvalidModelError\u001b[0m\u001b[0;34m(\u001b[0m\u001b[0;34m\"Model type not yet supported by TreeExplainer: \"\u001b[0m \u001b[0;34m+\u001b[0m \u001b[0mstr\u001b[0m\u001b[0;34m(\u001b[0m\u001b[0mtype\u001b[0m\u001b[0;34m(\u001b[0m\u001b[0mmodel\u001b[0m\u001b[0;34m)\u001b[0m\u001b[0;34m)\u001b[0m\u001b[0;34m)\u001b[0m\u001b[0;34m\u001b[0m\u001b[0;34m\u001b[0m\u001b[0m\n\u001b[0m\u001b[1;32m   1227\u001b[0m \u001b[0;34m\u001b[0m\u001b[0m\n\u001b[1;32m   1228\u001b[0m         \u001b[0;31m# build a dense numpy version of all the tree objects\u001b[0m\u001b[0;34m\u001b[0m\u001b[0;34m\u001b[0m\u001b[0m\n",
            "\u001b[0;31mInvalidModelError\u001b[0m: Model type not yet supported by TreeExplainer: <class 'sklearn.linear_model._logistic.LogisticRegression'>"
          ]
        }
      ],
      "source": [
        "import shap\n",
        "# Explain predictions using SHAP\n",
        "explainer = shap.TreeExplainer(classifier)\n",
        "shap_values = explainer.shap_values(X_test_vectorized)\n",
        "\n",
        "# Plot SHAP values\n",
        "shap.summary_plot(shap_values, X_test_vectorized, feature_names=vectorizer.get_feature_names_out())"
      ]
    },
    {
      "cell_type": "code",
      "execution_count": null,
      "metadata": {
        "id": "6DUiW8jbWTdG"
      },
      "outputs": [],
      "source": []
    },
    {
      "cell_type": "code",
      "execution_count": null,
      "metadata": {
        "id": "cvd-swkzWTaj"
      },
      "outputs": [],
      "source": []
    },
    {
      "cell_type": "code",
      "execution_count": null,
      "metadata": {
        "id": "ccbplqpFWTVl"
      },
      "outputs": [],
      "source": []
    },
    {
      "cell_type": "code",
      "execution_count": null,
      "metadata": {
        "id": "WeGA0iZoYPnl"
      },
      "outputs": [],
      "source": [
        "def data_clean( rev, remove_stopwords=True):\n",
        "    new_text = re.sub(\"[^a-zA-Z]\",\" \", rev)\n",
        "    words = new_text.lower().split()\n",
        "    if remove_stopwords:\n",
        "        sts = set(stopwords.words(\"english\"))\n",
        "        words = [w for w in words if not w in sts]\n",
        "    ary=[]\n",
        "    eng_stemmer = english_stemmer\n",
        "    for word in words:\n",
        "        ary.append(eng_stemmer.stem(word))\n",
        "    return(ary)"
      ]
    },
    {
      "cell_type": "code",
      "execution_count": null,
      "metadata": {
        "id": "pnSlCxFPWTS6"
      },
      "outputs": [],
      "source": []
    },
    {
      "cell_type": "code",
      "execution_count": null,
      "metadata": {
        "id": "3sBnTshPWTJo"
      },
      "outputs": [],
      "source": []
    },
    {
      "cell_type": "code",
      "execution_count": null,
      "metadata": {
        "id": "AZJqM_zgYPk9"
      },
      "outputs": [],
      "source": [
        "clean_reviewData = []\n",
        "for rev in review_data['reviewText']:\n",
        "    clean_reviewData.append( \" \".join((data_clean(str(rev)))))"
      ]
    },
    {
      "cell_type": "code",
      "execution_count": null,
      "metadata": {
        "id": "l5dfVKQ-fNj7"
      },
      "outputs": [],
      "source": [
        "clean_summaryData = []\n",
        "for rev in review_data['summary']:\n",
        "    clean_summaryData.append( \" \".join((data_clean(str(rev)))))"
      ]
    },
    {
      "cell_type": "code",
      "execution_count": null,
      "metadata": {
        "colab": {
          "base_uri": "https://localhost:8080/"
        },
        "id": "fOLZYTHKYPiV",
        "outputId": "35941403-d7cd-4333-ba54-f53b44190149"
      },
      "outputs": [
        {
          "name": "stdout",
          "output_type": "stream",
          "text": [
            "song       130840\n",
            "love        55760\n",
            "great       52841\n",
            "music       42322\n",
            "like        36679\n",
            "album       33398\n",
            "one         32194\n",
            "good        30983\n",
            "listen      20615\n",
            "time        17837\n",
            "sound       17656\n",
            "realli      15394\n",
            "get         14380\n",
            "track       12425\n",
            "make        12354\n",
            "best        11486\n",
            "would       10846\n",
            "cd          10317\n",
            "classic      9944\n",
            "back         9922\n",
            "dtype: int64\n"
          ]
        }
      ],
      "source": [
        "Most_used_Words_Review =pd.Series(' '.join(clean_reviewData).lower().split()).value_counts()[:20]\n",
        "print (Most_used_Words_Review)"
      ]
    },
    {
      "cell_type": "code",
      "execution_count": null,
      "metadata": {
        "colab": {
          "base_uri": "https://localhost:8080/"
        },
        "id": "RwUwI3cnYPfj",
        "outputId": "fd38ae8f-db1c-46c9-b878-ce5f974b423c"
      },
      "outputs": [
        {
          "name": "stdout",
          "output_type": "stream",
          "text": [
            "star       64839\n",
            "five       53352\n",
            "song       23222\n",
            "great      16449\n",
            "love       12709\n",
            "four        7988\n",
            "good        7601\n",
            "music       6126\n",
            "one         3590\n",
            "classic     3344\n",
            "like        3134\n",
            "best        2906\n",
            "album       2419\n",
            "three       2275\n",
            "awesom      2271\n",
            "beauti      1897\n",
            "nice        1782\n",
            "rock        1562\n",
            "sound       1503\n",
            "favorit     1463\n",
            "dtype: int64\n"
          ]
        }
      ],
      "source": [
        "Most_used_Words_Summary = pd.Series(' '.join(clean_summaryData).lower().split()).value_counts()[:20]\n",
        "print (Most_used_Words_Summary)"
      ]
    },
    {
      "cell_type": "code",
      "execution_count": null,
      "metadata": {
        "id": "fI5fe6ElYPdI"
      },
      "outputs": [],
      "source": [
        "from sklearn.feature_extraction.text import TfidfVectorizer\n",
        "text_vectorizer = TfidfVectorizer(min_df=4, max_features = 1000)\n",
        "test_vecor = text_vectorizer.fit_transform(clean_reviewData)\n",
        "tfidf_vector = dict(zip(text_vectorizer.get_feature_names_out(), text_vectorizer.idf_))"
      ]
    },
    {
      "cell_type": "code",
      "execution_count": null,
      "metadata": {
        "colab": {
          "base_uri": "https://localhost:8080/"
        },
        "id": "QCH0JR6hg2Sm",
        "outputId": "4364f304-b830-47f5-9b0d-b3d3e48df499"
      },
      "outputs": [
        {
          "name": "stderr",
          "output_type": "stream",
          "text": [
            "[nltk_data] Downloading package vader_lexicon to /root/nltk_data...\n",
            "[nltk_data]   Package vader_lexicon is already up-to-date!\n"
          ]
        },
        {
          "data": {
            "text/plain": [
              "True"
            ]
          },
          "execution_count": 11,
          "metadata": {},
          "output_type": "execute_result"
        }
      ],
      "source": [
        "import nltk\n",
        "nltk.download('vader_lexicon')"
      ]
    },
    {
      "cell_type": "code",
      "execution_count": null,
      "metadata": {
        "colab": {
          "base_uri": "https://localhost:8080/"
        },
        "id": "GYgHC1SUYPah",
        "outputId": "09828c0f-488b-43b8-aba9-58b0c53264bc"
      },
      "outputs": [
        {
          "name": "stdout",
          "output_type": "stream",
          "text": [
            "compound: 0.6892, \n",
            "neg: 0.0, \n",
            "neu: 0.81, \n",
            "pos: 0.19, \n",
            "This is awesome to listen to, A must-have for all Slayer fans..sadly needed to be a triple disc set..They have so many hits!!\n",
            "compound: 0.0, \n",
            "neg: 0.0, \n",
            "neu: 1.0, \n",
            "pos: 0.0, \n",
            "bien\n",
            "compound: 0.886, \n",
            "neg: 0.0, \n",
            "neu: 0.599, \n",
            "pos: 0.401, \n",
            "It was great to hear the old stuff again and I like the new stuff too. I recommend it to any Slayer fan.\n",
            "compound: 0.9737, \n",
            "neg: 0.153, \n",
            "neu: 0.581, \n",
            "pos: 0.266, \n",
            "well best of's are a bit poison normally but this is not bad it's pretty good because I'd have put 90% hell await,reign in blood,south of,seasons ,divine and a couple musica's tracks and everything on god hates -at that point best of mean every cd mainly so this is not so bad  it dose put some great tracks that live shows don't play much out there like,213, skeletons of society,sex murder art and Gemini and some rare track too,final six is just a bonus track on Christ illusion but it's here with the mystery cover songs from unditstputed attitude cd(why these would be on a greatest hits collection I don't know) but the also put a couple of live tracks on here too.all in all it could be much worse but it's great for the car.\n",
            "compound: 0.7891, \n",
            "neg: 0.0, \n",
            "neu: 0.589, \n",
            "pos: 0.411, \n",
            "What can I say? This is Casting Crowns!!!This is a good, blessing filled, CD.\n",
            "compound: 0.4939, \n",
            "neg: 0.0, \n",
            "neu: 0.61, \n",
            "pos: 0.39, \n",
            "Enjoy Casting Crowns and their songs\n",
            "compound: 0.8586, \n",
            "neg: 0.0, \n",
            "neu: 0.513, \n",
            "pos: 0.487, \n",
            "Another very inspirational collection by a Very popular Christian group.  Another of my Favorites.\n",
            "compound: 0.9325, \n",
            "neg: 0.01, \n",
            "neu: 0.911, \n",
            "pos: 0.079, \n",
            "I love the song Slow Fade by Casting Crowns, especially how they put the children version at the end... its a song that speaks to everyone of us to be careful on \"itching ears\" that may take our faith and attention away from the Lord and to be watchful all the time and put on our armour at all times in the gospel. The song slow fade speaks to those who does not just live and walk in faith but also those who are still in the process of finding themselves in the walk of faith and intimate relationship with the Lord, the lyrics simply say \"people never crumble in a day... its a slow fade when you give yourself away...\" this is so true, nobody changes over night and we can start by being careful on what we feed our minds, body, ears, eyes, and soul for our body is the temple of the Lord and we are to keep it holy and live a christ-like life all the time, not just at certain times but 24/7, with or without people around us... we may not get it all right at ones, but its a \"slow fade\" when we make a conscious decision to change our ways and it starts by the choices we make on what to feed our body and soul.\n",
            "compound: 0.9813, \n",
            "neg: 0.0, \n",
            "neu: 0.657, \n",
            "pos: 0.343, \n",
            "This is an awesome album from the amazing Christian group Casting Crowns. You can't go wrong with this album. Amazing and worth the buy! I think if you like Casting Crowns you'd probably also like my current new favorite artist I found through myspace. I think they'll be as big as Casting Crowns and already starting to see a huge interest in them. See my other reviews for The Warehouse Band\n",
            "compound: 0.9872, \n",
            "neg: 0.0, \n",
            "neu: 0.814, \n",
            "pos: 0.186, \n",
            "I can't believe I haven't written a review for this album yet! Maybe I didn't buy it from amazon, lol! I love this album to pieces. All the way from What This World Needs to Every Man, Slow Fade to all because of Jesus...great just awesome! I had the privilege of seeing this band perform at the Norfolk Scope in Norfolk, VA back last November with my brother and I tell you what..this band cares for souls! I, only being a new christian for a couple of months prior I was on a spirtual high already and this band lifted me up higher! Casting Crowns is one of those exceptional Contemporary Christian Bands that you would feel comfortable having your 6 or 8 year old son or daughter listen to. I had Lifesong and I knew how much I enjoyed that album, still there most phenomenal work to date and then picked up the debut album self titled Casting Crowns. If you want to listen to a band that actually loves Jesus and wants everyone to know it, I can guarantee this band will fulfill your craving.\n"
          ]
        }
      ],
      "source": [
        "from nltk.sentiment.vader import SentimentIntensityAnalyzer\n",
        "analyser = SentimentIntensityAnalyzer()\n",
        "sample_review = review_data.reviewText[:10]\n",
        "for test in sample_review:\n",
        "    test\n",
        "    ss = analyser.polarity_scores(test)\n",
        "    for k in sorted(ss):\n",
        "        print('{0}: {1}, '.format(k, ss[k]))\n",
        "    print(test)"
      ]
    },
    {
      "cell_type": "code",
      "execution_count": null,
      "metadata": {
        "colab": {
          "base_uri": "https://localhost:8080/"
        },
        "id": "vnJbb5AnYPXy",
        "outputId": "ae40ba93-bc13-4092-8e5f-cd219f78b0c3"
      },
      "outputs": [
        {
          "name": "stdout",
          "output_type": "stream",
          "text": [
            "Cluster 0:\n",
            " great\n",
            " tell\n",
            " think\n",
            " album\n",
            " record\n",
            "\n",
            "Cluster 1:\n",
            " love\n",
            " music\n",
            " song\n",
            " album\n",
            " voic\n",
            "\n",
            "Cluster 2:\n",
            " song\n",
            " love\n",
            " great\n",
            " enjoy\n",
            " download\n",
            "\n",
            "Cluster 3:\n",
            " good\n",
            " song\n",
            " music\n",
            " qualiti\n",
            " stuff\n",
            "\n",
            "Cluster 4:\n",
            " great\n",
            " song\n",
            " love\n",
            " voic\n",
            " one\n",
            "\n",
            "Cluster 5:\n",
            " song\n",
            " like\n",
            " love\n",
            " great\n",
            " one\n",
            "\n",
            "Cluster 6:\n",
            " ok\n",
            " memori\n",
            " expect\n",
            " bring\n",
            " product\n",
            "\n",
            "Cluster 7:\n",
            " love\n",
            " song\n",
            " hate\n",
            " ever\n",
            " amaz\n",
            "\n",
            "Cluster 8:\n",
            " favorit\n",
            " one\n",
            " song\n",
            " time\n",
            " love\n",
            "\n",
            "Cluster 9:\n",
            " classic\n",
            " song\n",
            " great\n",
            " rock\n",
            " music\n",
            "\n",
            "Cluster 10:\n",
            " great\n",
            " song\n",
            " sound\n",
            " album\n",
            " tune\n",
            "\n",
            "Cluster 11:\n",
            " love\n",
            " song\n",
            " get\n",
            " like\n",
            " good\n",
            "\n",
            "Cluster 12:\n",
            " awesom\n",
            " song\n",
            " love\n",
            " music\n",
            " great\n",
            "\n",
            "Cluster 13:\n",
            " beauti\n",
            " song\n",
            " perfect\n",
            " voic\n",
            " love\n",
            "\n",
            "Cluster 14:\n",
            " music\n",
            " great\n",
            " like\n",
            " love\n",
            " wonder\n",
            "\n",
            "Cluster 15:\n",
            " thank\n",
            " great\n",
            " love\n",
            " song\n",
            " music\n",
            "\n",
            "Cluster 16:\n",
            " excel\n",
            " music\n",
            " album\n",
            " best\n",
            " one\n",
            "\n",
            "Cluster 17:\n",
            " nice\n",
            " song\n",
            " tune\n",
            " music\n",
            " beat\n",
            "\n",
            "Cluster 18:\n",
            " song\n",
            " love\n",
            " alway\n",
            " great\n",
            " beat\n",
            "\n",
            "Cluster 19:\n",
            " cool\n",
            " song\n",
            " like\n",
            " realli\n",
            " much\n",
            "\n"
          ]
        }
      ],
      "source": [
        "from sklearn.cluster import MiniBatchKMeans\n",
        "\n",
        "clusters = 20\n",
        "kmeans_model = MiniBatchKMeans(n_clusters=clusters, init='k-means++', n_init=1,\n",
        "                         init_size=1000, batch_size=1000, verbose=False, max_iter=1000)\n",
        "kmodel = kmeans_model.fit(test_vecor)\n",
        "kmodel_clusters = kmodel.predict(test_vecor)\n",
        "kmodel_distances = kmodel.transform(test_vecor)\n",
        "centroids = kmodel.cluster_centers_.argsort()[:, ::-1]\n",
        "values = text_vectorizer.get_feature_names_out()\n",
        "for i in range(clusters):\n",
        "    print(\"Cluster %d:\" % i)\n",
        "    for j in centroids[i, :5]:\n",
        "        print(' %s' % values[j])\n",
        "    print()"
      ]
    },
    {
      "cell_type": "code",
      "execution_count": null,
      "metadata": {
        "id": "QW_tvfcKYPU3"
      },
      "outputs": [],
      "source": [
        "test_reviewText = review_data.reviewText\n",
        "test_Ratings = review_data.overall\n",
        "text_vectorizer = TfidfVectorizer(max_df=.8)\n",
        "text_vectorizer.fit(test_reviewText.apply(lambda x: np.str_(x)))\n",
        "def rate(r):\n",
        "    ary2 = []\n",
        "    for rating in r:\n",
        "        tv = [0,0,0,0,0]\n",
        "        tv[rating-1] = 1\n",
        "        ary2.append(tv)\n",
        "    return np.array(ary2)"
      ]
    },
    {
      "cell_type": "code",
      "execution_count": null,
      "metadata": {
        "colab": {
          "base_uri": "https://localhost:8080/"
        },
        "id": "wlGCVQETYPRb",
        "outputId": "909066f9-2f21-468b-9d33-f975a278e1f9"
      },
      "outputs": [
        {
          "data": {
            "text/plain": [
              "0       This is awesome to listen to, A must-have for ...\n",
              "1                                                    bien\n",
              "2       It was great to hear the old stuff again and I...\n",
              "3       well best of's are a bit poison normally but t...\n",
              "4       What can I say? This is Casting Crowns!!!This ...\n",
              "                              ...                        \n",
              "1995    This is a classic song and one of my all time ...\n",
              "1996    I really don't like this style of music, but t...\n",
              "1997    great song. Love the song. Great one to have i...\n",
              "1998    With its shimmering production, crystal clear ...\n",
              "1999    The Raspberries song \"Go All The Way\". A great...\n",
              "Name: reviewText, Length: 2000, dtype: object"
            ]
          },
          "execution_count": 15,
          "metadata": {},
          "output_type": "execute_result"
        }
      ],
      "source": [
        "test_reviewText =test_reviewText[:2000]\n",
        "test_reviewText"
      ]
    },
    {
      "cell_type": "code",
      "execution_count": null,
      "metadata": {
        "colab": {
          "base_uri": "https://localhost:8080/"
        },
        "id": "uJ_-30yaYPNu",
        "outputId": "6ee012b2-ff79-4068-84f8-d5de5471ece9"
      },
      "outputs": [
        {
          "data": {
            "text/plain": [
              "0       5\n",
              "1       5\n",
              "2       5\n",
              "3       4\n",
              "4       5\n",
              "       ..\n",
              "1995    5\n",
              "1996    5\n",
              "1997    5\n",
              "1998    5\n",
              "1999    5\n",
              "Name: overall, Length: 2000, dtype: int64"
            ]
          },
          "execution_count": 16,
          "metadata": {},
          "output_type": "execute_result"
        }
      ],
      "source": [
        "test_Ratings = test_Ratings[:2000]\n",
        "test_Ratings"
      ]
    },
    {
      "cell_type": "code",
      "execution_count": null,
      "metadata": {
        "id": "3Zj9z33BYPKt"
      },
      "outputs": [],
      "source": [
        "X = text_vectorizer.transform(test_reviewText).toarray()\n",
        "y = rate(test_Ratings.values)"
      ]
    },
    {
      "cell_type": "code",
      "execution_count": null,
      "metadata": {
        "colab": {
          "base_uri": "https://localhost:8080/"
        },
        "id": "nOcoFZ4jaZfL",
        "outputId": "6c4e90d0-7e57-4014-c067-62f03c03f88e"
      },
      "outputs": [
        {
          "name": "stdout",
          "output_type": "stream",
          "text": [
            "Epoch 1/10\n",
            "50/50 [==============================] - 6s 103ms/step - loss: 0.9484 - accuracy: 0.8006 - val_loss: 0.6317 - val_accuracy: 0.8325\n",
            "Epoch 2/10\n",
            "50/50 [==============================] - 5s 96ms/step - loss: 0.6001 - accuracy: 0.8163 - val_loss: 0.5587 - val_accuracy: 0.8325\n",
            "Epoch 3/10\n",
            "50/50 [==============================] - 8s 153ms/step - loss: 0.5259 - accuracy: 0.8163 - val_loss: 0.5439 - val_accuracy: 0.8325\n",
            "Epoch 4/10\n",
            "50/50 [==============================] - 10s 194ms/step - loss: 0.4693 - accuracy: 0.8231 - val_loss: 0.5406 - val_accuracy: 0.8350\n",
            "Epoch 5/10\n",
            "50/50 [==============================] - 8s 164ms/step - loss: 0.4203 - accuracy: 0.8438 - val_loss: 0.5420 - val_accuracy: 0.8375\n",
            "Epoch 6/10\n",
            "50/50 [==============================] - 9s 178ms/step - loss: 0.3733 - accuracy: 0.8625 - val_loss: 0.5493 - val_accuracy: 0.8200\n",
            "Epoch 7/10\n",
            "50/50 [==============================] - 8s 158ms/step - loss: 0.3327 - accuracy: 0.8763 - val_loss: 0.5590 - val_accuracy: 0.8125\n",
            "Epoch 8/10\n",
            "50/50 [==============================] - 6s 120ms/step - loss: 0.2949 - accuracy: 0.8994 - val_loss: 0.5736 - val_accuracy: 0.8200\n",
            "Epoch 9/10\n",
            "50/50 [==============================] - 4s 84ms/step - loss: 0.2627 - accuracy: 0.9075 - val_loss: 0.5872 - val_accuracy: 0.8000\n",
            "Epoch 10/10\n",
            "50/50 [==============================] - 6s 112ms/step - loss: 0.2324 - accuracy: 0.9281 - val_loss: 0.6005 - val_accuracy: 0.8100\n",
            "13/13 [==============================] - 0s 16ms/step - loss: 0.6005 - accuracy: 0.8100\n"
          ]
        },
        {
          "data": {
            "text/plain": [
              "0.8100000023841858"
            ]
          },
          "execution_count": 18,
          "metadata": {},
          "output_type": "execute_result"
        }
      ],
      "source": [
        "X_train, X_test, y_train, y_test = train_test_split(X,y,test_size=.2)\n",
        "\n",
        "model = Sequential()\n",
        "model.add(Dense(128,input_dim=X_train.shape[1]))\n",
        "model.add(Dense(5,activation='softmax'))\n",
        "model.compile(loss='categorical_crossentropy',optimizer='rmsprop',metrics=['accuracy'])\n",
        "model.fit(X_train,y_train,validation_data=(X_test, y_test),epochs=10,batch_size=32,verbose=1)\n",
        "model.evaluate(X_test,y_test)[1]"
      ]
    },
    {
      "cell_type": "code",
      "execution_count": null,
      "metadata": {
        "colab": {
          "base_uri": "https://localhost:8080/"
        },
        "id": "rvj0ZInNiBQI",
        "outputId": "e199726b-19ac-4995-a10f-23a843a03c61"
      },
      "outputs": [
        {
          "name": "stdout",
          "output_type": "stream",
          "text": [
            "Requirement already satisfied: shap in /usr/local/lib/python3.10/dist-packages (0.44.1)\n",
            "Requirement already satisfied: numpy in /usr/local/lib/python3.10/dist-packages (from shap) (1.25.2)\n",
            "Requirement already satisfied: scipy in /usr/local/lib/python3.10/dist-packages (from shap) (1.11.4)\n",
            "Requirement already satisfied: scikit-learn in /usr/local/lib/python3.10/dist-packages (from shap) (1.2.2)\n",
            "Requirement already satisfied: pandas in /usr/local/lib/python3.10/dist-packages (from shap) (1.5.3)\n",
            "Requirement already satisfied: tqdm>=4.27.0 in /usr/local/lib/python3.10/dist-packages (from shap) (4.66.2)\n",
            "Requirement already satisfied: packaging>20.9 in /usr/local/lib/python3.10/dist-packages (from shap) (23.2)\n",
            "Requirement already satisfied: slicer==0.0.7 in /usr/local/lib/python3.10/dist-packages (from shap) (0.0.7)\n",
            "Requirement already satisfied: numba in /usr/local/lib/python3.10/dist-packages (from shap) (0.58.1)\n",
            "Requirement already satisfied: cloudpickle in /usr/local/lib/python3.10/dist-packages (from shap) (2.2.1)\n",
            "Requirement already satisfied: llvmlite<0.42,>=0.41.0dev0 in /usr/local/lib/python3.10/dist-packages (from numba->shap) (0.41.1)\n",
            "Requirement already satisfied: python-dateutil>=2.8.1 in /usr/local/lib/python3.10/dist-packages (from pandas->shap) (2.8.2)\n",
            "Requirement already satisfied: pytz>=2020.1 in /usr/local/lib/python3.10/dist-packages (from pandas->shap) (2023.4)\n",
            "Requirement already satisfied: joblib>=1.1.1 in /usr/local/lib/python3.10/dist-packages (from scikit-learn->shap) (1.3.2)\n",
            "Requirement already satisfied: threadpoolctl>=2.0.0 in /usr/local/lib/python3.10/dist-packages (from scikit-learn->shap) (3.3.0)\n",
            "Requirement already satisfied: six>=1.5 in /usr/local/lib/python3.10/dist-packages (from python-dateutil>=2.8.1->pandas->shap) (1.16.0)\n"
          ]
        }
      ],
      "source": [
        "!pip install shap"
      ]
    },
    {
      "cell_type": "code",
      "execution_count": null,
      "metadata": {
        "id": "5Hkt4ytqabaV"
      },
      "outputs": [],
      "source": [
        "import shap"
      ]
    },
    {
      "cell_type": "code",
      "execution_count": null,
      "metadata": {
        "colab": {
          "base_uri": "https://localhost:8080/"
        },
        "id": "LMTa1yvKi7tl",
        "outputId": "becf3915-b6c9-46cd-d4a7-6503b60408c4"
      },
      "outputs": [
        {
          "data": {
            "text/plain": [
              "numpy.ndarray"
            ]
          },
          "execution_count": 30,
          "metadata": {},
          "output_type": "execute_result"
        }
      ],
      "source": [
        "type(X_test)"
      ]
    },
    {
      "cell_type": "code",
      "execution_count": null,
      "metadata": {
        "colab": {
          "base_uri": "https://localhost:8080/"
        },
        "id": "I0IvvClmmewa",
        "outputId": "062a9324-8395-4ca2-d8e7-a8d8a30417cc"
      },
      "outputs": [
        {
          "name": "stdout",
          "output_type": "stream",
          "text": [
            "['00' '000' '0000' ... 'zzzzzzzzzzzzzz' 'zzzzzzzzzzzzzzzzzzzzzz'\n",
            " 'zzzzzzzzzzzzzzzzzzzzzzzzzzzzzzzzzzzzzzzzzzzzzzzzzzzzzzzzzzzzzzzzzzzzzzzz']\n"
          ]
        }
      ],
      "source": [
        "print(text_vectorizer.get_feature_names_out())"
      ]
    },
    {
      "cell_type": "code",
      "execution_count": null,
      "metadata": {
        "id": "bv5Fpa4xiANC"
      },
      "outputs": [],
      "source": [
        "# Explain predictions using SHAP\n",
        "explainer = shap.Explainer(model, X_train, feature_names=text_vectorizer.get_feature_names_out())\n",
        "shap_values =explainer.shap_values(X_test)\n",
        "\n",
        "# Plot SHAP values\n",
        "shap.summary_plot(shap_values, X_test, feature_names=text_vectorizer.get_feature_names_out())"
      ]
    },
    {
      "cell_type": "code",
      "execution_count": null,
      "metadata": {
        "id": "FE66S8eOifw8"
      },
      "outputs": [],
      "source": []
    }
  ],
  "metadata": {
    "accelerator": "GPU",
    "colab": {
      "gpuType": "T4",
      "provenance": []
    },
    "kernelspec": {
      "display_name": "Python 3",
      "name": "python3"
    },
    "language_info": {
      "name": "python"
    }
  },
  "nbformat": 4,
  "nbformat_minor": 0
}